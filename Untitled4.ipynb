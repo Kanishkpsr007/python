{
 "cells": [
  {
   "cell_type": "code",
   "execution_count": 1,
   "metadata": {},
   "outputs": [],
   "source": [
    "import pymysql as sql\n",
    "from getpass import getpass\n",
    "def new_acc():\n",
    "    print(\"\\n\")\n",
    "    print(\"*#\"*50+\"\\n\")\n",
    "    print(\"\\n\"+\"\\t\"*5+\"New Account\\n\")\n",
    "    print(\"*#\"*50)\n",
    "    fname=input(\"\\n\"+\"\\t\"*5+\"Enter First Name->\")\n",
    "    fname=isc(fname)\n",
    "    lname=input(\"\\n\"+\"\\t\"*5+\"Enter last Name->\")\n",
    "    lname=isc(lname)\n",
    "    mob=input(\"\\n\"+\"\\t\"*5+\"Enter Mobile Number->\")\n",
    "    mob=isi(mob)\n",
    "    mob=valid(mob)\n",
    "    dob=input(\"\\n\"+\"\\t\"*5+\"Enter Date of birth in format YYYY-MM-DD->\")\n",
    "    add=input(\"\\n\"+\"\\t\"*5+\"Enter Address->\")\n",
    "    aad=input(\"\\n\"+\"\\t\"*5+\"Enter Aadhar number->\")\n",
    "    aad=isi(aad)\n",
    "    aad=valida(aad)\n",
    "    unm=input(\"\\n\"+\"\\t\"*5+\"Enter User name->\")\n",
    "    pas=getpass(\"\\n\"+\"\\t\"*5+\"Enter Password->\")\n",
    "    db=sql.connect(host=\"localhost\",port=3306,user=\"root\",password=\"root\",database=\"bankapp\")\n",
    "    c = db.cursor()\n",
    "    cmd=\"insert into new_acc(fname,lname,mobno,dob,address,aadhar,username,password) values('{}','{}','{}','{}','{}',{},'{}','{}')\".format(fname,lname,mob,dob,add,aad,unm,pas)\n",
    "    c.execute(cmd)\n",
    "    db.commit()\n",
    "    print(\"\\n\"+\"\\t\"*5+\"New Account Added!\")\n",
    "    print(\"Your account number is->\",a)\n",
    "    a=input(\"\\n\"+\"\\t\"*5+\"Back to Main Menu (yes or no ?)->\")\n",
    "    ex(a) "
   ]
  },
  {
   "cell_type": "code",
   "execution_count": 2,
   "metadata": {},
   "outputs": [
    {
     "name": "stdout",
     "output_type": "stream",
     "text": [
      "\n",
      "\n",
      "*#*#*#*#*#*#*#*#*#*#*#*#*#*#*#*#*#*#*#*#*#*#*#*#*#*#*#*#*#*#*#*#*#*#*#*#*#*#*#*#*#*#*#*#*#*#*#*#*#*#\n",
      "\n",
      "\n",
      "\t\t\t\t\tNew Account\n",
      "\n",
      "*#*#*#*#*#*#*#*#*#*#*#*#*#*#*#*#*#*#*#*#*#*#*#*#*#*#*#*#*#*#*#*#*#*#*#*#*#*#*#*#*#*#*#*#*#*#*#*#*#*#\n",
      "\n",
      "\t\t\t\t\tEnter First Name->kanishk\n",
      "\n",
      "\t\t\t\t\tEnter last Name->rajawat\n",
      "\n",
      "\t\t\t\t\tEnter Mobile Number->8890865541\n",
      "\n",
      "\t\t\t\t\tEnter Date of birth in format YYYY-MM-DD->1998-11-07\n",
      "\n",
      "\t\t\t\t\tEnter Address->41,devi path behind soni hospital\n",
      "\n",
      "\t\t\t\t\tEnter Aadhar number->123456789123\n",
      "\n",
      "\t\t\t\t\tEnter User name->kpsingh\n",
      "\n",
      "\t\t\t\t\tEnter Password->········\n",
      "\n",
      "\t\t\t\t\tNew Account Added!\n",
      "\n",
      "\t\t\t\t\tBack to Main Menu (yes or no ?)->yes\n"
     ]
    }
   ],
   "source": [
    "new_acc(\n",
    ")"
   ]
  },
  {
   "cell_type": "code",
   "execution_count": 5,
   "metadata": {},
   "outputs": [],
   "source": [
    "import pymysql as sql\n",
    "db = sql.connect(host=\"localhost\",port=3306,user=\"root\",password=\"\",database=\"bankapp\")\n",
    "c = db.cursor()\n",
    "cmd = \"select * from new_acc\"\n",
    "c.execute(cmd)\n",
    "data = c.fetchall()"
   ]
  },
  {
   "cell_type": "code",
   "execution_count": 10,
   "metadata": {},
   "outputs": [],
   "source": [
    "import pymysql as sql\n",
    "from getpass import getpass\n",
    "def new_acc():\n",
    "    print(\"\\n\")\n",
    "    print(\"*#\"*50+\"\\n\")\n",
    "    print(\"\\n\"+\"\\t\"*5+\"New Account\\n\")\n",
    "    print(\"*#\"*50)\n",
    "    fname=input(\"\\n\"+\"\\t\"*5+\"Enter First Name->\")\n",
    "    fname=isc(fname)\n",
    "    lname=input(\"\\n\"+\"\\t\"*5+\"Enter last Name->\")\n",
    "    lname=isc(lname)\n",
    "    mob=input(\"\\n\"+\"\\t\"*5+\"Enter Mobile Number->\")\n",
    "    mob=isi(mob)\n",
    "    mob=valid(mob)\n",
    "    dob=input(\"\\n\"+\"\\t\"*5+\"Enter Date of birth in format YYYY-MM-DD->\")\n",
    "    add=input(\"\\n\"+\"\\t\"*5+\"Enter Address->\")\n",
    "    aad=input(\"\\n\"+\"\\t\"*5+\"Enter Aadhar number->\")\n",
    "    aad=isi(aad)\n",
    "    aad=valida(aad)\n",
    "    unm=input(\"\\n\"+\"\\t\"*5+\"Enter User name->\")\n",
    "    pas=getpass(\"\\n\"+\"\\t\"*5+\"Enter Password->\")\n",
    "    db=sql.connect(host=\"localhost\",port=3306,user=\"root\",password=\"\",database=\"bankapp\")\n",
    "    c = db.cursor()\n",
    "    cmd=\"insert into new_acc(fname,lname,mobno,dob,address,aadhar,username,password,deposit,loan) values('{}','{}','{}','{}','{}',{},'{}','{}',1000,0)\".format(fname,lname,mob,dob,add,aad,unm,pas)\n",
    "    c.execute(cmd)\n",
    "    db.commit()\n",
    "    db = sql.connect(host=\"localhost\",port=3306,user=\"root\",password=\"\",database=\"bankapp\")\n",
    "    c = db.cursor()\n",
    "    cmd = f\"select * from new_acc where aadhar={aad}\"\n",
    "    c.execute(cmd)\n",
    "    data = c.fetchone()\n",
    "    print(\"\\n\"+\"\\t\"*5+\"New Account Added!\")\n",
    "    print(\"\\n\"+\"\\t\"*5+\"Your account number is->\",data[0])\n",
    "    a=input(\"\\n\"+\"\\t\"*5+\"Back to Main Menu (yes or no ?)->\")\n",
    "    ex(a) "
   ]
  },
  {
   "cell_type": "code",
   "execution_count": 11,
   "metadata": {},
   "outputs": [
    {
     "name": "stdout",
     "output_type": "stream",
     "text": [
      "\n",
      "\n",
      "*#*#*#*#*#*#*#*#*#*#*#*#*#*#*#*#*#*#*#*#*#*#*#*#*#*#*#*#*#*#*#*#*#*#*#*#*#*#*#*#*#*#*#*#*#*#*#*#*#*#\n",
      "\n",
      "\n",
      "\t\t\t\t\tNew Account\n",
      "\n",
      "*#*#*#*#*#*#*#*#*#*#*#*#*#*#*#*#*#*#*#*#*#*#*#*#*#*#*#*#*#*#*#*#*#*#*#*#*#*#*#*#*#*#*#*#*#*#*#*#*#*#\n",
      "\n",
      "\t\t\t\t\tEnter First Name->kanishk\n",
      "\n",
      "\t\t\t\t\tEnter last Name->rajawat\n",
      "\n",
      "\t\t\t\t\tEnter Mobile Number->8890865541\n",
      "\n",
      "\t\t\t\t\tEnter Date of birth in format YYYY-MM-DD->1998-11-07\n",
      "\n",
      "\t\t\t\t\tEnter Address->41,devi path\n",
      "\n",
      "\t\t\t\t\tEnter Aadhar number->123456789123\n",
      "\n",
      "\t\t\t\t\tEnter User name->kpsingh\n",
      "\n",
      "\t\t\t\t\tEnter Password->········\n",
      "\n",
      "\t\t\t\t\tNew Account Added!\n",
      "\n",
      "\t\t\t\t\tYour account number is-> 1\n",
      "\n",
      "\t\t\t\t\tBack to Main Menu (yes or no ?)->no\n"
     ]
    }
   ],
   "source": [
    "new_acc()"
   ]
  },
  {
   "cell_type": "code",
   "execution_count": 5,
   "metadata": {},
   "outputs": [],
   "source": [
    "import pymysql as sql\n",
    "def deposit():\n",
    "    print(\"\\n\")\n",
    "    print(\"*#\"*50+\"\\n\")\n",
    "    print(\"\\n\"+\"\\t\"*5+\"Deposit\\n\")\n",
    "    print(\"*#\"*50)\n",
    "    accno1=input(\"\\t\"*5+\"Enter Account Number->\")\n",
    "    accno=isi(accno1)\n",
    "    db = sql.connect(host=\"localhost\",port=3306,user=\"root\",password=\"\",database=\"bankapp\")\n",
    "    c = db.cursor()\n",
    "    cmd = f\"select accno from new_acc\"\n",
    "    c.execute(cmd)\n",
    "    data = c.fetchall()\n",
    "    print(\"\\n\")\n",
    "    f=0\n",
    "    for var in range(len(data)):\n",
    "        if data[var]==(int(accno1),):\n",
    "            f=1\n",
    "            break\n",
    "        else:\n",
    "            f=0\n",
    "    if f==0:\n",
    "        print(\"\\n\"+\"\\t\"*5+\"Enter valid Account number!!\")\n",
    "        sleep(1.5)\n",
    "        os.system(\"cls\")\n",
    "        deposit()\n",
    "    else:\n",
    "        amnt=int(input(\"\\n\"+\"\\t\"*5+\"Enter Amount to Deposit->\"))\n",
    "        while True:\n",
    "            if amnt<0:\n",
    "                print(\"\\n\"+\"\\t\"*5+\"Amount cannot be negative\")\n",
    "                amnt=int(input(\"\\n\"+\"\\t\"*5+\"Re-enter Amount->\"))\n",
    "            elif amnt==0:\n",
    "                print(\"\\n\"+\"\\t\"*5+\"Amount cannot be Zero\")\n",
    "                amnt=int(input(\"\\n\"+\"\\t\"*5+\"Re-enter Amount->\"))\n",
    "            else:\n",
    "                break\n",
    "        print(\"\\n\")\n",
    "        cmd=f\"update new_acc set deposit=deposit+{amnt} where accno={accno1}\"\n",
    "        c = db.cursor()\n",
    "        c.execute(cmd)\n",
    "        db.commit()\n",
    "        a=input(\"\\t\"*5+\"Back to Main Menu(yes or no)?->\")\n",
    "        ex(a) "
   ]
  },
  {
   "cell_type": "code",
   "execution_count": 6,
   "metadata": {},
   "outputs": [
    {
     "name": "stdout",
     "output_type": "stream",
     "text": [
      "\n",
      "\n",
      "*#*#*#*#*#*#*#*#*#*#*#*#*#*#*#*#*#*#*#*#*#*#*#*#*#*#*#*#*#*#*#*#*#*#*#*#*#*#*#*#*#*#*#*#*#*#*#*#*#*#\n",
      "\n",
      "\n",
      "\t\t\t\t\tDeposit\n",
      "\n",
      "*#*#*#*#*#*#*#*#*#*#*#*#*#*#*#*#*#*#*#*#*#*#*#*#*#*#*#*#*#*#*#*#*#*#*#*#*#*#*#*#*#*#*#*#*#*#*#*#*#*#\n",
      "\t\t\t\t\tEnter Account Number->4\n",
      "\n",
      "\n",
      "\n",
      "\t\t\t\t\tEnter valid Account number!!\n",
      "\n",
      "\n",
      "*#*#*#*#*#*#*#*#*#*#*#*#*#*#*#*#*#*#*#*#*#*#*#*#*#*#*#*#*#*#*#*#*#*#*#*#*#*#*#*#*#*#*#*#*#*#*#*#*#*#\n",
      "\n",
      "\n",
      "\t\t\t\t\tDeposit\n",
      "\n",
      "*#*#*#*#*#*#*#*#*#*#*#*#*#*#*#*#*#*#*#*#*#*#*#*#*#*#*#*#*#*#*#*#*#*#*#*#*#*#*#*#*#*#*#*#*#*#*#*#*#*#\n",
      "\t\t\t\t\tEnter Account Number->1\n",
      "\n",
      "\n",
      "\n",
      "\t\t\t\t\tEnter Amount to Deposit->2000\n",
      "\n",
      "\n",
      "\t\t\t\t\tBack to Main Menu(yes or no)?->no\n"
     ]
    }
   ],
   "source": [
    "deposit()"
   ]
  },
  {
   "cell_type": "code",
   "execution_count": 7,
   "metadata": {},
   "outputs": [
    {
     "data": {
      "text/plain": [
       "'kanishk'"
      ]
     },
     "execution_count": 7,
     "metadata": {},
     "output_type": "execute_result"
    }
   ],
   "source": [
    "data[0][1]"
   ]
  },
  {
   "cell_type": "code",
   "execution_count": 5,
   "metadata": {},
   "outputs": [
    {
     "name": "stdout",
     "output_type": "stream",
     "text": [
      "0\n"
     ]
    }
   ],
   "source": [
    "for var in range(len(data)):\n",
    "    if data[var][0]==1:\n",
    "        print(var)"
   ]
  },
  {
   "cell_type": "code",
   "execution_count": 4,
   "metadata": {},
   "outputs": [
    {
     "data": {
      "text/plain": [
       "range(0, 3)"
      ]
     },
     "execution_count": 4,
     "metadata": {},
     "output_type": "execute_result"
    }
   ],
   "source": [
    "range(len(data))"
   ]
  },
  {
   "cell_type": "code",
   "execution_count": 10,
   "metadata": {},
   "outputs": [],
   "source": [
    " f=0\n",
    "for var in range(len(data)):\n",
    "    if data[var][0]==3:\n",
    "        f=1\n",
    "        break\n",
    "    else:\n",
    "        f=0"
   ]
  },
  {
   "cell_type": "code",
   "execution_count": 11,
   "metadata": {},
   "outputs": [
    {
     "data": {
      "text/plain": [
       "1"
      ]
     },
     "execution_count": 11,
     "metadata": {},
     "output_type": "execute_result"
    }
   ],
   "source": [
    "f\n"
   ]
  },
  {
   "cell_type": "code",
   "execution_count": 12,
   "metadata": {},
   "outputs": [
    {
     "data": {
      "text/plain": [
       "((1,\n",
       "  'kanishk',\n",
       "  'rajawat',\n",
       "  8890865541,\n",
       "  datetime.date(1998, 11, 7),\n",
       "  '41,devi path',\n",
       "  123456789123,\n",
       "  'kpsingh',\n",
       "  'abcd',\n",
       "  4000,\n",
       "  0),\n",
       " (2,\n",
       "  'shubham',\n",
       "  'sharma',\n",
       "  7263548292,\n",
       "  datetime.date(1998, 6, 2),\n",
       "  '23,edasxda',\n",
       "  125376823872,\n",
       "  'ss',\n",
       "  'abcd',\n",
       "  2100,\n",
       "  0),\n",
       " (3,\n",
       "  'rudra',\n",
       "  'pratap',\n",
       "  3425172635,\n",
       "  datetime.date(2000, 12, 12),\n",
       "  '123,indore',\n",
       "  647243758466,\n",
       "  'rudra',\n",
       "  'abcd',\n",
       "  2000,\n",
       "  0))"
      ]
     },
     "execution_count": 12,
     "metadata": {},
     "output_type": "execute_result"
    }
   ],
   "source": [
    "data"
   ]
  },
  {
   "cell_type": "code",
   "execution_count": 3,
   "metadata": {},
   "outputs": [],
   "source": [
    "import pymysql as sql\n",
    "def with_draw():\n",
    "    print(\"\\n\")\n",
    "    print(\"*#\"*50+\"\\n\")\n",
    "    print(\"\\n\"+\"\\t\"*5+\"Withdrawl\\n\")\n",
    "    print(\"*#\"*50)\n",
    "    db = sql.connect(host=\"localhost\",port=3306,user=\"root\",password=\"\",database=\"bankapp\")\n",
    "    c = db.cursor()\n",
    "    cmd = \"select * from new_acc\"\n",
    "    c.execute(cmd)\n",
    "    data = c.fetchall()\n",
    "    accno1=input(\"\\n\"+\"\\t\"*5+\"Enter Account Number->\")\n",
    "    accno=isi(accno1)\n",
    "    f=0\n",
    "    for var in range(len(data)):\n",
    "        if data[var][0]==int(accno1):\n",
    "            f=1\n",
    "            break\n",
    "        else:\n",
    "            f=0\n",
    "    if f==0:\n",
    "        print(\"\\n\"+\"\\t\"*5+\"Enter valid Account number!!\")\n",
    "        sleep(1.5)\n",
    "        os.system(\"cls\")\n",
    "        with_draw()\n",
    "    else:\n",
    "        unm=input(\"\\n\"+\"\\t\"*5+\"Enter Username->\")\n",
    "        pwd=input(\"\\n\"+\"\\t\"*5+\"Enter Password->\")\n",
    "        if data[var][7]!=unm or data[var][8]!=pwd:\n",
    "            print(\"\\n\"+\"\\t\"*5+\"Enter Correct Username/Password!!\")\n",
    "            with_draw()\n",
    "        else:\n",
    "            if data[var][9]!=0:\n",
    "                amnt=int(input(\"\\n\"+\"\\t\"*5+\"Enter Withdrwal Amount->\"))\n",
    "                if amnt <0:\n",
    "                    print(\"\\n\"+\"\\t\"*5+\"Amount cannot be negative\")\n",
    "                    with_draw()\n",
    "                elif amnt==0:\n",
    "                    if data[var][9]!=0:   \n",
    "                        print(\"\\n\"+\"\\t\"*5+\"Amount cannot be zero\")\n",
    "                        with_draw()\n",
    "                elif data[var][9]>=amnt:\n",
    "                    cmd=f\"update new_acc set deposit=deposit-{amnt} where accno={accno1}\"\n",
    "                    c = db.cursor()\n",
    "                    c.execute(cmd)\n",
    "                    db.commit()\n",
    "                    a=input(\"\\n\"+\"\\t\"*5+\"Back to Main Menu (yes or no ?)\")\n",
    "                    #ex(a)    \n",
    "                else:\n",
    "                    print(\"\\n\")\n",
    "                    print(\"*!\"*50+\"\\n\")\n",
    "                    print(\"\\n\"+\"\\t\"*5+\"Insufficient Balance\\n\")\n",
    "                    print(\"*!\"*50)\n",
    "                    with_draw()\n",
    "            else:\n",
    "                print(\"\\n\")\n",
    "                print(\"*!\"*50+\"\\n\")\n",
    "                print(\"\\n\"+\"\\t\"*5+\"Your current balance is zero\\n\")\n",
    "                print(\"*!\"*50)\n",
    "                sleep(2)\n",
    "                os.system(\"cls\")\n",
    "                op1()"
   ]
  },
  {
   "cell_type": "code",
   "execution_count": 4,
   "metadata": {},
   "outputs": [
    {
     "name": "stdout",
     "output_type": "stream",
     "text": [
      "\n",
      "\n",
      "*#*#*#*#*#*#*#*#*#*#*#*#*#*#*#*#*#*#*#*#*#*#*#*#*#*#*#*#*#*#*#*#*#*#*#*#*#*#*#*#*#*#*#*#*#*#*#*#*#*#\n",
      "\n",
      "\n",
      "\t\t\t\t\tWithdrawl\n",
      "\n",
      "*#*#*#*#*#*#*#*#*#*#*#*#*#*#*#*#*#*#*#*#*#*#*#*#*#*#*#*#*#*#*#*#*#*#*#*#*#*#*#*#*#*#*#*#*#*#*#*#*#*#\n",
      "\n",
      "\t\t\t\t\tEnter Account Number->4\n",
      "\n",
      "\t\t\t\t\tEnter valid Account number!!\n",
      "\n",
      "\n",
      "*#*#*#*#*#*#*#*#*#*#*#*#*#*#*#*#*#*#*#*#*#*#*#*#*#*#*#*#*#*#*#*#*#*#*#*#*#*#*#*#*#*#*#*#*#*#*#*#*#*#\n",
      "\n",
      "\n",
      "\t\t\t\t\tWithdrawl\n",
      "\n",
      "*#*#*#*#*#*#*#*#*#*#*#*#*#*#*#*#*#*#*#*#*#*#*#*#*#*#*#*#*#*#*#*#*#*#*#*#*#*#*#*#*#*#*#*#*#*#*#*#*#*#\n",
      "\n",
      "\t\t\t\t\tEnter Account Number->1\n",
      "\n",
      "\t\t\t\t\tEnter Username->kp\n",
      "\n",
      "\t\t\t\t\tEnter Password->se\n",
      "\n",
      "\t\t\t\t\tEnter Correct Username/Password!!\n",
      "\n",
      "\n",
      "*#*#*#*#*#*#*#*#*#*#*#*#*#*#*#*#*#*#*#*#*#*#*#*#*#*#*#*#*#*#*#*#*#*#*#*#*#*#*#*#*#*#*#*#*#*#*#*#*#*#\n",
      "\n",
      "\n",
      "\t\t\t\t\tWithdrawl\n",
      "\n",
      "*#*#*#*#*#*#*#*#*#*#*#*#*#*#*#*#*#*#*#*#*#*#*#*#*#*#*#*#*#*#*#*#*#*#*#*#*#*#*#*#*#*#*#*#*#*#*#*#*#*#\n",
      "\n",
      "\t\t\t\t\tEnter Account Number->1\n",
      "\n",
      "\t\t\t\t\tEnter Username->kpsingh\n",
      "\n",
      "\t\t\t\t\tEnter Password->abcd\n",
      "\n",
      "\t\t\t\t\tEnter Withdrwal Amount->1000\n",
      "\n",
      "\t\t\t\t\tBack to Main Menu (yes or no ?)no\n"
     ]
    }
   ],
   "source": [
    "with_draw()"
   ]
  },
  {
   "cell_type": "code",
   "execution_count": 23,
   "metadata": {},
   "outputs": [],
   "source": [
    "import pymysql as sql\n",
    "def mgr():\n",
    "    print(\"\\n\")\n",
    "    print(\"*#\"*50)\n",
    "    print(\"\\n\"+\"\\t\"*5+\"Manager Login\\n\")\n",
    "    print(\"*#\"*50)\n",
    "    db = sql.connect(host=\"localhost\",port=3306,user=\"root\",password=\"\",database=\"bankapp\")\n",
    "    c = db.cursor()\n",
    "    cmd = \"select * from mgr\"\n",
    "    c.execute(cmd)\n",
    "    data = c.fetchall()\n",
    "    usr=input(\"\\n\"+\"\\t\"*5+\"Enter User ID->\")\n",
    "    usr=isi(usr)\n",
    "    f=0\n",
    "    for var in range(len(data)):\n",
    "        if data[var][0]==int(usr):\n",
    "            f=1\n",
    "            break\n",
    "        else:\n",
    "            f=0\n",
    "    if f==0:\n",
    "        print(\"\\n\"+\"\\t\"*5+\"Enter valid ID !!\")\n",
    "        sleep(1.5)\n",
    "        os.system(\"cls\")\n",
    "        mgr()\n",
    "    else:\n",
    "        pwd=input(\"\\n\"+\"\\t\"*5+\"Enter Password->\")\n",
    "        if data[var][1]!=pwd:\n",
    "            print(\"\\n\")\n",
    "            print(\"\\n\"+\"\\t\"*5+\"Invalid Password!\")\n",
    "            mgr()\n",
    "        else:\n",
    "            accno=input(\"\\n\"+\"\\t\"*5+\"Enter Account Number->\")\n",
    "            accno=isi(accno)\n",
    "            db = sql.connect(host=\"localhost\",port=3306,user=\"root\",password=\"\",database=\"bankapp\")\n",
    "            c = db.cursor()\n",
    "            cmd = \"select * from new_acc\"\n",
    "            c.execute(cmd)\n",
    "            data = c.fetchall()\n",
    "            f=0\n",
    "            for var in range(len(data)):\n",
    "                if data[var][0]==int(accno):\n",
    "                    f=1\n",
    "                    break\n",
    "                else:\n",
    "                    f=0\n",
    "            if f==0:\n",
    "                print(\"\\n\"+\"\\t\"*5+\"Enter valid Account Number !!\")\n",
    "                sleep(1.5)\n",
    "                os.system(\"cls\")\n",
    "                mgr()\n",
    "            else:\n",
    "                print(\"\\n\")\n",
    "                print(\"Details\".center(100,\"*\"))\n",
    "                print(\"\\n\"+\"\\t\"*5+\"First Name->\",data[var][1])\n",
    "                print(\"\\n\"+\"\\t\"*5+\"Last Name->\",data[var][2])\n",
    "                print(\"\\n\"+\"\\t\"*5+\"Mobile Number->\",data[var][3])\n",
    "                print(\"\\n\"+\"\\t\"*5+\"Date of Birth->\",data[var][4])\n",
    "                print(\"\\n\"+\"\\t\"*5+\"Address->\",data[var][5])\n",
    "                print(\"\\n\"+\"\\t\"*5+\"Aadhar->\",data[var][6])\n",
    "                print(\"\\n\"+\"\\t\"*5+\"Deposit->\",data[var][9])\n",
    "                print(\"\\n\"+\"\\t\"*5+\"Loan->\",data[var][10])\n",
    "                a=input(\"\\n\"+\"\\t\"*5+\"Back to Main Menu (yes or no ?)->\")\n",
    "                ex(a) "
   ]
  },
  {
   "cell_type": "code",
   "execution_count": 24,
   "metadata": {},
   "outputs": [
    {
     "name": "stdout",
     "output_type": "stream",
     "text": [
      "\n",
      "\n",
      "*#*#*#*#*#*#*#*#*#*#*#*#*#*#*#*#*#*#*#*#*#*#*#*#*#*#*#*#*#*#*#*#*#*#*#*#*#*#*#*#*#*#*#*#*#*#*#*#*#*#\n",
      "\n",
      "\t\t\t\t\tManager Login\n",
      "\n",
      "*#*#*#*#*#*#*#*#*#*#*#*#*#*#*#*#*#*#*#*#*#*#*#*#*#*#*#*#*#*#*#*#*#*#*#*#*#*#*#*#*#*#*#*#*#*#*#*#*#*#\n",
      "\n",
      "\t\t\t\t\tEnter User ID->4\n",
      "\n",
      "\t\t\t\t\tEnter valid ID !!\n",
      "\n",
      "\n",
      "*#*#*#*#*#*#*#*#*#*#*#*#*#*#*#*#*#*#*#*#*#*#*#*#*#*#*#*#*#*#*#*#*#*#*#*#*#*#*#*#*#*#*#*#*#*#*#*#*#*#\n",
      "\n",
      "\t\t\t\t\tManager Login\n",
      "\n",
      "*#*#*#*#*#*#*#*#*#*#*#*#*#*#*#*#*#*#*#*#*#*#*#*#*#*#*#*#*#*#*#*#*#*#*#*#*#*#*#*#*#*#*#*#*#*#*#*#*#*#\n",
      "\n",
      "\t\t\t\t\tEnter User ID->1234\n",
      "\n",
      "\t\t\t\t\tEnter Password->kps\n",
      "\n",
      "\n",
      "\n",
      "\t\t\t\t\tInvalid Password!\n",
      "\n",
      "\n",
      "*#*#*#*#*#*#*#*#*#*#*#*#*#*#*#*#*#*#*#*#*#*#*#*#*#*#*#*#*#*#*#*#*#*#*#*#*#*#*#*#*#*#*#*#*#*#*#*#*#*#\n",
      "\n",
      "\t\t\t\t\tManager Login\n",
      "\n",
      "*#*#*#*#*#*#*#*#*#*#*#*#*#*#*#*#*#*#*#*#*#*#*#*#*#*#*#*#*#*#*#*#*#*#*#*#*#*#*#*#*#*#*#*#*#*#*#*#*#*#\n",
      "\n",
      "\t\t\t\t\tEnter User ID->1234\n",
      "\n",
      "\t\t\t\t\tEnter Password->abcd\n",
      "\n",
      "\t\t\t\t\tEnter Account Number->4\n",
      "\n",
      "\t\t\t\t\tEnter valid Account Number !!\n",
      "\n",
      "\n",
      "*#*#*#*#*#*#*#*#*#*#*#*#*#*#*#*#*#*#*#*#*#*#*#*#*#*#*#*#*#*#*#*#*#*#*#*#*#*#*#*#*#*#*#*#*#*#*#*#*#*#\n",
      "\n",
      "\t\t\t\t\tManager Login\n",
      "\n",
      "*#*#*#*#*#*#*#*#*#*#*#*#*#*#*#*#*#*#*#*#*#*#*#*#*#*#*#*#*#*#*#*#*#*#*#*#*#*#*#*#*#*#*#*#*#*#*#*#*#*#\n",
      "\n",
      "\t\t\t\t\tEnter User ID->1234\n",
      "\n",
      "\t\t\t\t\tEnter Password->abcd\n",
      "\n",
      "\t\t\t\t\tEnter Account Number->1\n",
      "\n",
      "\n",
      "**********************************************Details***********************************************\n",
      "\n",
      "\t\t\t\t\tFirst Name-> kpsingh\n",
      "\n",
      "\t\t\t\t\tLast Name-> rajawat\n",
      "\n",
      "\t\t\t\t\tMobile Number-> 8890865540\n",
      "\n",
      "\t\t\t\t\tDate of Birth-> 1998-11-07\n",
      "\n",
      "\t\t\t\t\tAddress-> 41,devi path\n",
      "\n",
      "\t\t\t\t\tAadhar-> 123456789123\n",
      "\n",
      "\t\t\t\t\tDeposit-> 3000\n",
      "\n",
      "\t\t\t\t\tLoan-> 0\n",
      "\n",
      "\t\t\t\t\tBack to Main Menu (yes or no ?)->no\n"
     ]
    }
   ],
   "source": [
    "mgr()"
   ]
  },
  {
   "cell_type": "code",
   "execution_count": null,
   "metadata": {},
   "outputs": [],
   "source": []
  }
 ],
 "metadata": {
  "kernelspec": {
   "display_name": "Python 3",
   "language": "python",
   "name": "python3"
  },
  "language_info": {
   "codemirror_mode": {
    "name": "ipython",
    "version": 3
   },
   "file_extension": ".py",
   "mimetype": "text/x-python",
   "name": "python",
   "nbconvert_exporter": "python",
   "pygments_lexer": "ipython3",
   "version": "3.7.3"
  }
 },
 "nbformat": 4,
 "nbformat_minor": 2
}
