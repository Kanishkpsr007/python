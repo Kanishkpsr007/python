{
 "cells": [
  {
   "cell_type": "code",
   "execution_count": 1,
   "metadata": {},
   "outputs": [],
   "source": [
    "import socket"
   ]
  },
  {
   "cell_type": "code",
   "execution_count": 3,
   "metadata": {},
   "outputs": [
    {
     "name": "stdout",
     "output_type": "stream",
     "text": [
      "The server socket is created\n",
      "The server is waiting for the client to get connected\n",
      "<socket.socket fd=736, family=AddressFamily.AF_INET, type=SocketKind.SOCK_STREAM, proto=0, laddr=('127.0.0.1', 12345), raddr=('127.0.0.1', 52999)>\n",
      "('127.0.0.1', 52999)\n"
     ]
    }
   ],
   "source": [
    "server_socket = socket.socket(socket.AF_INET,socket.SOCK_STREAM)\n",
    "print(\"The server socket is created\")\n",
    "host = \"127.0.0.1\"\n",
    "port= 12345\n",
    "server_socket.bind((host,port))\n",
    "server_socket.listen()\n",
    "print(\"The server is waiting for the client to get connected\")\n",
    "client_socket,client_addr = server_socket.accept()\n",
    "print(client_socket)\n",
    "print(client_addr)\n",
    "path = client_socket.recv(1024).decode().split(\"\\n\")[0].split()[1]\n",
    "#print(path)\n",
    "resp1 = \"\"\"HTTP 200 ok\n",
    "Content-Type:text/html\n",
    "\n",
    "\n",
    "<html>\n",
    "<body>\n",
    "<h1 style='color:red'>Welcome to path '/'</h1>\n",
    "<p style='color:blue'>This is socket program</p>\n",
    "</body>\n",
    "</html>\"\"\".encode()\n",
    "\n",
    "resp2 = \"\"\"HTTP 200 ok\n",
    "Content-Type:text/html\n",
    "\n",
    "\n",
    "<html>\n",
    "<body>\n",
    "<h1 style='color:red'>Welcome to path '/about'</h1>\n",
    "<p style='color:blue'>This is socket program</p>\n",
    "</body>\n",
    "</html>\"\"\".encode()\n",
    "\n",
    "resp3 = \"\"\"HTTP 200 ok\n",
    "Content-Type:text/html\n",
    "\n",
    "\n",
    "<html>\n",
    "<body>\n",
    "<h1 style='color:red'>No such path</h1>\n",
    "<p style='color:blue'>This is socket program</p>\n",
    "</body>\n",
    "</html>\"\"\".encode()\n",
    "\n",
    "if path == \"/\":\n",
    "    client_socket.send(resp1)\n",
    "elif path == \"/about\":\n",
    "    client_socket.send(resp2)\n",
    "else:\n",
    "    client_socket.send(resp3)"
   ]
  },
  {
   "cell_type": "code",
   "execution_count": null,
   "metadata": {},
   "outputs": [],
   "source": []
  }
 ],
 "metadata": {
  "kernelspec": {
   "display_name": "Python 3",
   "language": "python",
   "name": "python3"
  },
  "language_info": {
   "codemirror_mode": {
    "name": "ipython",
    "version": 3
   },
   "file_extension": ".py",
   "mimetype": "text/x-python",
   "name": "python",
   "nbconvert_exporter": "python",
   "pygments_lexer": "ipython3",
   "version": "3.7.3"
  }
 },
 "nbformat": 4,
 "nbformat_minor": 2
}
