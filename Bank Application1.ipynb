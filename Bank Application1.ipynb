{
 "cells": [
  {
   "cell_type": "code",
   "execution_count": 1,
   "metadata": {},
   "outputs": [],
   "source": [
    "def deposit():\n",
    "    import json\n",
    "    fp=open(\"E://Bank Application/Data.db\",\"r\")\n",
    "    data=json.load(fp)\n",
    "    fp.close()\n",
    "    accno=input(\"Enter Account Number\")\n",
    "    if accno not in data.keys():\n",
    "        print(\"Enter valid Account number\")\n",
    "        return\n",
    "    else:\n",
    "        amnt=int(input(\"Enter Amount to Deposit\"))\n",
    "        data[accno]['deposit']+=amnt\n",
    "        fp=open(\"E://Bank Application/Data.db\",\"w\")\n",
    "        json.dump(data,fp)\n",
    "        fp.close()\n",
    "    "
   ]
  },
  {
   "cell_type": "code",
   "execution_count": 50,
   "metadata": {},
   "outputs": [
    {
     "name": "stdout",
     "output_type": "stream",
     "text": [
      "Enter Account Number1234\n",
      "Enter Amount to Deposit2000\n"
     ]
    }
   ],
   "source": [
    "deposit()"
   ]
  },
  {
   "cell_type": "code",
   "execution_count": 9,
   "metadata": {},
   "outputs": [
    {
     "ename": "JSONDecodeError",
     "evalue": "Expecting value: line 1 column 1 (char 0)",
     "output_type": "error",
     "traceback": [
      "\u001b[1;31m---------------------------------------------------------------------------\u001b[0m",
      "\u001b[1;31mJSONDecodeError\u001b[0m                           Traceback (most recent call last)",
      "\u001b[1;32m<ipython-input-9-6257affc0f50>\u001b[0m in \u001b[0;36m<module>\u001b[1;34m\u001b[0m\n\u001b[0;32m      1\u001b[0m \u001b[1;32mimport\u001b[0m \u001b[0mjson\u001b[0m\u001b[1;33m\u001b[0m\u001b[1;33m\u001b[0m\u001b[0m\n\u001b[0;32m      2\u001b[0m \u001b[0mfp\u001b[0m\u001b[1;33m=\u001b[0m\u001b[0mopen\u001b[0m\u001b[1;33m(\u001b[0m\u001b[1;34m\"E://Bank Application/Data.db\"\u001b[0m\u001b[1;33m,\u001b[0m\u001b[1;34m\"r\"\u001b[0m\u001b[1;33m)\u001b[0m\u001b[1;33m\u001b[0m\u001b[1;33m\u001b[0m\u001b[0m\n\u001b[1;32m----> 3\u001b[1;33m \u001b[0mdata\u001b[0m\u001b[1;33m=\u001b[0m\u001b[0mjson\u001b[0m\u001b[1;33m.\u001b[0m\u001b[0mload\u001b[0m\u001b[1;33m(\u001b[0m\u001b[0mfp\u001b[0m\u001b[1;33m)\u001b[0m\u001b[1;33m\u001b[0m\u001b[1;33m\u001b[0m\u001b[0m\n\u001b[0m\u001b[0;32m      4\u001b[0m \u001b[0mfp\u001b[0m\u001b[1;33m.\u001b[0m\u001b[0mclose\u001b[0m\u001b[1;33m(\u001b[0m\u001b[1;33m)\u001b[0m\u001b[1;33m\u001b[0m\u001b[1;33m\u001b[0m\u001b[0m\n",
      "\u001b[1;32mC:\\ProgramData\\Anaconda3\\lib\\json\\__init__.py\u001b[0m in \u001b[0;36mload\u001b[1;34m(fp, cls, object_hook, parse_float, parse_int, parse_constant, object_pairs_hook, **kw)\u001b[0m\n\u001b[0;32m    294\u001b[0m         \u001b[0mcls\u001b[0m\u001b[1;33m=\u001b[0m\u001b[0mcls\u001b[0m\u001b[1;33m,\u001b[0m \u001b[0mobject_hook\u001b[0m\u001b[1;33m=\u001b[0m\u001b[0mobject_hook\u001b[0m\u001b[1;33m,\u001b[0m\u001b[1;33m\u001b[0m\u001b[1;33m\u001b[0m\u001b[0m\n\u001b[0;32m    295\u001b[0m         \u001b[0mparse_float\u001b[0m\u001b[1;33m=\u001b[0m\u001b[0mparse_float\u001b[0m\u001b[1;33m,\u001b[0m \u001b[0mparse_int\u001b[0m\u001b[1;33m=\u001b[0m\u001b[0mparse_int\u001b[0m\u001b[1;33m,\u001b[0m\u001b[1;33m\u001b[0m\u001b[1;33m\u001b[0m\u001b[0m\n\u001b[1;32m--> 296\u001b[1;33m         parse_constant=parse_constant, object_pairs_hook=object_pairs_hook, **kw)\n\u001b[0m\u001b[0;32m    297\u001b[0m \u001b[1;33m\u001b[0m\u001b[0m\n\u001b[0;32m    298\u001b[0m \u001b[1;33m\u001b[0m\u001b[0m\n",
      "\u001b[1;32mC:\\ProgramData\\Anaconda3\\lib\\json\\__init__.py\u001b[0m in \u001b[0;36mloads\u001b[1;34m(s, encoding, cls, object_hook, parse_float, parse_int, parse_constant, object_pairs_hook, **kw)\u001b[0m\n\u001b[0;32m    346\u001b[0m             \u001b[0mparse_int\u001b[0m \u001b[1;32mis\u001b[0m \u001b[1;32mNone\u001b[0m \u001b[1;32mand\u001b[0m \u001b[0mparse_float\u001b[0m \u001b[1;32mis\u001b[0m \u001b[1;32mNone\u001b[0m \u001b[1;32mand\u001b[0m\u001b[1;33m\u001b[0m\u001b[1;33m\u001b[0m\u001b[0m\n\u001b[0;32m    347\u001b[0m             parse_constant is None and object_pairs_hook is None and not kw):\n\u001b[1;32m--> 348\u001b[1;33m         \u001b[1;32mreturn\u001b[0m \u001b[0m_default_decoder\u001b[0m\u001b[1;33m.\u001b[0m\u001b[0mdecode\u001b[0m\u001b[1;33m(\u001b[0m\u001b[0ms\u001b[0m\u001b[1;33m)\u001b[0m\u001b[1;33m\u001b[0m\u001b[1;33m\u001b[0m\u001b[0m\n\u001b[0m\u001b[0;32m    349\u001b[0m     \u001b[1;32mif\u001b[0m \u001b[0mcls\u001b[0m \u001b[1;32mis\u001b[0m \u001b[1;32mNone\u001b[0m\u001b[1;33m:\u001b[0m\u001b[1;33m\u001b[0m\u001b[1;33m\u001b[0m\u001b[0m\n\u001b[0;32m    350\u001b[0m         \u001b[0mcls\u001b[0m \u001b[1;33m=\u001b[0m \u001b[0mJSONDecoder\u001b[0m\u001b[1;33m\u001b[0m\u001b[1;33m\u001b[0m\u001b[0m\n",
      "\u001b[1;32mC:\\ProgramData\\Anaconda3\\lib\\json\\decoder.py\u001b[0m in \u001b[0;36mdecode\u001b[1;34m(self, s, _w)\u001b[0m\n\u001b[0;32m    335\u001b[0m \u001b[1;33m\u001b[0m\u001b[0m\n\u001b[0;32m    336\u001b[0m         \"\"\"\n\u001b[1;32m--> 337\u001b[1;33m         \u001b[0mobj\u001b[0m\u001b[1;33m,\u001b[0m \u001b[0mend\u001b[0m \u001b[1;33m=\u001b[0m \u001b[0mself\u001b[0m\u001b[1;33m.\u001b[0m\u001b[0mraw_decode\u001b[0m\u001b[1;33m(\u001b[0m\u001b[0ms\u001b[0m\u001b[1;33m,\u001b[0m \u001b[0midx\u001b[0m\u001b[1;33m=\u001b[0m\u001b[0m_w\u001b[0m\u001b[1;33m(\u001b[0m\u001b[0ms\u001b[0m\u001b[1;33m,\u001b[0m \u001b[1;36m0\u001b[0m\u001b[1;33m)\u001b[0m\u001b[1;33m.\u001b[0m\u001b[0mend\u001b[0m\u001b[1;33m(\u001b[0m\u001b[1;33m)\u001b[0m\u001b[1;33m)\u001b[0m\u001b[1;33m\u001b[0m\u001b[1;33m\u001b[0m\u001b[0m\n\u001b[0m\u001b[0;32m    338\u001b[0m         \u001b[0mend\u001b[0m \u001b[1;33m=\u001b[0m \u001b[0m_w\u001b[0m\u001b[1;33m(\u001b[0m\u001b[0ms\u001b[0m\u001b[1;33m,\u001b[0m \u001b[0mend\u001b[0m\u001b[1;33m)\u001b[0m\u001b[1;33m.\u001b[0m\u001b[0mend\u001b[0m\u001b[1;33m(\u001b[0m\u001b[1;33m)\u001b[0m\u001b[1;33m\u001b[0m\u001b[1;33m\u001b[0m\u001b[0m\n\u001b[0;32m    339\u001b[0m         \u001b[1;32mif\u001b[0m \u001b[0mend\u001b[0m \u001b[1;33m!=\u001b[0m \u001b[0mlen\u001b[0m\u001b[1;33m(\u001b[0m\u001b[0ms\u001b[0m\u001b[1;33m)\u001b[0m\u001b[1;33m:\u001b[0m\u001b[1;33m\u001b[0m\u001b[1;33m\u001b[0m\u001b[0m\n",
      "\u001b[1;32mC:\\ProgramData\\Anaconda3\\lib\\json\\decoder.py\u001b[0m in \u001b[0;36mraw_decode\u001b[1;34m(self, s, idx)\u001b[0m\n\u001b[0;32m    353\u001b[0m             \u001b[0mobj\u001b[0m\u001b[1;33m,\u001b[0m \u001b[0mend\u001b[0m \u001b[1;33m=\u001b[0m \u001b[0mself\u001b[0m\u001b[1;33m.\u001b[0m\u001b[0mscan_once\u001b[0m\u001b[1;33m(\u001b[0m\u001b[0ms\u001b[0m\u001b[1;33m,\u001b[0m \u001b[0midx\u001b[0m\u001b[1;33m)\u001b[0m\u001b[1;33m\u001b[0m\u001b[1;33m\u001b[0m\u001b[0m\n\u001b[0;32m    354\u001b[0m         \u001b[1;32mexcept\u001b[0m \u001b[0mStopIteration\u001b[0m \u001b[1;32mas\u001b[0m \u001b[0merr\u001b[0m\u001b[1;33m:\u001b[0m\u001b[1;33m\u001b[0m\u001b[1;33m\u001b[0m\u001b[0m\n\u001b[1;32m--> 355\u001b[1;33m             \u001b[1;32mraise\u001b[0m \u001b[0mJSONDecodeError\u001b[0m\u001b[1;33m(\u001b[0m\u001b[1;34m\"Expecting value\"\u001b[0m\u001b[1;33m,\u001b[0m \u001b[0ms\u001b[0m\u001b[1;33m,\u001b[0m \u001b[0merr\u001b[0m\u001b[1;33m.\u001b[0m\u001b[0mvalue\u001b[0m\u001b[1;33m)\u001b[0m \u001b[1;32mfrom\u001b[0m \u001b[1;32mNone\u001b[0m\u001b[1;33m\u001b[0m\u001b[1;33m\u001b[0m\u001b[0m\n\u001b[0m\u001b[0;32m    356\u001b[0m         \u001b[1;32mreturn\u001b[0m \u001b[0mobj\u001b[0m\u001b[1;33m,\u001b[0m \u001b[0mend\u001b[0m\u001b[1;33m\u001b[0m\u001b[1;33m\u001b[0m\u001b[0m\n",
      "\u001b[1;31mJSONDecodeError\u001b[0m: Expecting value: line 1 column 1 (char 0)"
     ]
    }
   ],
   "source": [
    "import json\n",
    "fp=open(\"E://Bank Application/Data.db\",\"r\")\n",
    "data=json.load(fp)\n",
    "fp.close()"
   ]
  },
  {
   "cell_type": "code",
   "execution_count": 60,
   "metadata": {},
   "outputs": [
    {
     "data": {
      "text/plain": [
       "{'1234': {'fname': 'kanishk',\n",
       "  'lname': 'Rajawat',\n",
       "  'mob.no': 8890865541,\n",
       "  'address': '41,devipath,jaipur',\n",
       "  'deposit': 6000,\n",
       "  'loan': 0},\n",
       " '1235': {'fname': 'kanishk',\n",
       "  'lname': 'rajawat',\n",
       "  'mob.no': 8890865541,\n",
       "  'address': '41,devi path',\n",
       "  'aadhar': 1234,\n",
       "  'username': 'kpsr',\n",
       "  'password': '1234',\n",
       "  'deposit': 5000,\n",
       "  'loan': 0},\n",
       " '1256': {'fname': 'rudh',\n",
       "  'lname': 'rathore',\n",
       "  'mob.no': 78929829,\n",
       "  'address': '123ads',\n",
       "  'aadhar': 12345,\n",
       "  'username': 'ajk1',\n",
       "  'password': 'abcd1234',\n",
       "  'deposit': 0,\n",
       "  'loan': 0}}"
      ]
     },
     "execution_count": 60,
     "metadata": {},
     "output_type": "execute_result"
    }
   ],
   "source": [
    "data"
   ]
  },
  {
   "cell_type": "code",
   "execution_count": 14,
   "metadata": {},
   "outputs": [
    {
     "name": "stdout",
     "output_type": "stream",
     "text": [
      "good\n",
      "{'fname': 'kanishk', 'lname': 'Rajawat', 'mob.no': 8890865541, 'address': '41,devipath,jaipur', 'Deposit': 0}\n"
     ]
    }
   ],
   "source": [
    "if '1234' not in data.keys():\n",
    "    print(\"reenter\")\n",
    "else:\n",
    "    print(\"good\")\n",
    "    print(data['1234'])"
   ]
  },
  {
   "cell_type": "code",
   "execution_count": 50,
   "metadata": {},
   "outputs": [],
   "source": [
    "def new_acc():\n",
    "    import json\n",
    "    from getpass import getpass\n",
    "    fname=input(\"Enter First Name\")\n",
    "    lname=input(\"Enter last Name\")\n",
    "    mob=int(input(\"Enter Mobile Number\"))\n",
    "    dob=input(\"Enter Date of birth in format YYYY-MM-DD\")\n",
    "    add=input(\"Enter Address\")\n",
    "    aad=int(input(\"Enter Aadhar number\"))\n",
    "    unm=input(\"Enter User name\")\n",
    "    pas=getpass(\"Enter Password\")\n",
    "    fp=open(\"E://Bank Application/Data.db\",\"r\")\n",
    "    data=json.load(fp)\n",
    "    fp.close()\n",
    "    d={}\n",
    "    d.setdefault(\"fname\",fname);d.setdefault(\"lname\",lname);d.setdefault(\"mob.no\",mob);d.setdefault(\"dateofbirth\",dob);d.setdefault(\"address\",add);d.setdefault(\"aadhar\",aad)\n",
    "    d.setdefault(\"username\",unm);d.setdefault(\"password\",pas);d.setdefault(\"deposit\",0);d.setdefault(\"loan\",0)\n",
    "    if not data:\n",
    "        a=1\n",
    "    else:\n",
    "        for var in data.keys():\n",
    "            pass\n",
    "        var=int(var)\n",
    "        a=str(var+1)\n",
    "    data.setdefault(a,d)\n",
    "    fp=open(\"E://Bank Application/Data.db\",\"w\")\n",
    "    json.dump(data,fp)\n",
    "    fp.close()"
   ]
  },
  {
   "cell_type": "code",
   "execution_count": 51,
   "metadata": {},
   "outputs": [
    {
     "name": "stdout",
     "output_type": "stream",
     "text": [
      "Enter First Namekanishk\n",
      "Enter last Namerajawat\n",
      "Enter Mobile Number8890865541\n",
      "Enter Date of birth in format YYYY-MM-DD1998-11-07\n",
      "Enter Address41,devi path\n",
      "Enter Aadhar number123456\n",
      "Enter User namekpsr\n",
      "Enter Password········\n"
     ]
    }
   ],
   "source": [
    "new_acc()"
   ]
  },
  {
   "cell_type": "code",
   "execution_count": 52,
   "metadata": {},
   "outputs": [],
   "source": [
    "fp=open(\"E://Bank Application/Data.db\",\"r\")\n",
    "data=json.load(fp)\n",
    "fp.close()"
   ]
  },
  {
   "cell_type": "code",
   "execution_count": 53,
   "metadata": {},
   "outputs": [
    {
     "data": {
      "text/plain": [
       "{'1': {'fname': 'kanishk',\n",
       "  'lname': 'rajawat',\n",
       "  'mob.no': 8890865541,\n",
       "  'dateofbirth': '1998-11-07',\n",
       "  'address': '41,devi path',\n",
       "  'aadhar': 123456,\n",
       "  'username': 'kpsr',\n",
       "  'password': '1234',\n",
       "  'deposit': 0,\n",
       "  'loan': 0}}"
      ]
     },
     "execution_count": 53,
     "metadata": {},
     "output_type": "execute_result"
    }
   ],
   "source": [
    "data"
   ]
  },
  {
   "cell_type": "code",
   "execution_count": 73,
   "metadata": {},
   "outputs": [],
   "source": [
    "def with_draw():\n",
    "    import json\n",
    "    fp=open(\"E://Bank Application/Data.db\",\"r\")\n",
    "    data=json.load(fp)\n",
    "    fp.close()\n",
    "    accno=input(\"Enter Account Number\")\n",
    "    unm=input(\"Enter Username\")\n",
    "    pwd=input(\"Enter Password\")\n",
    "    if data[accno][\"username\"]!=unm or data[accno][\"password\"]!=pwd:\n",
    "        print(\"Enter Correct Username/Password\")\n",
    "        return\n",
    "    else:\n",
    "        amnt=int(input(\"Enter Withdrwal Amount\"))\n",
    "        if data[accno][\"deposit\"]>amnt:\n",
    "            data[accno][\"deposit\"]-=amnt\n",
    "            fp=open(\"E://Bank Application/Data.db\",\"w\")\n",
    "            json.dump(data,fp)\n",
    "            fp.close()\n",
    "        else:\n",
    "            print(\"Insufficient Balance!\")\n",
    "    "
   ]
  },
  {
   "cell_type": "code",
   "execution_count": 74,
   "metadata": {},
   "outputs": [
    {
     "name": "stdout",
     "output_type": "stream",
     "text": [
      "Enter Account Number1235\n",
      "Enter Usernamekpsr\n",
      "Enter Password1234\n",
      "Enter Withdrwal Amount300\n"
     ]
    }
   ],
   "source": [
    "with_draw()"
   ]
  },
  {
   "cell_type": "code",
   "execution_count": 75,
   "metadata": {},
   "outputs": [],
   "source": [
    "def check_bal():\n",
    "    import json\n",
    "    fp=open(\"E://Bank Application/Data.db\",\"r\")\n",
    "    data=json.load(fp)\n",
    "    fp.close()\n",
    "    accno=input(\"Enter Account Number\")\n",
    "    if accno not in data.keys():\n",
    "        print(\"Enter Valid Account Number\")\n",
    "    else:\n",
    "        unm=input(\"Enter Username\")\n",
    "        pwd=input(\"Enter Password\")\n",
    "        if data[accno][\"username\"]!=unm or data[accno][\"password\"]!=pwd:\n",
    "            print(\"Enter Correct Username/Password\")\n",
    "            return\n",
    "        else:\n",
    "            print(\"Remaining Balance is->\",data[accno][\"deposit\"])\n",
    "    "
   ]
  },
  {
   "cell_type": "code",
   "execution_count": 76,
   "metadata": {},
   "outputs": [
    {
     "name": "stdout",
     "output_type": "stream",
     "text": [
      "Enter Account Number1235\n",
      "Enter Usernamekpsr\n",
      "Enter Password1234\n",
      "Remaining Balance is-> 4700\n"
     ]
    }
   ],
   "source": [
    "check_bal()"
   ]
  },
  {
   "cell_type": "code",
   "execution_count": 270,
   "metadata": {},
   "outputs": [
    {
     "data": {
      "text/plain": [
       "{'1234': 'abc',\n",
       " '1235': {'fname': 'kjaskj',\n",
       "  'lname': 'jabsf',\n",
       "  'mob.no': 892374,\n",
       "  'dateofbirth': '9872-34-12',\n",
       "  'address': '12,awefa',\n",
       "  'aadhar': 234,\n",
       "  'username': 'kpsr',\n",
       "  'password': '1234',\n",
       "  'deposit': 0,\n",
       "  'loan': 1000000},\n",
       " '1236': {'fname': 'kanishk',\n",
       "  'lname': 'rajawat',\n",
       "  'mob.no': 8890865541,\n",
       "  'dateofbirth': '19998-11-07',\n",
       "  'address': '41,devi path',\n",
       "  'aadhar': 12334567,\n",
       "  'username': 'kpsingh',\n",
       "  'password': '12345',\n",
       "  'deposit': 0,\n",
       "  'loan': 0}}"
      ]
     },
     "execution_count": 270,
     "metadata": {},
     "output_type": "execute_result"
    }
   ],
   "source": [
    "data"
   ]
  },
  {
   "cell_type": "code",
   "execution_count": 78,
   "metadata": {},
   "outputs": [
    {
     "data": {
      "text/plain": [
       "dict_keys(['1234', '1235', '1256'])"
      ]
     },
     "execution_count": 78,
     "metadata": {},
     "output_type": "execute_result"
    }
   ],
   "source": [
    "data.keys()"
   ]
  },
  {
   "cell_type": "code",
   "execution_count": 89,
   "metadata": {},
   "outputs": [
    {
     "name": "stdout",
     "output_type": "stream",
     "text": [
      "1257\n"
     ]
    }
   ],
   "source": [
    "for var in data.keys():\n",
    "    pass\n",
    "var=int(var)\n",
    "a=str(var+1)\n",
    "print(a)"
   ]
  },
  {
   "cell_type": "code",
   "execution_count": 88,
   "metadata": {},
   "outputs": [
    {
     "data": {
      "text/plain": [
       "'1257'"
      ]
     },
     "execution_count": 88,
     "metadata": {},
     "output_type": "execute_result"
    }
   ],
   "source": [
    "a"
   ]
  },
  {
   "cell_type": "code",
   "execution_count": 90,
   "metadata": {},
   "outputs": [
    {
     "data": {
      "text/plain": [
       "{'1234': {'fname': 'kanishk',\n",
       "  'lname': 'Rajawat',\n",
       "  'mob.no': 8890865541,\n",
       "  'address': '41,devipath,jaipur',\n",
       "  'deposit': 6000,\n",
       "  'loan': 0},\n",
       " '1235': {'fname': 'kanishk',\n",
       "  'lname': 'rajawat',\n",
       "  'mob.no': 8890865541,\n",
       "  'address': '41,devi path',\n",
       "  'aadhar': 1234,\n",
       "  'username': 'kpsr',\n",
       "  'password': '1234',\n",
       "  'deposit': 5000,\n",
       "  'loan': 0},\n",
       " '1256': {'fname': 'rudh',\n",
       "  'lname': 'rathore',\n",
       "  'mob.no': 78929829,\n",
       "  'address': '123ads',\n",
       "  'aadhar': 12345,\n",
       "  'username': 'ajk1',\n",
       "  'password': 'abcd1234',\n",
       "  'deposit': 0,\n",
       "  'loan': 0}}"
      ]
     },
     "execution_count": 90,
     "metadata": {},
     "output_type": "execute_result"
    }
   ],
   "source": [
    "data"
   ]
  },
  {
   "cell_type": "code",
   "execution_count": 95,
   "metadata": {},
   "outputs": [
    {
     "data": {
      "text/plain": [
       "{'1234': {'fname': 'kanishk',\n",
       "  'lname': 'Rajawat',\n",
       "  'mob.no': 8890865541,\n",
       "  'address': '41,devipath,jaipur',\n",
       "  'deposit': 6000,\n",
       "  'loan': 0},\n",
       " '1235': {'fname': 'kanishk',\n",
       "  'lname': 'rajawat',\n",
       "  'mob.no': 8890865541,\n",
       "  'address': '41,devi path',\n",
       "  'aadhar': 1234,\n",
       "  'username': 'kpsr',\n",
       "  'password': '1234',\n",
       "  'deposit': 4700,\n",
       "  'loan': 0},\n",
       " '1256': {'fname': 'rudh',\n",
       "  'lname': 'rathore',\n",
       "  'mob.no': 78929829,\n",
       "  'address': '123ads',\n",
       "  'aadhar': 12345,\n",
       "  'username': 'ajk1',\n",
       "  'password': 'abcd1234',\n",
       "  'deposit': 0,\n",
       "  'loan': 0},\n",
       " '1257': {'fname': 'shubham',\n",
       "  'lname': 'sharma',\n",
       "  'mob.no': 8890,\n",
       "  'address': '34,asd',\n",
       "  'aadhar': 1234,\n",
       "  'username': 'sh',\n",
       "  'password': '123',\n",
       "  'deposit': 0,\n",
       "  'loan': 0}}"
      ]
     },
     "execution_count": 95,
     "metadata": {},
     "output_type": "execute_result"
    }
   ],
   "source": [
    "data"
   ]
  },
  {
   "cell_type": "code",
   "execution_count": 101,
   "metadata": {},
   "outputs": [
    {
     "data": {
      "text/plain": [
       "['__class__',\n",
       " '__contains__',\n",
       " '__delattr__',\n",
       " '__delitem__',\n",
       " '__dir__',\n",
       " '__doc__',\n",
       " '__eq__',\n",
       " '__format__',\n",
       " '__ge__',\n",
       " '__getattribute__',\n",
       " '__getitem__',\n",
       " '__gt__',\n",
       " '__hash__',\n",
       " '__init__',\n",
       " '__init_subclass__',\n",
       " '__iter__',\n",
       " '__le__',\n",
       " '__len__',\n",
       " '__lt__',\n",
       " '__ne__',\n",
       " '__new__',\n",
       " '__reduce__',\n",
       " '__reduce_ex__',\n",
       " '__repr__',\n",
       " '__setattr__',\n",
       " '__setitem__',\n",
       " '__sizeof__',\n",
       " '__str__',\n",
       " '__subclasshook__',\n",
       " 'clear',\n",
       " 'copy',\n",
       " 'fromkeys',\n",
       " 'get',\n",
       " 'items',\n",
       " 'keys',\n",
       " 'pop',\n",
       " 'popitem',\n",
       " 'setdefault',\n",
       " 'update',\n",
       " 'values']"
      ]
     },
     "execution_count": 101,
     "metadata": {},
     "output_type": "execute_result"
    }
   ],
   "source": [
    "dir(dict)"
   ]
  },
  {
   "cell_type": "code",
   "execution_count": 102,
   "metadata": {},
   "outputs": [
    {
     "data": {
      "text/plain": [
       "{'1234': {'fname': 'kanishk',\n",
       "  'lname': 'Rajawat',\n",
       "  'mob.no': 8890865541,\n",
       "  'address': '41,devipath,jaipur',\n",
       "  'deposit': 6000,\n",
       "  'loan': 0},\n",
       " '1235': {'fname': 'kanishk',\n",
       "  'lname': 'rajawat',\n",
       "  'mob.no': 8890865541,\n",
       "  'address': '41,devi path',\n",
       "  'aadhar': 1234,\n",
       "  'username': 'kpsr',\n",
       "  'password': '1234',\n",
       "  'deposit': 4700,\n",
       "  'loan': 0},\n",
       " '1256': {'fname': 'rudh',\n",
       "  'lname': 'rathore',\n",
       "  'mob.no': 78929829,\n",
       "  'address': '123ads',\n",
       "  'aadhar': 12345,\n",
       "  'username': 'ajk1',\n",
       "  'password': 'abcd1234',\n",
       "  'deposit': 0,\n",
       "  'loan': 0},\n",
       " '1257': {'fname': 'shubham',\n",
       "  'lname': 'sharma',\n",
       "  'mob.no': 8890,\n",
       "  'address': '34,asd',\n",
       "  'aadhar': 1234,\n",
       "  'username': 'sh',\n",
       "  'password': '123',\n",
       "  'deposit': 0,\n",
       "  'loan': 0},\n",
       " '1258': {'fname': 'kartik',\n",
       "  'lname': 'saraf',\n",
       "  'mob.no': 9889,\n",
       "  'dateofbirth': '2000-06-21',\n",
       "  'address': '56,ad',\n",
       "  'aadhar': 123,\n",
       "  'username': 'ks',\n",
       "  'password': '12',\n",
       "  'deposit': 0,\n",
       "  'loan': 0}}"
      ]
     },
     "execution_count": 102,
     "metadata": {},
     "output_type": "execute_result"
    }
   ],
   "source": [
    "data"
   ]
  },
  {
   "cell_type": "code",
   "execution_count": 128,
   "metadata": {},
   "outputs": [
    {
     "data": {
      "text/plain": [
       "{'fname': 'kanishk',\n",
       " 'lname': 'rajawat',\n",
       " 'mob.no': 8890865541,\n",
       " 'dateofbirth': '1998-07-11',\n",
       " 'address': '41,devi path',\n",
       " 'aadhar': 781287123,\n",
       " 'username': 'kpsr',\n",
       " 'password': '1234',\n",
       " 'deposit': 0,\n",
       " 'loan': 0}"
      ]
     },
     "execution_count": 128,
     "metadata": {},
     "output_type": "execute_result"
    }
   ],
   "source": [
    "data.pop('1259')"
   ]
  },
  {
   "cell_type": "code",
   "execution_count": 129,
   "metadata": {},
   "outputs": [
    {
     "data": {
      "text/plain": [
       "{}"
      ]
     },
     "execution_count": 129,
     "metadata": {},
     "output_type": "execute_result"
    }
   ],
   "source": [
    "data"
   ]
  },
  {
   "cell_type": "code",
   "execution_count": 130,
   "metadata": {},
   "outputs": [],
   "source": [
    "fp=open(\"E://Bank Application/Data.db\",\"w\")\n",
    "json.dump(data,fp)\n",
    "fp.close()"
   ]
  },
  {
   "cell_type": "code",
   "execution_count": 144,
   "metadata": {},
   "outputs": [],
   "source": [
    "fp=open(\"E://Bank Application/Data.db\",\"r\")\n",
    "data=json.load(fp)\n",
    "fp.close()"
   ]
  },
  {
   "cell_type": "code",
   "execution_count": 145,
   "metadata": {},
   "outputs": [
    {
     "data": {
      "text/plain": [
       "{'1': {'fname': 'kanishk',\n",
       "  'lname': 'rajawat',\n",
       "  'mob.no': 8890865541,\n",
       "  'dateofbirth': '1998-11-07',\n",
       "  'address': '41,devi path',\n",
       "  'aadhar': 123456,\n",
       "  'username': 'kpsr',\n",
       "  'password': '1234',\n",
       "  'deposit': 0,\n",
       "  'loan': 0}}"
      ]
     },
     "execution_count": 145,
     "metadata": {},
     "output_type": "execute_result"
    }
   ],
   "source": [
    "data"
   ]
  },
  {
   "cell_type": "code",
   "execution_count": 137,
   "metadata": {},
   "outputs": [
    {
     "data": {
      "text/plain": [
       "{}"
      ]
     },
     "execution_count": 137,
     "metadata": {},
     "output_type": "execute_result"
    }
   ],
   "source": [
    "data\n"
   ]
  },
  {
   "cell_type": "code",
   "execution_count": 138,
   "metadata": {},
   "outputs": [
    {
     "ename": "SyntaxError",
     "evalue": "invalid syntax (<ipython-input-138-48214acca840>, line 1)",
     "output_type": "error",
     "traceback": [
      "\u001b[1;36m  File \u001b[1;32m\"<ipython-input-138-48214acca840>\"\u001b[1;36m, line \u001b[1;32m1\u001b[0m\n\u001b[1;33m    if data[] is NULL:\u001b[0m\n\u001b[1;37m            ^\u001b[0m\n\u001b[1;31mSyntaxError\u001b[0m\u001b[1;31m:\u001b[0m invalid syntax\n"
     ]
    }
   ],
   "source": [
    "if data[] is NULL:\n",
    "    print(\"k\")"
   ]
  },
  {
   "cell_type": "code",
   "execution_count": 139,
   "metadata": {},
   "outputs": [
    {
     "data": {
      "text/plain": [
       "{}"
      ]
     },
     "execution_count": 139,
     "metadata": {},
     "output_type": "execute_result"
    }
   ],
   "source": [
    "data"
   ]
  },
  {
   "cell_type": "code",
   "execution_count": 140,
   "metadata": {},
   "outputs": [
    {
     "data": {
      "text/plain": [
       "True"
      ]
     },
     "execution_count": 140,
     "metadata": {},
     "output_type": "execute_result"
    }
   ],
   "source": [
    "not data"
   ]
  },
  {
   "cell_type": "code",
   "execution_count": 141,
   "metadata": {},
   "outputs": [
    {
     "name": "stdout",
     "output_type": "stream",
     "text": [
      "hello\n"
     ]
    }
   ],
   "source": [
    "if not data:\n",
    "    print(\"hello\")"
   ]
  },
  {
   "cell_type": "code",
   "execution_count": 150,
   "metadata": {},
   "outputs": [],
   "source": [
    "def edit_info():\n",
    "    import json\n",
    "    fp=open(\"E://Bank Application/Data.db\",\"r\")\n",
    "    data=json.load(fp)\n",
    "    fp.close()\n",
    "    accno=input(\"Enter Account Number\")\n",
    "    if accno not in data.keys():\n",
    "        print(\"Enter valid Account number\")\n",
    "        return\n",
    "    print(\"Options \\n1.Edit FirstName \\n2.Edit LastName \\n3.Edit Mobile no. \\n4.Address \\n5.Aadhar \\n6.UserName \\n7.Exit\")\n",
    "    a=int(input(\"Enter Choice\"))\n",
    "    while True:\n",
    "        if a==1:\n",
    "            fname=input(\"Enter First Name\")\n",
    "            data[accno][\"fname\"]=fname\n",
    "        elif a==2:\n",
    "            lname=input(\"Enter Last Name\")\n",
    "            data[accno][\"lname\"]=lname\n",
    "        elif a==3:\n",
    "            mno=input(\"Enter Mobile number\")\n",
    "            data[accno][\"mob.no\"]=mno\n",
    "        elif a==4:\n",
    "            add=input(\"Enter Address\")\n",
    "            data[accno][\"add\"]=add\n",
    "        elif a==5:\n",
    "            mno=input(\"Enter Mobile number\")\n",
    "            data[accno][\"mob.no\"]=mno\n",
    "        elif a==6:\n",
    "            unm=input(\"Enter Mobile number\")\n",
    "            data[accno][\"username\"]=unm\n",
    "        elif a==7:\n",
    "            break\n",
    "        else:\n",
    "            print(\"Invalid option\")\n",
    "        a=int(input(\"Enter Choice\"))\n",
    "    fp=open(\"E://Bank Application/Data.db\",\"w\")\n",
    "    json.dump(data,fp)\n",
    "    fp.close()       "
   ]
  },
  {
   "cell_type": "code",
   "execution_count": 151,
   "metadata": {},
   "outputs": [
    {
     "name": "stdout",
     "output_type": "stream",
     "text": [
      "Enter Account Number1\n",
      "Options \n",
      "1.Edit FirstName \n",
      "2.Edit LastName \n",
      "3.Edit Mobile no. \n",
      "4.Address \n",
      "5.Aadhar \n",
      "6.UserName \n",
      "7.Exit\n",
      "Enter Choice1\n",
      "Enter First Namekpsingh\n",
      "Enter Choice7\n"
     ]
    }
   ],
   "source": [
    "edit_info()"
   ]
  },
  {
   "cell_type": "code",
   "execution_count": 190,
   "metadata": {},
   "outputs": [],
   "source": [
    "fp=open(\"E://Bank Application/Data.db\",\"r\")\n",
    "data=json.load(fp)\n",
    "fp.close()"
   ]
  },
  {
   "cell_type": "code",
   "execution_count": 191,
   "metadata": {},
   "outputs": [
    {
     "data": {
      "text/plain": [
       "{'1': {'fname': 'kpsingh',\n",
       "  'lname': 'rajawat',\n",
       "  'mob.no': 8890865541,\n",
       "  'dateofbirth': '1998-11-07',\n",
       "  'address': '41,devi path',\n",
       "  'aadhar': 123456,\n",
       "  'username': 'kpsr',\n",
       "  'password': '1234',\n",
       "  'deposit': 0,\n",
       "  'loan': 0},\n",
       " '2': {'fname': 'shubham',\n",
       "  'lname': 'sharma',\n",
       "  'mob.no': 88776712311,\n",
       "  'dateofbirth': '1999-01-01',\n",
       "  'address': '33,ram nagar',\n",
       "  'aadhar': 125784,\n",
       "  'username': 'shubham',\n",
       "  'password': '1234',\n",
       "  'deposit': 0,\n",
       "  'loan': 0}}"
      ]
     },
     "execution_count": 191,
     "metadata": {},
     "output_type": "execute_result"
    }
   ],
   "source": [
    "data"
   ]
  },
  {
   "cell_type": "code",
   "execution_count": 155,
   "metadata": {},
   "outputs": [],
   "source": [
    "data={1234:\"abc\"}\n",
    "fp=open(\"E://Bank Application/manager.db\",\"w\")\n",
    "json.dump(data,fp)\n",
    "fp.close()"
   ]
  },
  {
   "cell_type": "code",
   "execution_count": 156,
   "metadata": {},
   "outputs": [],
   "source": [
    "fp=open(\"E://Bank Application/manager.db\",\"r\")\n",
    "data=json.load(fp)\n",
    "fp.close()"
   ]
  },
  {
   "cell_type": "code",
   "execution_count": 157,
   "metadata": {},
   "outputs": [
    {
     "data": {
      "text/plain": [
       "{'1234': 'abc'}"
      ]
     },
     "execution_count": 157,
     "metadata": {},
     "output_type": "execute_result"
    }
   ],
   "source": [
    "data"
   ]
  },
  {
   "cell_type": "code",
   "execution_count": 54,
   "metadata": {},
   "outputs": [],
   "source": [
    "def mgr():\n",
    "    import json\n",
    "    fp=open(\"E://Bank Application/manager.db\",\"r\")\n",
    "    data1=json.load(fp)\n",
    "    fp.close()\n",
    "    usr=input(\"Enter User ID\")\n",
    "    if usr not in data1.keys():\n",
    "        print(\"Invalid Username\")\n",
    "        return\n",
    "    pwd=input(\"Enter Password\")\n",
    "    if data1[usr]!=pwd:\n",
    "        print(\"Invalid Password\")\n",
    "    else:\n",
    "        accno=input(\"Enter Account Number\")\n",
    "        fp=open(\"E://Bank Application/Data.db\",\"r\")\n",
    "        data=json.load(fp)\n",
    "        fp.close()\n",
    "        if accno not in data.keys():\n",
    "            print(\"Enter valid Account number\")\n",
    "            return\n",
    "        else:\n",
    "            print(\"First Name->\",data[accno][\"fname\"])\n",
    "            print(\"Last Name->\",data[accno][\"lname\"])\n",
    "            print(\"Mobile Number->\",data[accno][\"mob.no\"])\n",
    "            print(\"Date of Birth->\",data[accno][\"dateofbirth\"])\n",
    "            print(\"Address->\",data[accno][\"address\"])\n",
    "            print(\"Aadhar->\",data[accno][\"aadhar\"])\n",
    "    \n",
    "    "
   ]
  },
  {
   "cell_type": "code",
   "execution_count": 55,
   "metadata": {},
   "outputs": [
    {
     "name": "stdout",
     "output_type": "stream",
     "text": [
      "Enter User ID1234\n",
      "Enter Passwordabc\n",
      "Enter Account Number1\n",
      "First Name-> kanishk\n",
      "Last Name-> rajawat\n",
      "Mobile Number-> 8890865541\n",
      "Date of Birth-> 1998-11-07\n",
      "Address-> 41,devi path\n",
      "Aadhar-> 123456\n"
     ]
    }
   ],
   "source": [
    "mgr()"
   ]
  },
  {
   "cell_type": "code",
   "execution_count": 160,
   "metadata": {},
   "outputs": [
    {
     "data": {
      "text/plain": [
       "{'1234': 'abc'}"
      ]
     },
     "execution_count": 160,
     "metadata": {},
     "output_type": "execute_result"
    }
   ],
   "source": [
    "data\n"
   ]
  },
  {
   "cell_type": "code",
   "execution_count": 161,
   "metadata": {},
   "outputs": [
    {
     "data": {
      "text/plain": [
       "'abc'"
      ]
     },
     "execution_count": 161,
     "metadata": {},
     "output_type": "execute_result"
    }
   ],
   "source": [
    "data['1234']"
   ]
  },
  {
   "cell_type": "code",
   "execution_count": 166,
   "metadata": {},
   "outputs": [
    {
     "data": {
      "text/plain": [
       "dict_keys(['1234'])"
      ]
     },
     "execution_count": 166,
     "metadata": {},
     "output_type": "execute_result"
    }
   ],
   "source": [
    "data.keys()"
   ]
  },
  {
   "cell_type": "code",
   "execution_count": 208,
   "metadata": {},
   "outputs": [],
   "source": [
    "def loan():\n",
    "    import json\n",
    "    fp=open(\"E://Bank Application/Data.db\",\"r\")\n",
    "    data=json.load(fp)\n",
    "    fp.close()\n",
    "    accno=input(\"Enter Account Number\")\n",
    "    if accno not in data.keys():\n",
    "            print(\"Enter valid Account number\")\n",
    "            return\n",
    "    else:\n",
    "        prof(accno)\n",
    "        "
   ]
  },
  {
   "cell_type": "code",
   "execution_count": 209,
   "metadata": {},
   "outputs": [
    {
     "name": "stdout",
     "output_type": "stream",
     "text": [
      "Enter Account Number1\n"
     ]
    },
    {
     "ename": "TypeError",
     "evalue": "prof() takes 0 positional arguments but 1 was given",
     "output_type": "error",
     "traceback": [
      "\u001b[1;31m---------------------------------------------------------------------------\u001b[0m",
      "\u001b[1;31mTypeError\u001b[0m                                 Traceback (most recent call last)",
      "\u001b[1;32m<ipython-input-209-1599c54adef2>\u001b[0m in \u001b[0;36m<module>\u001b[1;34m\u001b[0m\n\u001b[1;32m----> 1\u001b[1;33m \u001b[0mloan\u001b[0m\u001b[1;33m(\u001b[0m\u001b[1;33m)\u001b[0m\u001b[1;33m\u001b[0m\u001b[1;33m\u001b[0m\u001b[0m\n\u001b[0m",
      "\u001b[1;32m<ipython-input-208-47becb95561c>\u001b[0m in \u001b[0;36mloan\u001b[1;34m()\u001b[0m\n\u001b[0;32m      9\u001b[0m             \u001b[1;32mreturn\u001b[0m\u001b[1;33m\u001b[0m\u001b[1;33m\u001b[0m\u001b[0m\n\u001b[0;32m     10\u001b[0m     \u001b[1;32melse\u001b[0m\u001b[1;33m:\u001b[0m\u001b[1;33m\u001b[0m\u001b[1;33m\u001b[0m\u001b[0m\n\u001b[1;32m---> 11\u001b[1;33m         \u001b[0mprof\u001b[0m\u001b[1;33m(\u001b[0m\u001b[0maccno\u001b[0m\u001b[1;33m)\u001b[0m\u001b[1;33m\u001b[0m\u001b[1;33m\u001b[0m\u001b[0m\n\u001b[0m\u001b[0;32m     12\u001b[0m \u001b[1;33m\u001b[0m\u001b[0m\n",
      "\u001b[1;31mTypeError\u001b[0m: prof() takes 0 positional arguments but 1 was given"
     ]
    }
   ],
   "source": [
    "loan()"
   ]
  },
  {
   "cell_type": "code",
   "execution_count": 189,
   "metadata": {},
   "outputs": [
    {
     "data": {
      "text/plain": [
       "{'1234': 'abc'}"
      ]
     },
     "execution_count": 189,
     "metadata": {},
     "output_type": "execute_result"
    }
   ],
   "source": [
    "data"
   ]
  },
  {
   "cell_type": "code",
   "execution_count": 199,
   "metadata": {},
   "outputs": [
    {
     "data": {
      "text/plain": [
       "'1257'"
      ]
     },
     "execution_count": 199,
     "metadata": {},
     "output_type": "execute_result"
    }
   ],
   "source": [
    "a"
   ]
  },
  {
   "cell_type": "code",
   "execution_count": 210,
   "metadata": {},
   "outputs": [],
   "source": [
    "def prof(accno):\n",
    "    print(\"Profession \\n1.Government Employee \\n2.Private Employee \\n3.Businessman \\n4.Student/Unemployee\")\n",
    "    a=int(input(\"Enter Choice\"))\n",
    "    if a==1:\n",
    "        gov(accno)\n",
    "    elif a==2:\n",
    "        priv(accno)\n",
    "    elif a==3:\n",
    "        bus(accno)\n",
    "    elif a==4:\n",
    "        print(\"No loan will be provided\")\n",
    "        return\n",
    "    else:\n",
    "        print(\"Enter valid choice\")\n",
    "    \n",
    "    "
   ]
  },
  {
   "cell_type": "code",
   "execution_count": 211,
   "metadata": {
    "scrolled": true
   },
   "outputs": [
    {
     "name": "stdout",
     "output_type": "stream",
     "text": [
      "Profession \n",
      "1.Government Employee \n",
      "2.Private Employee \n",
      "3.Businessman \n",
      "4.Student/Unemployee\n",
      "Enter Choice1\n"
     ]
    },
    {
     "ename": "NameError",
     "evalue": "name 'gov' is not defined",
     "output_type": "error",
     "traceback": [
      "\u001b[1;31m---------------------------------------------------------------------------\u001b[0m",
      "\u001b[1;31mNameError\u001b[0m                                 Traceback (most recent call last)",
      "\u001b[1;32m<ipython-input-211-d59fd93a98b6>\u001b[0m in \u001b[0;36m<module>\u001b[1;34m\u001b[0m\n\u001b[1;32m----> 1\u001b[1;33m \u001b[0mprof\u001b[0m\u001b[1;33m(\u001b[0m\u001b[1;33m)\u001b[0m\u001b[1;33m\u001b[0m\u001b[1;33m\u001b[0m\u001b[0m\n\u001b[0m",
      "\u001b[1;32m<ipython-input-210-052424c2224f>\u001b[0m in \u001b[0;36mprof\u001b[1;34m()\u001b[0m\n\u001b[0;32m      3\u001b[0m     \u001b[0ma\u001b[0m\u001b[1;33m=\u001b[0m\u001b[0mint\u001b[0m\u001b[1;33m(\u001b[0m\u001b[0minput\u001b[0m\u001b[1;33m(\u001b[0m\u001b[1;34m\"Enter Choice\"\u001b[0m\u001b[1;33m)\u001b[0m\u001b[1;33m)\u001b[0m\u001b[1;33m\u001b[0m\u001b[1;33m\u001b[0m\u001b[0m\n\u001b[0;32m      4\u001b[0m     \u001b[1;32mif\u001b[0m \u001b[0ma\u001b[0m\u001b[1;33m==\u001b[0m\u001b[1;36m1\u001b[0m\u001b[1;33m:\u001b[0m\u001b[1;33m\u001b[0m\u001b[1;33m\u001b[0m\u001b[0m\n\u001b[1;32m----> 5\u001b[1;33m         \u001b[0mgov\u001b[0m\u001b[1;33m(\u001b[0m\u001b[1;33m)\u001b[0m\u001b[1;33m\u001b[0m\u001b[1;33m\u001b[0m\u001b[0m\n\u001b[0m\u001b[0;32m      6\u001b[0m     \u001b[1;32melif\u001b[0m \u001b[0ma\u001b[0m\u001b[1;33m==\u001b[0m\u001b[1;36m2\u001b[0m\u001b[1;33m:\u001b[0m\u001b[1;33m\u001b[0m\u001b[1;33m\u001b[0m\u001b[0m\n\u001b[0;32m      7\u001b[0m         \u001b[0mpriv\u001b[0m\u001b[1;33m(\u001b[0m\u001b[1;33m)\u001b[0m\u001b[1;33m\u001b[0m\u001b[1;33m\u001b[0m\u001b[0m\n",
      "\u001b[1;31mNameError\u001b[0m: name 'gov' is not defined"
     ]
    }
   ],
   "source": [
    "prof()"
   ]
  },
  {
   "cell_type": "code",
   "execution_count": 302,
   "metadata": {},
   "outputs": [],
   "source": [
    "def gov():\n",
    "    import json\n",
    "    fp=open(\"E://Bank Application/Data.db\",\"r\")\n",
    "    data=json.load(fp)\n",
    "    fp.close()\n",
    "    accno=input(\"Enter accno\")\n",
    "    pslip=input(\"Do you have Pay Slip\")\n",
    "    if pslip=='no':\n",
    "        print(\"No loan will be given\")\n",
    "        return\n",
    "    else:\n",
    "        msal=int(input(\"Enter salary\"))\n",
    "        if msal>=500000:\n",
    "            data[accno]['loan']=1000000\n",
    "        elif msal>=100000:\n",
    "            data[accno]['loan']=400000\n",
    "        elif msal>=50000:\n",
    "            data[accno]['loan']=200000\n",
    "        elif msal>=200000:\n",
    "            data[accno]['loan']=100000\n",
    "        elif msal<=20000:\n",
    "            print(\"No loan will be given\")\n",
    "    fp=open(\"E://Bank Application/Data.db\",\"w\")\n",
    "    json.dump(data,fp)\n",
    "    fp.close()               "
   ]
  },
  {
   "cell_type": "code",
   "execution_count": 303,
   "metadata": {},
   "outputs": [
    {
     "ename": "JSONDecodeError",
     "evalue": "Expecting value: line 1 column 1 (char 0)",
     "output_type": "error",
     "traceback": [
      "\u001b[1;31m---------------------------------------------------------------------------\u001b[0m",
      "\u001b[1;31mJSONDecodeError\u001b[0m                           Traceback (most recent call last)",
      "\u001b[1;32m<ipython-input-303-67671fd72df8>\u001b[0m in \u001b[0;36m<module>\u001b[1;34m\u001b[0m\n\u001b[1;32m----> 1\u001b[1;33m \u001b[0mgov\u001b[0m\u001b[1;33m(\u001b[0m\u001b[1;33m)\u001b[0m\u001b[1;33m\u001b[0m\u001b[1;33m\u001b[0m\u001b[0m\n\u001b[0m",
      "\u001b[1;32m<ipython-input-302-a8d317b8432e>\u001b[0m in \u001b[0;36mgov\u001b[1;34m()\u001b[0m\n\u001b[0;32m      2\u001b[0m     \u001b[1;32mimport\u001b[0m \u001b[0mjson\u001b[0m\u001b[1;33m\u001b[0m\u001b[1;33m\u001b[0m\u001b[0m\n\u001b[0;32m      3\u001b[0m     \u001b[0mfp\u001b[0m\u001b[1;33m=\u001b[0m\u001b[0mopen\u001b[0m\u001b[1;33m(\u001b[0m\u001b[1;34m\"E://Bank Application/Data.db\"\u001b[0m\u001b[1;33m,\u001b[0m\u001b[1;34m\"r\"\u001b[0m\u001b[1;33m)\u001b[0m\u001b[1;33m\u001b[0m\u001b[1;33m\u001b[0m\u001b[0m\n\u001b[1;32m----> 4\u001b[1;33m     \u001b[0mdata\u001b[0m\u001b[1;33m=\u001b[0m\u001b[0mjson\u001b[0m\u001b[1;33m.\u001b[0m\u001b[0mload\u001b[0m\u001b[1;33m(\u001b[0m\u001b[0mfp\u001b[0m\u001b[1;33m)\u001b[0m\u001b[1;33m\u001b[0m\u001b[1;33m\u001b[0m\u001b[0m\n\u001b[0m\u001b[0;32m      5\u001b[0m     \u001b[0mfp\u001b[0m\u001b[1;33m.\u001b[0m\u001b[0mclose\u001b[0m\u001b[1;33m(\u001b[0m\u001b[1;33m)\u001b[0m\u001b[1;33m\u001b[0m\u001b[1;33m\u001b[0m\u001b[0m\n\u001b[0;32m      6\u001b[0m     \u001b[0maccno\u001b[0m\u001b[1;33m=\u001b[0m\u001b[0minput\u001b[0m\u001b[1;33m(\u001b[0m\u001b[1;34m\"Enter accno\"\u001b[0m\u001b[1;33m)\u001b[0m\u001b[1;33m\u001b[0m\u001b[1;33m\u001b[0m\u001b[0m\n",
      "\u001b[1;32mC:\\ProgramData\\Anaconda3\\lib\\json\\__init__.py\u001b[0m in \u001b[0;36mload\u001b[1;34m(fp, cls, object_hook, parse_float, parse_int, parse_constant, object_pairs_hook, **kw)\u001b[0m\n\u001b[0;32m    294\u001b[0m         \u001b[0mcls\u001b[0m\u001b[1;33m=\u001b[0m\u001b[0mcls\u001b[0m\u001b[1;33m,\u001b[0m \u001b[0mobject_hook\u001b[0m\u001b[1;33m=\u001b[0m\u001b[0mobject_hook\u001b[0m\u001b[1;33m,\u001b[0m\u001b[1;33m\u001b[0m\u001b[1;33m\u001b[0m\u001b[0m\n\u001b[0;32m    295\u001b[0m         \u001b[0mparse_float\u001b[0m\u001b[1;33m=\u001b[0m\u001b[0mparse_float\u001b[0m\u001b[1;33m,\u001b[0m \u001b[0mparse_int\u001b[0m\u001b[1;33m=\u001b[0m\u001b[0mparse_int\u001b[0m\u001b[1;33m,\u001b[0m\u001b[1;33m\u001b[0m\u001b[1;33m\u001b[0m\u001b[0m\n\u001b[1;32m--> 296\u001b[1;33m         parse_constant=parse_constant, object_pairs_hook=object_pairs_hook, **kw)\n\u001b[0m\u001b[0;32m    297\u001b[0m \u001b[1;33m\u001b[0m\u001b[0m\n\u001b[0;32m    298\u001b[0m \u001b[1;33m\u001b[0m\u001b[0m\n",
      "\u001b[1;32mC:\\ProgramData\\Anaconda3\\lib\\json\\__init__.py\u001b[0m in \u001b[0;36mloads\u001b[1;34m(s, encoding, cls, object_hook, parse_float, parse_int, parse_constant, object_pairs_hook, **kw)\u001b[0m\n\u001b[0;32m    346\u001b[0m             \u001b[0mparse_int\u001b[0m \u001b[1;32mis\u001b[0m \u001b[1;32mNone\u001b[0m \u001b[1;32mand\u001b[0m \u001b[0mparse_float\u001b[0m \u001b[1;32mis\u001b[0m \u001b[1;32mNone\u001b[0m \u001b[1;32mand\u001b[0m\u001b[1;33m\u001b[0m\u001b[1;33m\u001b[0m\u001b[0m\n\u001b[0;32m    347\u001b[0m             parse_constant is None and object_pairs_hook is None and not kw):\n\u001b[1;32m--> 348\u001b[1;33m         \u001b[1;32mreturn\u001b[0m \u001b[0m_default_decoder\u001b[0m\u001b[1;33m.\u001b[0m\u001b[0mdecode\u001b[0m\u001b[1;33m(\u001b[0m\u001b[0ms\u001b[0m\u001b[1;33m)\u001b[0m\u001b[1;33m\u001b[0m\u001b[1;33m\u001b[0m\u001b[0m\n\u001b[0m\u001b[0;32m    349\u001b[0m     \u001b[1;32mif\u001b[0m \u001b[0mcls\u001b[0m \u001b[1;32mis\u001b[0m \u001b[1;32mNone\u001b[0m\u001b[1;33m:\u001b[0m\u001b[1;33m\u001b[0m\u001b[1;33m\u001b[0m\u001b[0m\n\u001b[0;32m    350\u001b[0m         \u001b[0mcls\u001b[0m \u001b[1;33m=\u001b[0m \u001b[0mJSONDecoder\u001b[0m\u001b[1;33m\u001b[0m\u001b[1;33m\u001b[0m\u001b[0m\n",
      "\u001b[1;32mC:\\ProgramData\\Anaconda3\\lib\\json\\decoder.py\u001b[0m in \u001b[0;36mdecode\u001b[1;34m(self, s, _w)\u001b[0m\n\u001b[0;32m    335\u001b[0m \u001b[1;33m\u001b[0m\u001b[0m\n\u001b[0;32m    336\u001b[0m         \"\"\"\n\u001b[1;32m--> 337\u001b[1;33m         \u001b[0mobj\u001b[0m\u001b[1;33m,\u001b[0m \u001b[0mend\u001b[0m \u001b[1;33m=\u001b[0m \u001b[0mself\u001b[0m\u001b[1;33m.\u001b[0m\u001b[0mraw_decode\u001b[0m\u001b[1;33m(\u001b[0m\u001b[0ms\u001b[0m\u001b[1;33m,\u001b[0m \u001b[0midx\u001b[0m\u001b[1;33m=\u001b[0m\u001b[0m_w\u001b[0m\u001b[1;33m(\u001b[0m\u001b[0ms\u001b[0m\u001b[1;33m,\u001b[0m \u001b[1;36m0\u001b[0m\u001b[1;33m)\u001b[0m\u001b[1;33m.\u001b[0m\u001b[0mend\u001b[0m\u001b[1;33m(\u001b[0m\u001b[1;33m)\u001b[0m\u001b[1;33m)\u001b[0m\u001b[1;33m\u001b[0m\u001b[1;33m\u001b[0m\u001b[0m\n\u001b[0m\u001b[0;32m    338\u001b[0m         \u001b[0mend\u001b[0m \u001b[1;33m=\u001b[0m \u001b[0m_w\u001b[0m\u001b[1;33m(\u001b[0m\u001b[0ms\u001b[0m\u001b[1;33m,\u001b[0m \u001b[0mend\u001b[0m\u001b[1;33m)\u001b[0m\u001b[1;33m.\u001b[0m\u001b[0mend\u001b[0m\u001b[1;33m(\u001b[0m\u001b[1;33m)\u001b[0m\u001b[1;33m\u001b[0m\u001b[1;33m\u001b[0m\u001b[0m\n\u001b[0;32m    339\u001b[0m         \u001b[1;32mif\u001b[0m \u001b[0mend\u001b[0m \u001b[1;33m!=\u001b[0m \u001b[0mlen\u001b[0m\u001b[1;33m(\u001b[0m\u001b[0ms\u001b[0m\u001b[1;33m)\u001b[0m\u001b[1;33m:\u001b[0m\u001b[1;33m\u001b[0m\u001b[1;33m\u001b[0m\u001b[0m\n",
      "\u001b[1;32mC:\\ProgramData\\Anaconda3\\lib\\json\\decoder.py\u001b[0m in \u001b[0;36mraw_decode\u001b[1;34m(self, s, idx)\u001b[0m\n\u001b[0;32m    353\u001b[0m             \u001b[0mobj\u001b[0m\u001b[1;33m,\u001b[0m \u001b[0mend\u001b[0m \u001b[1;33m=\u001b[0m \u001b[0mself\u001b[0m\u001b[1;33m.\u001b[0m\u001b[0mscan_once\u001b[0m\u001b[1;33m(\u001b[0m\u001b[0ms\u001b[0m\u001b[1;33m,\u001b[0m \u001b[0midx\u001b[0m\u001b[1;33m)\u001b[0m\u001b[1;33m\u001b[0m\u001b[1;33m\u001b[0m\u001b[0m\n\u001b[0;32m    354\u001b[0m         \u001b[1;32mexcept\u001b[0m \u001b[0mStopIteration\u001b[0m \u001b[1;32mas\u001b[0m \u001b[0merr\u001b[0m\u001b[1;33m:\u001b[0m\u001b[1;33m\u001b[0m\u001b[1;33m\u001b[0m\u001b[0m\n\u001b[1;32m--> 355\u001b[1;33m             \u001b[1;32mraise\u001b[0m \u001b[0mJSONDecodeError\u001b[0m\u001b[1;33m(\u001b[0m\u001b[1;34m\"Expecting value\"\u001b[0m\u001b[1;33m,\u001b[0m \u001b[0ms\u001b[0m\u001b[1;33m,\u001b[0m \u001b[0merr\u001b[0m\u001b[1;33m.\u001b[0m\u001b[0mvalue\u001b[0m\u001b[1;33m)\u001b[0m \u001b[1;32mfrom\u001b[0m \u001b[1;32mNone\u001b[0m\u001b[1;33m\u001b[0m\u001b[1;33m\u001b[0m\u001b[0m\n\u001b[0m\u001b[0;32m    356\u001b[0m         \u001b[1;32mreturn\u001b[0m \u001b[0mobj\u001b[0m\u001b[1;33m,\u001b[0m \u001b[0mend\u001b[0m\u001b[1;33m\u001b[0m\u001b[1;33m\u001b[0m\u001b[0m\n",
      "\u001b[1;31mJSONDecodeError\u001b[0m: Expecting value: line 1 column 1 (char 0)"
     ]
    }
   ],
   "source": [
    "gov()"
   ]
  },
  {
   "cell_type": "code",
   "execution_count": 224,
   "metadata": {},
   "outputs": [
    {
     "data": {
      "text/plain": [
       "{'1': {'fname': 'kpsingh',\n",
       "  'lname': 'rajawat',\n",
       "  'mob.no': 8890865541,\n",
       "  'dateofbirth': '1998-11-07',\n",
       "  'address': '41,devi path',\n",
       "  'aadhar': 123456,\n",
       "  'username': 'kpsr',\n",
       "  'password': '1234',\n",
       "  'deposit': 0,\n",
       "  'loan': 0},\n",
       " '2': {'fname': 'shubham',\n",
       "  'lname': 'sharma',\n",
       "  'mob.no': 88776712311,\n",
       "  'dateofbirth': '1999-01-01',\n",
       "  'address': '33,ram nagar',\n",
       "  'aadhar': 125784,\n",
       "  'username': 'shubham',\n",
       "  'password': '1234',\n",
       "  'deposit': 0,\n",
       "  'loan': 0}}"
      ]
     },
     "execution_count": 224,
     "metadata": {},
     "output_type": "execute_result"
    }
   ],
   "source": [
    "data"
   ]
  },
  {
   "cell_type": "code",
   "execution_count": 239,
   "metadata": {},
   "outputs": [
    {
     "data": {
      "text/plain": [
       "{'1': {'fname': 'kpsingh',\n",
       "  'lname': 'rajawat',\n",
       "  'mob.no': 8890865541,\n",
       "  'dateofbirth': '1998-11-07',\n",
       "  'address': '41,devi path',\n",
       "  'aadhar': 123456,\n",
       "  'username': 'kpsr',\n",
       "  'password': '1234',\n",
       "  'deposit': 0,\n",
       "  'loan': 0},\n",
       " '2': {'fname': 'shubham',\n",
       "  'lname': 'sharma',\n",
       "  'mob.no': 88776712311,\n",
       "  'dateofbirth': '1999-01-01',\n",
       "  'address': '33,ram nagar',\n",
       "  'aadhar': 125784,\n",
       "  'username': 'shubham',\n",
       "  'password': '1234',\n",
       "  'deposit': 0,\n",
       "  'loan': 0}}"
      ]
     },
     "execution_count": 239,
     "metadata": {},
     "output_type": "execute_result"
    }
   ],
   "source": [
    "data"
   ]
  },
  {
   "cell_type": "code",
   "execution_count": 244,
   "metadata": {},
   "outputs": [
    {
     "data": {
      "text/plain": [
       "{'1': {'fname': 'kpsingh',\n",
       "  'lname': 'rajawat',\n",
       "  'mob.no': 8890865541,\n",
       "  'dateofbirth': '1998-11-07',\n",
       "  'address': '41,devi path',\n",
       "  'aadhar': 123456,\n",
       "  'username': 'kpsr',\n",
       "  'password': '1234',\n",
       "  'deposit': 0,\n",
       "  'loan': 0},\n",
       " '2': {'fname': 'shubham',\n",
       "  'lname': 'sharma',\n",
       "  'mob.no': 88776712311,\n",
       "  'dateofbirth': '1999-01-01',\n",
       "  'address': '33,ram nagar',\n",
       "  'aadhar': 125784,\n",
       "  'username': 'shubham',\n",
       "  'password': '1234',\n",
       "  'deposit': 0,\n",
       "  'loan': 0}}"
      ]
     },
     "execution_count": 244,
     "metadata": {},
     "output_type": "execute_result"
    }
   ],
   "source": [
    "data"
   ]
  },
  {
   "cell_type": "code",
   "execution_count": 36,
   "metadata": {},
   "outputs": [],
   "source": [
    "fp=open(\"E://Bank Application/Data.db\",\"r\")\n",
    "data=json.load(fp)\n",
    "fp.close()"
   ]
  },
  {
   "cell_type": "code",
   "execution_count": 264,
   "metadata": {},
   "outputs": [
    {
     "data": {
      "text/plain": [
       "'abc'"
      ]
     },
     "execution_count": 264,
     "metadata": {},
     "output_type": "execute_result"
    }
   ],
   "source": [
    "data.pop('1234')"
   ]
  },
  {
   "cell_type": "code",
   "execution_count": 37,
   "metadata": {},
   "outputs": [
    {
     "data": {
      "text/plain": [
       "{'1235': {'fname': 'shubham',\n",
       "  'lname': 'sharma',\n",
       "  'mob.no': 898912012,\n",
       "  'dateofbirth': '2000-09-08',\n",
       "  'address': '32,sjbfjhabs',\n",
       "  'aadhar': 9834209,\n",
       "  'username': 'ss',\n",
       "  'password': '1234',\n",
       "  'deposit': 0,\n",
       "  'loan': 700000},\n",
       " '1236': {'fname': 'kanishk',\n",
       "  'lname': 'rajawat',\n",
       "  'mob.no': 8890865541,\n",
       "  'dateofbirth': '2000-07-06',\n",
       "  'address': '41,devi path',\n",
       "  'aadhar': 123456,\n",
       "  'username': 'kpsr',\n",
       "  'password': '1234',\n",
       "  'deposit': 0,\n",
       "  'loan': 0}}"
      ]
     },
     "execution_count": 37,
     "metadata": {},
     "output_type": "execute_result"
    }
   ],
   "source": [
    "data"
   ]
  },
  {
   "cell_type": "code",
   "execution_count": 266,
   "metadata": {},
   "outputs": [
    {
     "data": {
      "text/plain": [
       "{'1235': {'fname': 'kjaskj',\n",
       "  'lname': 'jabsf',\n",
       "  'mob.no': 892374,\n",
       "  'dateofbirth': '9872-34-12',\n",
       "  'address': '12,awefa',\n",
       "  'aadhar': 234,\n",
       "  'username': 'kpsr',\n",
       "  'password': '1234',\n",
       "  'deposit': 0,\n",
       "  'loan': 1000000}}"
      ]
     },
     "execution_count": 266,
     "metadata": {},
     "output_type": "execute_result"
    }
   ],
   "source": [
    "data"
   ]
  },
  {
   "cell_type": "code",
   "execution_count": 273,
   "metadata": {},
   "outputs": [
    {
     "data": {
      "text/plain": [
       "'abc'"
      ]
     },
     "execution_count": 273,
     "metadata": {},
     "output_type": "execute_result"
    }
   ],
   "source": [
    "data.pop('1234')"
   ]
  },
  {
   "cell_type": "code",
   "execution_count": 274,
   "metadata": {},
   "outputs": [
    {
     "data": {
      "text/plain": [
       "{'1235': {'fname': 'kjaskj',\n",
       "  'lname': 'jabsf',\n",
       "  'mob.no': 892374,\n",
       "  'dateofbirth': '9872-34-12',\n",
       "  'address': '12,awefa',\n",
       "  'aadhar': 234,\n",
       "  'username': 'kpsr',\n",
       "  'password': '1234',\n",
       "  'deposit': 0,\n",
       "  'loan': 1000000},\n",
       " '1236': {'fname': 'kanishk',\n",
       "  'lname': 'rajawat',\n",
       "  'mob.no': 8890865541,\n",
       "  'dateofbirth': '19998-11-07',\n",
       "  'address': '41,devi path',\n",
       "  'aadhar': 12334567,\n",
       "  'username': 'kpsingh',\n",
       "  'password': '12345',\n",
       "  'deposit': 0,\n",
       "  'loan': 0}}"
      ]
     },
     "execution_count": 274,
     "metadata": {},
     "output_type": "execute_result"
    }
   ],
   "source": [
    "data"
   ]
  },
  {
   "cell_type": "code",
   "execution_count": 275,
   "metadata": {},
   "outputs": [],
   "source": [
    "fp=open(\"E://Bank Application/Data.db\",\"w\")\n",
    "json.dump(data,fp)\n",
    "fp.close()"
   ]
  },
  {
   "cell_type": "code",
   "execution_count": 288,
   "metadata": {},
   "outputs": [],
   "source": [
    "fp=open(\"E://Bank Application/Data.db\",\"r\")\n",
    "data=json.load(fp)\n",
    "fp.close()"
   ]
  },
  {
   "cell_type": "code",
   "execution_count": 289,
   "metadata": {},
   "outputs": [
    {
     "data": {
      "text/plain": [
       "{'1235': {'fname': 'kjaskj',\n",
       "  'lname': 'jabsf',\n",
       "  'mob.no': 892374,\n",
       "  'dateofbirth': '9872-34-12',\n",
       "  'address': '12,awefa',\n",
       "  'aadhar': 234,\n",
       "  'username': 'kpsr',\n",
       "  'password': '1234',\n",
       "  'deposit': 0,\n",
       "  'loan': 1000000},\n",
       " '1236': {'fname': 'kanishk',\n",
       "  'lname': 'rajawat',\n",
       "  'mob.no': 8890865541,\n",
       "  'dateofbirth': '19998-11-07',\n",
       "  'address': '41,devi path',\n",
       "  'aadhar': 12334567,\n",
       "  'username': 'kpsingh',\n",
       "  'password': '12345',\n",
       "  'deposit': 0,\n",
       "  'loan': 400000},\n",
       " '1237': {'fname': 'shubham',\n",
       "  'lname': 'sharma',\n",
       "  'mob.no': 8918012,\n",
       "  'dateofbirth': '2000-98-97',\n",
       "  'address': '23,ada',\n",
       "  'aadhar': 1231231,\n",
       "  'username': 'ss',\n",
       "  'password': '1234',\n",
       "  'deposit': 0,\n",
       "  'loan': 0}}"
      ]
     },
     "execution_count": 289,
     "metadata": {},
     "output_type": "execute_result"
    }
   ],
   "source": [
    "data"
   ]
  },
  {
   "cell_type": "code",
   "execution_count": 29,
   "metadata": {},
   "outputs": [],
   "source": [
    "def priv():\n",
    "    import json\n",
    "    pp=input(\"Do you have Property Papers\").lower()\n",
    "    if pp=='no':\n",
    "        print(\"No loan will be given\")\n",
    "        return\n",
    "    else:\n",
    "        fp=open(\"E://Bank Application/Data.db\",\"r\")\n",
    "        data=json.load(fp)\n",
    "        fp.close()\n",
    "        accno=input(\"Enter account number\")\n",
    "        sal=int(input(\"Enter Monthly salary\"))\n",
    "        if sal>=500000:\n",
    "            data[accno]['loan']=700000\n",
    "        elif sal>=100000:\n",
    "            data[accno]['loan']=300000\n",
    "        elif sal>=50000:\n",
    "            data[accno]['loan']=100000\n",
    "        elif sal<=50000:\n",
    "            print(\"NO loan will be given\")\n",
    "    fp=open(\"E://Bank Application/Data.db\",\"w\")\n",
    "    json.dump(data,fp)\n",
    "    fp.close() \n",
    "    "
   ]
  },
  {
   "cell_type": "code",
   "execution_count": 30,
   "metadata": {},
   "outputs": [
    {
     "name": "stdout",
     "output_type": "stream",
     "text": [
      "Do you have Property Papersye\n",
      "Enter account number1235\n",
      "Enter Monthly salary500000\n"
     ]
    }
   ],
   "source": [
    "priv()"
   ]
  },
  {
   "cell_type": "code",
   "execution_count": 2,
   "metadata": {},
   "outputs": [
    {
     "ename": "JSONDecodeError",
     "evalue": "Expecting value: line 1 column 1 (char 0)",
     "output_type": "error",
     "traceback": [
      "\u001b[1;31m---------------------------------------------------------------------------\u001b[0m",
      "\u001b[1;31mJSONDecodeError\u001b[0m                           Traceback (most recent call last)",
      "\u001b[1;32m<ipython-input-2-4702136e4347>\u001b[0m in \u001b[0;36m<module>\u001b[1;34m\u001b[0m\n\u001b[0;32m      1\u001b[0m \u001b[0mfp\u001b[0m\u001b[1;33m=\u001b[0m\u001b[0mopen\u001b[0m\u001b[1;33m(\u001b[0m\u001b[1;34m\"E://Bank Application/Data.db\"\u001b[0m\u001b[1;33m,\u001b[0m\u001b[1;34m\"r\"\u001b[0m\u001b[1;33m)\u001b[0m\u001b[1;33m\u001b[0m\u001b[1;33m\u001b[0m\u001b[0m\n\u001b[1;32m----> 2\u001b[1;33m \u001b[0mdata\u001b[0m\u001b[1;33m=\u001b[0m\u001b[0mjson\u001b[0m\u001b[1;33m.\u001b[0m\u001b[0mload\u001b[0m\u001b[1;33m(\u001b[0m\u001b[0mfp\u001b[0m\u001b[1;33m)\u001b[0m\u001b[1;33m\u001b[0m\u001b[1;33m\u001b[0m\u001b[0m\n\u001b[0m\u001b[0;32m      3\u001b[0m \u001b[0mfp\u001b[0m\u001b[1;33m.\u001b[0m\u001b[0mclose\u001b[0m\u001b[1;33m(\u001b[0m\u001b[1;33m)\u001b[0m\u001b[1;33m\u001b[0m\u001b[1;33m\u001b[0m\u001b[0m\n",
      "\u001b[1;32mC:\\ProgramData\\Anaconda3\\lib\\json\\__init__.py\u001b[0m in \u001b[0;36mload\u001b[1;34m(fp, cls, object_hook, parse_float, parse_int, parse_constant, object_pairs_hook, **kw)\u001b[0m\n\u001b[0;32m    294\u001b[0m         \u001b[0mcls\u001b[0m\u001b[1;33m=\u001b[0m\u001b[0mcls\u001b[0m\u001b[1;33m,\u001b[0m \u001b[0mobject_hook\u001b[0m\u001b[1;33m=\u001b[0m\u001b[0mobject_hook\u001b[0m\u001b[1;33m,\u001b[0m\u001b[1;33m\u001b[0m\u001b[1;33m\u001b[0m\u001b[0m\n\u001b[0;32m    295\u001b[0m         \u001b[0mparse_float\u001b[0m\u001b[1;33m=\u001b[0m\u001b[0mparse_float\u001b[0m\u001b[1;33m,\u001b[0m \u001b[0mparse_int\u001b[0m\u001b[1;33m=\u001b[0m\u001b[0mparse_int\u001b[0m\u001b[1;33m,\u001b[0m\u001b[1;33m\u001b[0m\u001b[1;33m\u001b[0m\u001b[0m\n\u001b[1;32m--> 296\u001b[1;33m         parse_constant=parse_constant, object_pairs_hook=object_pairs_hook, **kw)\n\u001b[0m\u001b[0;32m    297\u001b[0m \u001b[1;33m\u001b[0m\u001b[0m\n\u001b[0;32m    298\u001b[0m \u001b[1;33m\u001b[0m\u001b[0m\n",
      "\u001b[1;32mC:\\ProgramData\\Anaconda3\\lib\\json\\__init__.py\u001b[0m in \u001b[0;36mloads\u001b[1;34m(s, encoding, cls, object_hook, parse_float, parse_int, parse_constant, object_pairs_hook, **kw)\u001b[0m\n\u001b[0;32m    346\u001b[0m             \u001b[0mparse_int\u001b[0m \u001b[1;32mis\u001b[0m \u001b[1;32mNone\u001b[0m \u001b[1;32mand\u001b[0m \u001b[0mparse_float\u001b[0m \u001b[1;32mis\u001b[0m \u001b[1;32mNone\u001b[0m \u001b[1;32mand\u001b[0m\u001b[1;33m\u001b[0m\u001b[1;33m\u001b[0m\u001b[0m\n\u001b[0;32m    347\u001b[0m             parse_constant is None and object_pairs_hook is None and not kw):\n\u001b[1;32m--> 348\u001b[1;33m         \u001b[1;32mreturn\u001b[0m \u001b[0m_default_decoder\u001b[0m\u001b[1;33m.\u001b[0m\u001b[0mdecode\u001b[0m\u001b[1;33m(\u001b[0m\u001b[0ms\u001b[0m\u001b[1;33m)\u001b[0m\u001b[1;33m\u001b[0m\u001b[1;33m\u001b[0m\u001b[0m\n\u001b[0m\u001b[0;32m    349\u001b[0m     \u001b[1;32mif\u001b[0m \u001b[0mcls\u001b[0m \u001b[1;32mis\u001b[0m \u001b[1;32mNone\u001b[0m\u001b[1;33m:\u001b[0m\u001b[1;33m\u001b[0m\u001b[1;33m\u001b[0m\u001b[0m\n\u001b[0;32m    350\u001b[0m         \u001b[0mcls\u001b[0m \u001b[1;33m=\u001b[0m \u001b[0mJSONDecoder\u001b[0m\u001b[1;33m\u001b[0m\u001b[1;33m\u001b[0m\u001b[0m\n",
      "\u001b[1;32mC:\\ProgramData\\Anaconda3\\lib\\json\\decoder.py\u001b[0m in \u001b[0;36mdecode\u001b[1;34m(self, s, _w)\u001b[0m\n\u001b[0;32m    335\u001b[0m \u001b[1;33m\u001b[0m\u001b[0m\n\u001b[0;32m    336\u001b[0m         \"\"\"\n\u001b[1;32m--> 337\u001b[1;33m         \u001b[0mobj\u001b[0m\u001b[1;33m,\u001b[0m \u001b[0mend\u001b[0m \u001b[1;33m=\u001b[0m \u001b[0mself\u001b[0m\u001b[1;33m.\u001b[0m\u001b[0mraw_decode\u001b[0m\u001b[1;33m(\u001b[0m\u001b[0ms\u001b[0m\u001b[1;33m,\u001b[0m \u001b[0midx\u001b[0m\u001b[1;33m=\u001b[0m\u001b[0m_w\u001b[0m\u001b[1;33m(\u001b[0m\u001b[0ms\u001b[0m\u001b[1;33m,\u001b[0m \u001b[1;36m0\u001b[0m\u001b[1;33m)\u001b[0m\u001b[1;33m.\u001b[0m\u001b[0mend\u001b[0m\u001b[1;33m(\u001b[0m\u001b[1;33m)\u001b[0m\u001b[1;33m)\u001b[0m\u001b[1;33m\u001b[0m\u001b[1;33m\u001b[0m\u001b[0m\n\u001b[0m\u001b[0;32m    338\u001b[0m         \u001b[0mend\u001b[0m \u001b[1;33m=\u001b[0m \u001b[0m_w\u001b[0m\u001b[1;33m(\u001b[0m\u001b[0ms\u001b[0m\u001b[1;33m,\u001b[0m \u001b[0mend\u001b[0m\u001b[1;33m)\u001b[0m\u001b[1;33m.\u001b[0m\u001b[0mend\u001b[0m\u001b[1;33m(\u001b[0m\u001b[1;33m)\u001b[0m\u001b[1;33m\u001b[0m\u001b[1;33m\u001b[0m\u001b[0m\n\u001b[0;32m    339\u001b[0m         \u001b[1;32mif\u001b[0m \u001b[0mend\u001b[0m \u001b[1;33m!=\u001b[0m \u001b[0mlen\u001b[0m\u001b[1;33m(\u001b[0m\u001b[0ms\u001b[0m\u001b[1;33m)\u001b[0m\u001b[1;33m:\u001b[0m\u001b[1;33m\u001b[0m\u001b[1;33m\u001b[0m\u001b[0m\n",
      "\u001b[1;32mC:\\ProgramData\\Anaconda3\\lib\\json\\decoder.py\u001b[0m in \u001b[0;36mraw_decode\u001b[1;34m(self, s, idx)\u001b[0m\n\u001b[0;32m    353\u001b[0m             \u001b[0mobj\u001b[0m\u001b[1;33m,\u001b[0m \u001b[0mend\u001b[0m \u001b[1;33m=\u001b[0m \u001b[0mself\u001b[0m\u001b[1;33m.\u001b[0m\u001b[0mscan_once\u001b[0m\u001b[1;33m(\u001b[0m\u001b[0ms\u001b[0m\u001b[1;33m,\u001b[0m \u001b[0midx\u001b[0m\u001b[1;33m)\u001b[0m\u001b[1;33m\u001b[0m\u001b[1;33m\u001b[0m\u001b[0m\n\u001b[0;32m    354\u001b[0m         \u001b[1;32mexcept\u001b[0m \u001b[0mStopIteration\u001b[0m \u001b[1;32mas\u001b[0m \u001b[0merr\u001b[0m\u001b[1;33m:\u001b[0m\u001b[1;33m\u001b[0m\u001b[1;33m\u001b[0m\u001b[0m\n\u001b[1;32m--> 355\u001b[1;33m             \u001b[1;32mraise\u001b[0m \u001b[0mJSONDecodeError\u001b[0m\u001b[1;33m(\u001b[0m\u001b[1;34m\"Expecting value\"\u001b[0m\u001b[1;33m,\u001b[0m \u001b[0ms\u001b[0m\u001b[1;33m,\u001b[0m \u001b[0merr\u001b[0m\u001b[1;33m.\u001b[0m\u001b[0mvalue\u001b[0m\u001b[1;33m)\u001b[0m \u001b[1;32mfrom\u001b[0m \u001b[1;32mNone\u001b[0m\u001b[1;33m\u001b[0m\u001b[1;33m\u001b[0m\u001b[0m\n\u001b[0m\u001b[0;32m    356\u001b[0m         \u001b[1;32mreturn\u001b[0m \u001b[0mobj\u001b[0m\u001b[1;33m,\u001b[0m \u001b[0mend\u001b[0m\u001b[1;33m\u001b[0m\u001b[1;33m\u001b[0m\u001b[0m\n",
      "\u001b[1;31mJSONDecodeError\u001b[0m: Expecting value: line 1 column 1 (char 0)"
     ]
    }
   ],
   "source": [
    "fp=open(\"E://Bank Application/Data.db\",\"r\")\n",
    "data=json.load(fp)\n",
    "fp.close()"
   ]
  },
  {
   "cell_type": "code",
   "execution_count": 7,
   "metadata": {},
   "outputs": [
    {
     "ename": "JSONDecodeError",
     "evalue": "Expecting value: line 1 column 1 (char 0)",
     "output_type": "error",
     "traceback": [
      "\u001b[1;31m---------------------------------------------------------------------------\u001b[0m",
      "\u001b[1;31mJSONDecodeError\u001b[0m                           Traceback (most recent call last)",
      "\u001b[1;32m<ipython-input-7-4702136e4347>\u001b[0m in \u001b[0;36m<module>\u001b[1;34m\u001b[0m\n\u001b[0;32m      1\u001b[0m \u001b[0mfp\u001b[0m\u001b[1;33m=\u001b[0m\u001b[0mopen\u001b[0m\u001b[1;33m(\u001b[0m\u001b[1;34m\"E://Bank Application/Data.db\"\u001b[0m\u001b[1;33m,\u001b[0m\u001b[1;34m\"r\"\u001b[0m\u001b[1;33m)\u001b[0m\u001b[1;33m\u001b[0m\u001b[1;33m\u001b[0m\u001b[0m\n\u001b[1;32m----> 2\u001b[1;33m \u001b[0mdata\u001b[0m\u001b[1;33m=\u001b[0m\u001b[0mjson\u001b[0m\u001b[1;33m.\u001b[0m\u001b[0mload\u001b[0m\u001b[1;33m(\u001b[0m\u001b[0mfp\u001b[0m\u001b[1;33m)\u001b[0m\u001b[1;33m\u001b[0m\u001b[1;33m\u001b[0m\u001b[0m\n\u001b[0m\u001b[0;32m      3\u001b[0m \u001b[0mfp\u001b[0m\u001b[1;33m.\u001b[0m\u001b[0mclose\u001b[0m\u001b[1;33m(\u001b[0m\u001b[1;33m)\u001b[0m\u001b[1;33m\u001b[0m\u001b[1;33m\u001b[0m\u001b[0m\n",
      "\u001b[1;32mC:\\ProgramData\\Anaconda3\\lib\\json\\__init__.py\u001b[0m in \u001b[0;36mload\u001b[1;34m(fp, cls, object_hook, parse_float, parse_int, parse_constant, object_pairs_hook, **kw)\u001b[0m\n\u001b[0;32m    294\u001b[0m         \u001b[0mcls\u001b[0m\u001b[1;33m=\u001b[0m\u001b[0mcls\u001b[0m\u001b[1;33m,\u001b[0m \u001b[0mobject_hook\u001b[0m\u001b[1;33m=\u001b[0m\u001b[0mobject_hook\u001b[0m\u001b[1;33m,\u001b[0m\u001b[1;33m\u001b[0m\u001b[1;33m\u001b[0m\u001b[0m\n\u001b[0;32m    295\u001b[0m         \u001b[0mparse_float\u001b[0m\u001b[1;33m=\u001b[0m\u001b[0mparse_float\u001b[0m\u001b[1;33m,\u001b[0m \u001b[0mparse_int\u001b[0m\u001b[1;33m=\u001b[0m\u001b[0mparse_int\u001b[0m\u001b[1;33m,\u001b[0m\u001b[1;33m\u001b[0m\u001b[1;33m\u001b[0m\u001b[0m\n\u001b[1;32m--> 296\u001b[1;33m         parse_constant=parse_constant, object_pairs_hook=object_pairs_hook, **kw)\n\u001b[0m\u001b[0;32m    297\u001b[0m \u001b[1;33m\u001b[0m\u001b[0m\n\u001b[0;32m    298\u001b[0m \u001b[1;33m\u001b[0m\u001b[0m\n",
      "\u001b[1;32mC:\\ProgramData\\Anaconda3\\lib\\json\\__init__.py\u001b[0m in \u001b[0;36mloads\u001b[1;34m(s, encoding, cls, object_hook, parse_float, parse_int, parse_constant, object_pairs_hook, **kw)\u001b[0m\n\u001b[0;32m    346\u001b[0m             \u001b[0mparse_int\u001b[0m \u001b[1;32mis\u001b[0m \u001b[1;32mNone\u001b[0m \u001b[1;32mand\u001b[0m \u001b[0mparse_float\u001b[0m \u001b[1;32mis\u001b[0m \u001b[1;32mNone\u001b[0m \u001b[1;32mand\u001b[0m\u001b[1;33m\u001b[0m\u001b[1;33m\u001b[0m\u001b[0m\n\u001b[0;32m    347\u001b[0m             parse_constant is None and object_pairs_hook is None and not kw):\n\u001b[1;32m--> 348\u001b[1;33m         \u001b[1;32mreturn\u001b[0m \u001b[0m_default_decoder\u001b[0m\u001b[1;33m.\u001b[0m\u001b[0mdecode\u001b[0m\u001b[1;33m(\u001b[0m\u001b[0ms\u001b[0m\u001b[1;33m)\u001b[0m\u001b[1;33m\u001b[0m\u001b[1;33m\u001b[0m\u001b[0m\n\u001b[0m\u001b[0;32m    349\u001b[0m     \u001b[1;32mif\u001b[0m \u001b[0mcls\u001b[0m \u001b[1;32mis\u001b[0m \u001b[1;32mNone\u001b[0m\u001b[1;33m:\u001b[0m\u001b[1;33m\u001b[0m\u001b[1;33m\u001b[0m\u001b[0m\n\u001b[0;32m    350\u001b[0m         \u001b[0mcls\u001b[0m \u001b[1;33m=\u001b[0m \u001b[0mJSONDecoder\u001b[0m\u001b[1;33m\u001b[0m\u001b[1;33m\u001b[0m\u001b[0m\n",
      "\u001b[1;32mC:\\ProgramData\\Anaconda3\\lib\\json\\decoder.py\u001b[0m in \u001b[0;36mdecode\u001b[1;34m(self, s, _w)\u001b[0m\n\u001b[0;32m    335\u001b[0m \u001b[1;33m\u001b[0m\u001b[0m\n\u001b[0;32m    336\u001b[0m         \"\"\"\n\u001b[1;32m--> 337\u001b[1;33m         \u001b[0mobj\u001b[0m\u001b[1;33m,\u001b[0m \u001b[0mend\u001b[0m \u001b[1;33m=\u001b[0m \u001b[0mself\u001b[0m\u001b[1;33m.\u001b[0m\u001b[0mraw_decode\u001b[0m\u001b[1;33m(\u001b[0m\u001b[0ms\u001b[0m\u001b[1;33m,\u001b[0m \u001b[0midx\u001b[0m\u001b[1;33m=\u001b[0m\u001b[0m_w\u001b[0m\u001b[1;33m(\u001b[0m\u001b[0ms\u001b[0m\u001b[1;33m,\u001b[0m \u001b[1;36m0\u001b[0m\u001b[1;33m)\u001b[0m\u001b[1;33m.\u001b[0m\u001b[0mend\u001b[0m\u001b[1;33m(\u001b[0m\u001b[1;33m)\u001b[0m\u001b[1;33m)\u001b[0m\u001b[1;33m\u001b[0m\u001b[1;33m\u001b[0m\u001b[0m\n\u001b[0m\u001b[0;32m    338\u001b[0m         \u001b[0mend\u001b[0m \u001b[1;33m=\u001b[0m \u001b[0m_w\u001b[0m\u001b[1;33m(\u001b[0m\u001b[0ms\u001b[0m\u001b[1;33m,\u001b[0m \u001b[0mend\u001b[0m\u001b[1;33m)\u001b[0m\u001b[1;33m.\u001b[0m\u001b[0mend\u001b[0m\u001b[1;33m(\u001b[0m\u001b[1;33m)\u001b[0m\u001b[1;33m\u001b[0m\u001b[1;33m\u001b[0m\u001b[0m\n\u001b[0;32m    339\u001b[0m         \u001b[1;32mif\u001b[0m \u001b[0mend\u001b[0m \u001b[1;33m!=\u001b[0m \u001b[0mlen\u001b[0m\u001b[1;33m(\u001b[0m\u001b[0ms\u001b[0m\u001b[1;33m)\u001b[0m\u001b[1;33m:\u001b[0m\u001b[1;33m\u001b[0m\u001b[1;33m\u001b[0m\u001b[0m\n",
      "\u001b[1;32mC:\\ProgramData\\Anaconda3\\lib\\json\\decoder.py\u001b[0m in \u001b[0;36mraw_decode\u001b[1;34m(self, s, idx)\u001b[0m\n\u001b[0;32m    353\u001b[0m             \u001b[0mobj\u001b[0m\u001b[1;33m,\u001b[0m \u001b[0mend\u001b[0m \u001b[1;33m=\u001b[0m \u001b[0mself\u001b[0m\u001b[1;33m.\u001b[0m\u001b[0mscan_once\u001b[0m\u001b[1;33m(\u001b[0m\u001b[0ms\u001b[0m\u001b[1;33m,\u001b[0m \u001b[0midx\u001b[0m\u001b[1;33m)\u001b[0m\u001b[1;33m\u001b[0m\u001b[1;33m\u001b[0m\u001b[0m\n\u001b[0;32m    354\u001b[0m         \u001b[1;32mexcept\u001b[0m \u001b[0mStopIteration\u001b[0m \u001b[1;32mas\u001b[0m \u001b[0merr\u001b[0m\u001b[1;33m:\u001b[0m\u001b[1;33m\u001b[0m\u001b[1;33m\u001b[0m\u001b[0m\n\u001b[1;32m--> 355\u001b[1;33m             \u001b[1;32mraise\u001b[0m \u001b[0mJSONDecodeError\u001b[0m\u001b[1;33m(\u001b[0m\u001b[1;34m\"Expecting value\"\u001b[0m\u001b[1;33m,\u001b[0m \u001b[0ms\u001b[0m\u001b[1;33m,\u001b[0m \u001b[0merr\u001b[0m\u001b[1;33m.\u001b[0m\u001b[0mvalue\u001b[0m\u001b[1;33m)\u001b[0m \u001b[1;32mfrom\u001b[0m \u001b[1;32mNone\u001b[0m\u001b[1;33m\u001b[0m\u001b[1;33m\u001b[0m\u001b[0m\n\u001b[0m\u001b[0;32m    356\u001b[0m         \u001b[1;32mreturn\u001b[0m \u001b[0mobj\u001b[0m\u001b[1;33m,\u001b[0m \u001b[0mend\u001b[0m\u001b[1;33m\u001b[0m\u001b[1;33m\u001b[0m\u001b[0m\n",
      "\u001b[1;31mJSONDecodeError\u001b[0m: Expecting value: line 1 column 1 (char 0)"
     ]
    }
   ],
   "source": [
    "fp=open(\"E://Bank Application/Data.db\",\"r\")\n",
    "data=json.load(fp)\n",
    "fp.close()"
   ]
  },
  {
   "cell_type": "code",
   "execution_count": 8,
   "metadata": {},
   "outputs": [
    {
     "ename": "NameError",
     "evalue": "name 'data' is not defined",
     "output_type": "error",
     "traceback": [
      "\u001b[1;31m---------------------------------------------------------------------------\u001b[0m",
      "\u001b[1;31mNameError\u001b[0m                                 Traceback (most recent call last)",
      "\u001b[1;32m<ipython-input-8-c5d84736ba45>\u001b[0m in \u001b[0;36m<module>\u001b[1;34m\u001b[0m\n\u001b[1;32m----> 1\u001b[1;33m \u001b[0mdata\u001b[0m\u001b[1;33m\u001b[0m\u001b[1;33m\u001b[0m\u001b[0m\n\u001b[0m",
      "\u001b[1;31mNameError\u001b[0m: name 'data' is not defined"
     ]
    }
   ],
   "source": [
    "data"
   ]
  },
  {
   "cell_type": "code",
   "execution_count": 4,
   "metadata": {},
   "outputs": [],
   "source": [
    "import json\n",
    "fp=open(\"E://Bank Application/manager.db\",\"r\")\n",
    "data=json.load(fp)\n",
    "fp.close()"
   ]
  },
  {
   "cell_type": "code",
   "execution_count": 5,
   "metadata": {},
   "outputs": [
    {
     "data": {
      "text/plain": [
       "{'1234': 'abc'}"
      ]
     },
     "execution_count": 5,
     "metadata": {},
     "output_type": "execute_result"
    }
   ],
   "source": [
    "data"
   ]
  },
  {
   "cell_type": "code",
   "execution_count": 8,
   "metadata": {},
   "outputs": [
    {
     "ename": "JSONDecodeError",
     "evalue": "Expecting value: line 1 column 1 (char 0)",
     "output_type": "error",
     "traceback": [
      "\u001b[1;31m---------------------------------------------------------------------------\u001b[0m",
      "\u001b[1;31mJSONDecodeError\u001b[0m                           Traceback (most recent call last)",
      "\u001b[1;32m<ipython-input-8-6257affc0f50>\u001b[0m in \u001b[0;36m<module>\u001b[1;34m\u001b[0m\n\u001b[0;32m      1\u001b[0m \u001b[1;32mimport\u001b[0m \u001b[0mjson\u001b[0m\u001b[1;33m\u001b[0m\u001b[1;33m\u001b[0m\u001b[0m\n\u001b[0;32m      2\u001b[0m \u001b[0mfp\u001b[0m\u001b[1;33m=\u001b[0m\u001b[0mopen\u001b[0m\u001b[1;33m(\u001b[0m\u001b[1;34m\"E://Bank Application/Data.db\"\u001b[0m\u001b[1;33m,\u001b[0m\u001b[1;34m\"r\"\u001b[0m\u001b[1;33m)\u001b[0m\u001b[1;33m\u001b[0m\u001b[1;33m\u001b[0m\u001b[0m\n\u001b[1;32m----> 3\u001b[1;33m \u001b[0mdata\u001b[0m\u001b[1;33m=\u001b[0m\u001b[0mjson\u001b[0m\u001b[1;33m.\u001b[0m\u001b[0mload\u001b[0m\u001b[1;33m(\u001b[0m\u001b[0mfp\u001b[0m\u001b[1;33m)\u001b[0m\u001b[1;33m\u001b[0m\u001b[1;33m\u001b[0m\u001b[0m\n\u001b[0m\u001b[0;32m      4\u001b[0m \u001b[0mfp\u001b[0m\u001b[1;33m.\u001b[0m\u001b[0mclose\u001b[0m\u001b[1;33m(\u001b[0m\u001b[1;33m)\u001b[0m\u001b[1;33m\u001b[0m\u001b[1;33m\u001b[0m\u001b[0m\n",
      "\u001b[1;32mC:\\ProgramData\\Anaconda3\\lib\\json\\__init__.py\u001b[0m in \u001b[0;36mload\u001b[1;34m(fp, cls, object_hook, parse_float, parse_int, parse_constant, object_pairs_hook, **kw)\u001b[0m\n\u001b[0;32m    294\u001b[0m         \u001b[0mcls\u001b[0m\u001b[1;33m=\u001b[0m\u001b[0mcls\u001b[0m\u001b[1;33m,\u001b[0m \u001b[0mobject_hook\u001b[0m\u001b[1;33m=\u001b[0m\u001b[0mobject_hook\u001b[0m\u001b[1;33m,\u001b[0m\u001b[1;33m\u001b[0m\u001b[1;33m\u001b[0m\u001b[0m\n\u001b[0;32m    295\u001b[0m         \u001b[0mparse_float\u001b[0m\u001b[1;33m=\u001b[0m\u001b[0mparse_float\u001b[0m\u001b[1;33m,\u001b[0m \u001b[0mparse_int\u001b[0m\u001b[1;33m=\u001b[0m\u001b[0mparse_int\u001b[0m\u001b[1;33m,\u001b[0m\u001b[1;33m\u001b[0m\u001b[1;33m\u001b[0m\u001b[0m\n\u001b[1;32m--> 296\u001b[1;33m         parse_constant=parse_constant, object_pairs_hook=object_pairs_hook, **kw)\n\u001b[0m\u001b[0;32m    297\u001b[0m \u001b[1;33m\u001b[0m\u001b[0m\n\u001b[0;32m    298\u001b[0m \u001b[1;33m\u001b[0m\u001b[0m\n",
      "\u001b[1;32mC:\\ProgramData\\Anaconda3\\lib\\json\\__init__.py\u001b[0m in \u001b[0;36mloads\u001b[1;34m(s, encoding, cls, object_hook, parse_float, parse_int, parse_constant, object_pairs_hook, **kw)\u001b[0m\n\u001b[0;32m    346\u001b[0m             \u001b[0mparse_int\u001b[0m \u001b[1;32mis\u001b[0m \u001b[1;32mNone\u001b[0m \u001b[1;32mand\u001b[0m \u001b[0mparse_float\u001b[0m \u001b[1;32mis\u001b[0m \u001b[1;32mNone\u001b[0m \u001b[1;32mand\u001b[0m\u001b[1;33m\u001b[0m\u001b[1;33m\u001b[0m\u001b[0m\n\u001b[0;32m    347\u001b[0m             parse_constant is None and object_pairs_hook is None and not kw):\n\u001b[1;32m--> 348\u001b[1;33m         \u001b[1;32mreturn\u001b[0m \u001b[0m_default_decoder\u001b[0m\u001b[1;33m.\u001b[0m\u001b[0mdecode\u001b[0m\u001b[1;33m(\u001b[0m\u001b[0ms\u001b[0m\u001b[1;33m)\u001b[0m\u001b[1;33m\u001b[0m\u001b[1;33m\u001b[0m\u001b[0m\n\u001b[0m\u001b[0;32m    349\u001b[0m     \u001b[1;32mif\u001b[0m \u001b[0mcls\u001b[0m \u001b[1;32mis\u001b[0m \u001b[1;32mNone\u001b[0m\u001b[1;33m:\u001b[0m\u001b[1;33m\u001b[0m\u001b[1;33m\u001b[0m\u001b[0m\n\u001b[0;32m    350\u001b[0m         \u001b[0mcls\u001b[0m \u001b[1;33m=\u001b[0m \u001b[0mJSONDecoder\u001b[0m\u001b[1;33m\u001b[0m\u001b[1;33m\u001b[0m\u001b[0m\n",
      "\u001b[1;32mC:\\ProgramData\\Anaconda3\\lib\\json\\decoder.py\u001b[0m in \u001b[0;36mdecode\u001b[1;34m(self, s, _w)\u001b[0m\n\u001b[0;32m    335\u001b[0m \u001b[1;33m\u001b[0m\u001b[0m\n\u001b[0;32m    336\u001b[0m         \"\"\"\n\u001b[1;32m--> 337\u001b[1;33m         \u001b[0mobj\u001b[0m\u001b[1;33m,\u001b[0m \u001b[0mend\u001b[0m \u001b[1;33m=\u001b[0m \u001b[0mself\u001b[0m\u001b[1;33m.\u001b[0m\u001b[0mraw_decode\u001b[0m\u001b[1;33m(\u001b[0m\u001b[0ms\u001b[0m\u001b[1;33m,\u001b[0m \u001b[0midx\u001b[0m\u001b[1;33m=\u001b[0m\u001b[0m_w\u001b[0m\u001b[1;33m(\u001b[0m\u001b[0ms\u001b[0m\u001b[1;33m,\u001b[0m \u001b[1;36m0\u001b[0m\u001b[1;33m)\u001b[0m\u001b[1;33m.\u001b[0m\u001b[0mend\u001b[0m\u001b[1;33m(\u001b[0m\u001b[1;33m)\u001b[0m\u001b[1;33m)\u001b[0m\u001b[1;33m\u001b[0m\u001b[1;33m\u001b[0m\u001b[0m\n\u001b[0m\u001b[0;32m    338\u001b[0m         \u001b[0mend\u001b[0m \u001b[1;33m=\u001b[0m \u001b[0m_w\u001b[0m\u001b[1;33m(\u001b[0m\u001b[0ms\u001b[0m\u001b[1;33m,\u001b[0m \u001b[0mend\u001b[0m\u001b[1;33m)\u001b[0m\u001b[1;33m.\u001b[0m\u001b[0mend\u001b[0m\u001b[1;33m(\u001b[0m\u001b[1;33m)\u001b[0m\u001b[1;33m\u001b[0m\u001b[1;33m\u001b[0m\u001b[0m\n\u001b[0;32m    339\u001b[0m         \u001b[1;32mif\u001b[0m \u001b[0mend\u001b[0m \u001b[1;33m!=\u001b[0m \u001b[0mlen\u001b[0m\u001b[1;33m(\u001b[0m\u001b[0ms\u001b[0m\u001b[1;33m)\u001b[0m\u001b[1;33m:\u001b[0m\u001b[1;33m\u001b[0m\u001b[1;33m\u001b[0m\u001b[0m\n",
      "\u001b[1;32mC:\\ProgramData\\Anaconda3\\lib\\json\\decoder.py\u001b[0m in \u001b[0;36mraw_decode\u001b[1;34m(self, s, idx)\u001b[0m\n\u001b[0;32m    353\u001b[0m             \u001b[0mobj\u001b[0m\u001b[1;33m,\u001b[0m \u001b[0mend\u001b[0m \u001b[1;33m=\u001b[0m \u001b[0mself\u001b[0m\u001b[1;33m.\u001b[0m\u001b[0mscan_once\u001b[0m\u001b[1;33m(\u001b[0m\u001b[0ms\u001b[0m\u001b[1;33m,\u001b[0m \u001b[0midx\u001b[0m\u001b[1;33m)\u001b[0m\u001b[1;33m\u001b[0m\u001b[1;33m\u001b[0m\u001b[0m\n\u001b[0;32m    354\u001b[0m         \u001b[1;32mexcept\u001b[0m \u001b[0mStopIteration\u001b[0m \u001b[1;32mas\u001b[0m \u001b[0merr\u001b[0m\u001b[1;33m:\u001b[0m\u001b[1;33m\u001b[0m\u001b[1;33m\u001b[0m\u001b[0m\n\u001b[1;32m--> 355\u001b[1;33m             \u001b[1;32mraise\u001b[0m \u001b[0mJSONDecodeError\u001b[0m\u001b[1;33m(\u001b[0m\u001b[1;34m\"Expecting value\"\u001b[0m\u001b[1;33m,\u001b[0m \u001b[0ms\u001b[0m\u001b[1;33m,\u001b[0m \u001b[0merr\u001b[0m\u001b[1;33m.\u001b[0m\u001b[0mvalue\u001b[0m\u001b[1;33m)\u001b[0m \u001b[1;32mfrom\u001b[0m \u001b[1;32mNone\u001b[0m\u001b[1;33m\u001b[0m\u001b[1;33m\u001b[0m\u001b[0m\n\u001b[0m\u001b[0;32m    356\u001b[0m         \u001b[1;32mreturn\u001b[0m \u001b[0mobj\u001b[0m\u001b[1;33m,\u001b[0m \u001b[0mend\u001b[0m\u001b[1;33m\u001b[0m\u001b[1;33m\u001b[0m\u001b[0m\n",
      "\u001b[1;31mJSONDecodeError\u001b[0m: Expecting value: line 1 column 1 (char 0)"
     ]
    }
   ],
   "source": [
    "import json\n",
    "fp=open(\"E://Bank Application/Data.db\",\"r\")\n",
    "data=json.load(fp)\n",
    "fp.close()"
   ]
  },
  {
   "cell_type": "code",
   "execution_count": 11,
   "metadata": {},
   "outputs": [],
   "source": [
    "data={'1234': {'fname': 'kanishk',\n",
    "  'lname': 'Rajawat',\n",
    "  'mob.no': 8890865541,\n",
    "  'address': '41,devipath,jaipur',\n",
    "  'deposit': 6000,\n",
    "  'loan': 0}}"
   ]
  },
  {
   "cell_type": "code",
   "execution_count": 12,
   "metadata": {},
   "outputs": [
    {
     "data": {
      "text/plain": [
       "{'1234': {'fname': 'kanishk',\n",
       "  'lname': 'Rajawat',\n",
       "  'mob.no': 8890865541,\n",
       "  'address': '41,devipath,jaipur',\n",
       "  'deposit': 6000,\n",
       "  'loan': 0}}"
      ]
     },
     "execution_count": 12,
     "metadata": {},
     "output_type": "execute_result"
    }
   ],
   "source": [
    "data\n"
   ]
  },
  {
   "cell_type": "code",
   "execution_count": 13,
   "metadata": {},
   "outputs": [],
   "source": [
    "fp=open(\"E://Bank Application/Data.db\",\"w\")\n",
    "json.dump(data,fp)\n",
    "fp.close()"
   ]
  },
  {
   "cell_type": "code",
   "execution_count": 18,
   "metadata": {},
   "outputs": [],
   "source": [
    "import json\n",
    "fp=open(\"E://Bank Application/Data.db\",\"r\")\n",
    "data=json.load(fp)\n",
    "fp.close()"
   ]
  },
  {
   "cell_type": "code",
   "execution_count": 19,
   "metadata": {},
   "outputs": [
    {
     "data": {
      "text/plain": [
       "{'1234': {'fname': 'kanishk',\n",
       "  'lname': 'Rajawat',\n",
       "  'mob.no': 8890865541,\n",
       "  'address': '41,devipath,jaipur',\n",
       "  'deposit': 6000,\n",
       "  'loan': 0},\n",
       " '1235': {'fname': 'shubham',\n",
       "  'lname': 'sharma',\n",
       "  'mob.no': 898912012,\n",
       "  'dateofbirth': '2000-09-08',\n",
       "  'address': '32,sjbfjhabs',\n",
       "  'aadhar': 9834209,\n",
       "  'username': 'ss',\n",
       "  'password': '1234',\n",
       "  'deposit': 0,\n",
       "  'loan': 0}}"
      ]
     },
     "execution_count": 19,
     "metadata": {},
     "output_type": "execute_result"
    }
   ],
   "source": [
    "data"
   ]
  },
  {
   "cell_type": "code",
   "execution_count": 20,
   "metadata": {},
   "outputs": [
    {
     "data": {
      "text/plain": [
       "{'fname': 'kanishk',\n",
       " 'lname': 'Rajawat',\n",
       " 'mob.no': 8890865541,\n",
       " 'address': '41,devipath,jaipur',\n",
       " 'deposit': 6000,\n",
       " 'loan': 0}"
      ]
     },
     "execution_count": 20,
     "metadata": {},
     "output_type": "execute_result"
    }
   ],
   "source": [
    "data.pop('1234')"
   ]
  },
  {
   "cell_type": "code",
   "execution_count": 21,
   "metadata": {},
   "outputs": [
    {
     "data": {
      "text/plain": [
       "{'1235': {'fname': 'shubham',\n",
       "  'lname': 'sharma',\n",
       "  'mob.no': 898912012,\n",
       "  'dateofbirth': '2000-09-08',\n",
       "  'address': '32,sjbfjhabs',\n",
       "  'aadhar': 9834209,\n",
       "  'username': 'ss',\n",
       "  'password': '1234',\n",
       "  'deposit': 0,\n",
       "  'loan': 0}}"
      ]
     },
     "execution_count": 21,
     "metadata": {},
     "output_type": "execute_result"
    }
   ],
   "source": [
    "data"
   ]
  },
  {
   "cell_type": "code",
   "execution_count": 22,
   "metadata": {},
   "outputs": [],
   "source": [
    "fp=open(\"E://Bank Application/Data.db\",\"w\")\n",
    "json.dump(data,fp)\n",
    "fp.close()"
   ]
  },
  {
   "cell_type": "code",
   "execution_count": 75,
   "metadata": {},
   "outputs": [],
   "source": [
    "import json\n",
    "fp=open(\"E://Bank Application/Data.db\",\"r\")\n",
    "data=json.load(fp)\n",
    "fp.close()"
   ]
  },
  {
   "cell_type": "code",
   "execution_count": 76,
   "metadata": {},
   "outputs": [
    {
     "data": {
      "text/plain": [
       "{'1': {'fname': 'kanishk',\n",
       "  'lname': 'rajawat',\n",
       "  'mob.no': 8890865541,\n",
       "  'dateofbirth': '1998-11-07',\n",
       "  'address': '41,devi path',\n",
       "  'aadhar': 123456,\n",
       "  'username': 'kpsr',\n",
       "  'password': '1234',\n",
       "  'deposit': 2000,\n",
       "  'loan': 500000}}"
      ]
     },
     "execution_count": 76,
     "metadata": {},
     "output_type": "execute_result"
    }
   ],
   "source": [
    "data"
   ]
  },
  {
   "cell_type": "code",
   "execution_count": 58,
   "metadata": {},
   "outputs": [],
   "source": [
    "def bus():\n",
    "    import json\n",
    "    pp=input(\"Do you have ITR(Income Tax Return)\").lower()\n",
    "    if pp=='no':\n",
    "        print(\"No loan will be given\".center(50,\"*\"))\n",
    "        return\n",
    "    else:\n",
    "        fp=open(\"E://Bank Application/Data.db\",\"r\")\n",
    "        data=json.load(fp)\n",
    "        fp.close()\n",
    "        accno=input(\"Enter account number\")\n",
    "        sal=int(input(\"Enter Monthly Income\"))\n",
    "        if sal>=300000:\n",
    "            data[accno]['loan']=500000\n",
    "        elif sal>=100000:\n",
    "            data[accno]['loan']=120000\n",
    "        elif sal>=40000:\n",
    "            data[accno]['loan']=50000\n",
    "    fp=open(\"E://Bank Application/Data.db\",\"w\")\n",
    "    json.dump(data,fp)\n",
    "    fp.close() "
   ]
  },
  {
   "cell_type": "code",
   "execution_count": 38,
   "metadata": {},
   "outputs": [
    {
     "data": {
      "text/plain": [
       "{'1235': {'fname': 'shubham',\n",
       "  'lname': 'sharma',\n",
       "  'mob.no': 898912012,\n",
       "  'dateofbirth': '2000-09-08',\n",
       "  'address': '32,sjbfjhabs',\n",
       "  'aadhar': 9834209,\n",
       "  'username': 'ss',\n",
       "  'password': '1234',\n",
       "  'deposit': 0,\n",
       "  'loan': 700000},\n",
       " '1236': {'fname': 'kanishk',\n",
       "  'lname': 'rajawat',\n",
       "  'mob.no': 8890865541,\n",
       "  'dateofbirth': '2000-07-06',\n",
       "  'address': '41,devi path',\n",
       "  'aadhar': 123456,\n",
       "  'username': 'kpsr',\n",
       "  'password': '1234',\n",
       "  'deposit': 0,\n",
       "  'loan': 0}}"
      ]
     },
     "execution_count": 38,
     "metadata": {},
     "output_type": "execute_result"
    }
   ],
   "source": [
    "data"
   ]
  },
  {
   "cell_type": "code",
   "execution_count": 62,
   "metadata": {},
   "outputs": [
    {
     "name": "stdout",
     "output_type": "stream",
     "text": [
      "Do you have ITR(Income Tax Return)no\n",
      "**************No loan will be given***************\n"
     ]
    }
   ],
   "source": [
    "bus()"
   ]
  },
  {
   "cell_type": "code",
   "execution_count": 43,
   "metadata": {},
   "outputs": [
    {
     "data": {
      "text/plain": [
       "{'1235': {'fname': 'shubham',\n",
       "  'lname': 'sharma',\n",
       "  'mob.no': 898912012,\n",
       "  'dateofbirth': '2000-09-08',\n",
       "  'address': '32,sjbfjhabs',\n",
       "  'aadhar': 9834209,\n",
       "  'username': 'ss',\n",
       "  'password': '1234',\n",
       "  'deposit': 0,\n",
       "  'loan': 700000},\n",
       " '1236': {'fname': 'kanishk',\n",
       "  'lname': 'rajawat',\n",
       "  'mob.no': 8890865541,\n",
       "  'dateofbirth': '2000-07-06',\n",
       "  'address': '41,devi path',\n",
       "  'aadhar': 123456,\n",
       "  'username': 'kpsr',\n",
       "  'password': '1234',\n",
       "  'deposit': 0,\n",
       "  'loan': 500000}}"
      ]
     },
     "execution_count": 43,
     "metadata": {},
     "output_type": "execute_result"
    }
   ],
   "source": [
    "data"
   ]
  },
  {
   "cell_type": "code",
   "execution_count": 45,
   "metadata": {},
   "outputs": [
    {
     "data": {
      "text/plain": [
       "{'fname': 'kanishk',\n",
       " 'lname': 'rajawat',\n",
       " 'mob.no': 8890865541,\n",
       " 'dateofbirth': '2000-07-06',\n",
       " 'address': '41,devi path',\n",
       " 'aadhar': 123456,\n",
       " 'username': 'kpsr',\n",
       " 'password': '1234',\n",
       " 'deposit': 0,\n",
       " 'loan': 500000}"
      ]
     },
     "execution_count": 45,
     "metadata": {},
     "output_type": "execute_result"
    }
   ],
   "source": [
    "data.pop('1236')"
   ]
  },
  {
   "cell_type": "code",
   "execution_count": 46,
   "metadata": {},
   "outputs": [
    {
     "data": {
      "text/plain": [
       "{}"
      ]
     },
     "execution_count": 46,
     "metadata": {},
     "output_type": "execute_result"
    }
   ],
   "source": [
    "data"
   ]
  },
  {
   "cell_type": "code",
   "execution_count": 47,
   "metadata": {},
   "outputs": [],
   "source": [
    "fp=open(\"E://Bank Application/Data.db\",\"w\")\n",
    "json.dump(data,fp)\n",
    "fp.close()"
   ]
  },
  {
   "cell_type": "code",
   "execution_count": 60,
   "metadata": {},
   "outputs": [],
   "source": [
    "import json\n",
    "fp=open(\"E://Bank Application/Data.db\",\"r\")\n",
    "data=json.load(fp)\n",
    "fp.close()"
   ]
  },
  {
   "cell_type": "code",
   "execution_count": 61,
   "metadata": {},
   "outputs": [
    {
     "data": {
      "text/plain": [
       "{'1': {'fname': 'kanishk',\n",
       "  'lname': 'rajawat',\n",
       "  'mob.no': 8890865541,\n",
       "  'dateofbirth': '1998-11-07',\n",
       "  'address': '41,devi path',\n",
       "  'aadhar': 123456,\n",
       "  'username': 'kpsr',\n",
       "  'password': '1234',\n",
       "  'deposit': 0,\n",
       "  'loan': 500000}}"
      ]
     },
     "execution_count": 61,
     "metadata": {},
     "output_type": "execute_result"
    }
   ],
   "source": [
    "data"
   ]
  },
  {
   "cell_type": "code",
   "execution_count": 72,
   "metadata": {},
   "outputs": [],
   "source": [
    "import os\n",
    "from time import sleep\n",
    "def a(start):\n",
    "    def inner():\n",
    "        print(\"*#\"*50)\n",
    "        print(\"\\t\"*5+\"*\"*30)\n",
    "        print(\"\\t\"*6+\"Welcome to Kodak Bank\")\n",
    "        print(\"\\t\"*5+\"*\"*30)\n",
    "        print(\"\\n\")\n",
    "        start()\n",
    "    return inner\n"
   ]
  },
  {
   "cell_type": "code",
   "execution_count": 65,
   "metadata": {},
   "outputs": [],
   "source": [
    "@a\n",
    "def op():\n",
    "    global a\n",
    "    print(\"\\t\"*5+\"Options\")\n",
    "    print(\"\\t\"*5+\"1.Banking\")\n",
    "    print(\"\\t\"*5+\"2.Loan\")\n",
    "    print(\"\\n\")\n",
    "    print(\"*#\"*50)\n",
    "    a=int(input())\n",
    "    load()\n",
    "    os.system(\"cls\")\n",
    "    option(a)\n"
   ]
  },
  {
   "cell_type": "code",
   "execution_count": 66,
   "metadata": {},
   "outputs": [
    {
     "name": "stdout",
     "output_type": "stream",
     "text": [
      "*#*#*#*#*#*#*#*#*#*#*#*#*#*#*#*#*#*#*#*#*#*#*#*#*#*#*#*#*#*#*#*#*#*#*#*#*#*#*#*#*#*#*#*#*#*#*#*#*#*#\n",
      "\t\t\t\t\t******************************\n",
      "\t\t\t\t\t\tWelcome to Kodak Bank\n",
      "\t\t\t\t\t******************************\n",
      "\n",
      "\n",
      "\t\t\t\t\tOptions\n",
      "\t\t\t\t\t1.Banking\n",
      "\t\t\t\t\t2.Loan\n",
      "\n",
      "\n",
      "*#*#*#*#*#*#*#*#*#*#*#*#*#*#*#*#*#*#*#*#*#*#*#*#*#*#*#*#*#*#*#*#*#*#*#*#*#*#*#*#*#*#*#*#*#*#*#*#*#*#\n",
      "2\n"
     ]
    },
    {
     "ename": "NameError",
     "evalue": "name 'load' is not defined",
     "output_type": "error",
     "traceback": [
      "\u001b[1;31m---------------------------------------------------------------------------\u001b[0m",
      "\u001b[1;31mNameError\u001b[0m                                 Traceback (most recent call last)",
      "\u001b[1;32m<ipython-input-66-e106d1c5949f>\u001b[0m in \u001b[0;36m<module>\u001b[1;34m\u001b[0m\n\u001b[1;32m----> 1\u001b[1;33m \u001b[0mop\u001b[0m\u001b[1;33m(\u001b[0m\u001b[1;33m)\u001b[0m\u001b[1;33m\u001b[0m\u001b[1;33m\u001b[0m\u001b[0m\n\u001b[0m",
      "\u001b[1;32m<ipython-input-64-d60aead13dc0>\u001b[0m in \u001b[0;36minner\u001b[1;34m()\u001b[0m\n\u001b[0;32m     10\u001b[0m         \u001b[0mstart\u001b[0m\u001b[1;33m(\u001b[0m\u001b[1;33m)\u001b[0m\u001b[1;33m\u001b[0m\u001b[1;33m\u001b[0m\u001b[0m\n\u001b[0;32m     11\u001b[0m         \u001b[0mos\u001b[0m\u001b[1;33m.\u001b[0m\u001b[0msystem\u001b[0m\u001b[1;33m(\u001b[0m\u001b[1;34m\"cls\"\u001b[0m\u001b[1;33m)\u001b[0m\u001b[1;33m\u001b[0m\u001b[1;33m\u001b[0m\u001b[0m\n\u001b[1;32m---> 12\u001b[1;33m         \u001b[0mload\u001b[0m\u001b[1;33m(\u001b[0m\u001b[1;33m)\u001b[0m\u001b[1;33m\u001b[0m\u001b[1;33m\u001b[0m\u001b[0m\n\u001b[0m\u001b[0;32m     13\u001b[0m     \u001b[1;32mreturn\u001b[0m \u001b[0minner\u001b[0m\u001b[1;33m\u001b[0m\u001b[1;33m\u001b[0m\u001b[0m\n",
      "\u001b[1;31mNameError\u001b[0m: name 'load' is not defined"
     ]
    }
   ],
   "source": [
    "op()"
   ]
  },
  {
   "cell_type": "code",
   "execution_count": 67,
   "metadata": {},
   "outputs": [
    {
     "data": {
      "text/plain": [
       "2"
      ]
     },
     "execution_count": 67,
     "metadata": {},
     "output_type": "execute_result"
    }
   ],
   "source": [
    "a"
   ]
  },
  {
   "cell_type": "code",
   "execution_count": 70,
   "metadata": {},
   "outputs": [],
   "source": [
    "def option():\n",
    "    if a==1:\n",
    "        print(\"Banking Option\".center(20,\"*\"))\n",
    "        print(\"1.Deposit\".center(20))\n",
    "        print(\"2.Withdrawl\".center(20))\n",
    "        print(\"3.Check balance\".center(20))\n",
    "        print(\"4.Open New Account\".center(20))\n",
    "        print(\"5.Edit Information\".center(20))\n",
    "        print(\"6.Manager login\".center(20))\n",
    "        b=input(\"Enter Choice\")\n",
    "        if b==1:\n",
    "            deposit()\n",
    "        elif b==2:\n",
    "            with_draw()\n",
    "        elif b==3:\n",
    "            check_bal()\n",
    "        elif b==4:\n",
    "            new_acc()\n",
    "        elif b==5:\n",
    "            edit_info()\n",
    "        elif b==6:\n",
    "            mgr()\n",
    "        else:\n",
    "            print(\"Invalid Option\".center(20,\"*\"))\n",
    "    elif a==2:\n",
    "        loan()"
   ]
  },
  {
   "cell_type": "code",
   "execution_count": 9,
   "metadata": {},
   "outputs": [
    {
     "data": {
      "text/plain": [
       "['__add__',\n",
       " '__class__',\n",
       " '__contains__',\n",
       " '__delattr__',\n",
       " '__dir__',\n",
       " '__doc__',\n",
       " '__eq__',\n",
       " '__format__',\n",
       " '__ge__',\n",
       " '__getattribute__',\n",
       " '__getitem__',\n",
       " '__getnewargs__',\n",
       " '__gt__',\n",
       " '__hash__',\n",
       " '__init__',\n",
       " '__init_subclass__',\n",
       " '__iter__',\n",
       " '__le__',\n",
       " '__len__',\n",
       " '__lt__',\n",
       " '__mod__',\n",
       " '__mul__',\n",
       " '__ne__',\n",
       " '__new__',\n",
       " '__reduce__',\n",
       " '__reduce_ex__',\n",
       " '__repr__',\n",
       " '__rmod__',\n",
       " '__rmul__',\n",
       " '__setattr__',\n",
       " '__sizeof__',\n",
       " '__str__',\n",
       " '__subclasshook__',\n",
       " 'capitalize',\n",
       " 'casefold',\n",
       " 'center',\n",
       " 'count',\n",
       " 'encode',\n",
       " 'endswith',\n",
       " 'expandtabs',\n",
       " 'find',\n",
       " 'format',\n",
       " 'format_map',\n",
       " 'index',\n",
       " 'isalnum',\n",
       " 'isalpha',\n",
       " 'isascii',\n",
       " 'isdecimal',\n",
       " 'isdigit',\n",
       " 'isidentifier',\n",
       " 'islower',\n",
       " 'isnumeric',\n",
       " 'isprintable',\n",
       " 'isspace',\n",
       " 'istitle',\n",
       " 'isupper',\n",
       " 'join',\n",
       " 'ljust',\n",
       " 'lower',\n",
       " 'lstrip',\n",
       " 'maketrans',\n",
       " 'partition',\n",
       " 'replace',\n",
       " 'rfind',\n",
       " 'rindex',\n",
       " 'rjust',\n",
       " 'rpartition',\n",
       " 'rsplit',\n",
       " 'rstrip',\n",
       " 'split',\n",
       " 'splitlines',\n",
       " 'startswith',\n",
       " 'strip',\n",
       " 'swapcase',\n",
       " 'title',\n",
       " 'translate',\n",
       " 'upper',\n",
       " 'zfill']"
      ]
     },
     "execution_count": 9,
     "metadata": {},
     "output_type": "execute_result"
    }
   ],
   "source": [
    "dir(str\n",
    "   )"
   ]
  },
  {
   "cell_type": "code",
   "execution_count": 7,
   "metadata": {},
   "outputs": [],
   "source": [
    "def with_draw():\n",
    "    import json\n",
    "    print(\"\\n\")\n",
    "    print(\"Withdrawl\".center(100,\"*\"))\n",
    "    print(\"\\n\"*2)\n",
    "    fp=open(\"E://Bank Application/Data.db\",\"r\")\n",
    "    data=json.load(fp)\n",
    "    fp.close()\n",
    "    accno=input(\"\\n\"+\"\\t\"*5+\"Enter Account Number->\")\n",
    "    if accno not in data.keys():\n",
    "        print(\"\\n\")\n",
    "        print(\"Enter valid Account number\".center(100,\"!\"))\n",
    "        with_draw()\n",
    "    else:\n",
    "        unm=input(\"\\n\"+\"\\t\"*5+\"Enter Username->\")\n",
    "        pwd=input(\"\\n\"+\"\\t\"*5+\"Enter Password->\")\n",
    "        if data[accno][\"username\"]!=unm or data[accno][\"password\"]!=pwd:\n",
    "            print(\"\\n\")\n",
    "            print(\"Enter Correct Username/Password\".center(100,\"!\"))\n",
    "            with_draw()\n",
    "        else:\n",
    "            if data[accno][\"deposit\"]!=0:\n",
    "                amnt=int(input(\"\\n\"+\"\\t\"*5+\"Enter Withdrwal Amount->\"))\n",
    "                if amnt <0:\n",
    "                    print(\"\\n\"+\"\\t\"*5+\"Amount cannot be negative\")\n",
    "                    with_draw()\n",
    "                elif amnt==0:\n",
    "                    if data[accno][\"deposit\"]!=0:   \n",
    "                        print(\"\\n\"+\"\\t\"*5+\"Amount cannot be zero\")\n",
    "                        with_draw()\n",
    "                elif data[accno][\"deposit\"]>=amnt:\n",
    "                    data[accno][\"deposit\"]-=amnt\n",
    "                    fp=open(\"E://Bank Application/Data.db\",\"w\")\n",
    "                    json.dump(data,fp)\n",
    "                    fp.close()\n",
    "                    a=input(\"\\n\"+\"\\t\"*5+\"Back to Main Menu (yes or no ?)\")\n",
    "                    if a=='yes':\n",
    "                        os.system(\"cls\")\n",
    "                        op1()\n",
    "                    else:\n",
    "                        return\n",
    "                else:\n",
    "                    print(\"\\n\")\n",
    "                    print(\"*!\"*50+\"\\n\")\n",
    "                    print(\"\\n\"+\"\\t\"*5+\"Insufficient Balance\\n\")\n",
    "                    print(\"*!\"*50)\n",
    "                    with_draw()\n",
    "            else:\n",
    "                print(\"\\n\")\n",
    "                print(\"*!\"*50+\"\\n\")\n",
    "                print(\"\\n\"+\"\\t\"*5+\"Your current balance is zero\\n\")\n",
    "                print(\"*!\"*50)\n",
    "                sleep(2)\n",
    "                os.system(\"cls\")\n",
    "                op1()"
   ]
  },
  {
   "cell_type": "code",
   "execution_count": 23,
   "metadata": {},
   "outputs": [],
   "source": [
    "def isi():\n",
    "    a=input(\"enter\")\n",
    "    if a.isnumeric():\n",
    "        pass\n",
    "    else:\n",
    "        return False\n",
    "    "
   ]
  },
  {
   "cell_type": "code",
   "execution_count": 24,
   "metadata": {},
   "outputs": [
    {
     "name": "stdout",
     "output_type": "stream",
     "text": [
      "entera\n"
     ]
    },
    {
     "data": {
      "text/plain": [
       "False"
      ]
     },
     "execution_count": 24,
     "metadata": {},
     "output_type": "execute_result"
    }
   ],
   "source": [
    "isi()"
   ]
  },
  {
   "cell_type": "code",
   "execution_count": 16,
   "metadata": {},
   "outputs": [],
   "source": [
    "if "
   ]
  },
  {
   "cell_type": "code",
   "execution_count": 17,
   "metadata": {},
   "outputs": [
    {
     "data": {
      "text/plain": [
       "False"
      ]
     },
     "execution_count": 17,
     "metadata": {},
     "output_type": "execute_result"
    }
   ],
   "source": [
    "a.isnumeric()"
   ]
  },
  {
   "cell_type": "code",
   "execution_count": 20,
   "metadata": {},
   "outputs": [],
   "source": [
    "def with_draw():\n",
    "    import json\n",
    "    print(\"\\n\")\n",
    "    print(\"*#\"*50+\"\\n\")\n",
    "    print(\"\\n\"+\"\\t\"*5+\"\")\n",
    "    print(\"*#\"*50)\n",
    "    fp=open(\"E://Bank Application/Data.db\",\"r\")\n",
    "    data=json.load(fp)\n",
    "    fp.close()\n",
    "    accno=input(\"\\n\"+\"\\t\"*5+\"Enter Account Number->\")\n",
    "    while\n",
    "    if isi(accno):\n",
    "        pass\n",
    "    else:\n",
    "        print(\"Accno cannot contain character\")\n",
    "        accno=input(\"Re-enter Account Number->\")\n",
    "    if accno not in data.keys():\n",
    "        print(\"\\n\")\n",
    "        print(\"Enter valid Account number\".center(100,\"!\"))\n",
    "        with_draw()\n",
    "    else:\n",
    "        unm=input(\"\\n\"+\"\\t\"*5+\"Enter Username->\")\n",
    "        pwd=input(\"\\n\"+\"\\t\"*5+\"Enter Password->\")\n",
    "        if data[accno][\"username\"]!=unm or data[accno][\"password\"]!=pwd:\n",
    "            print(\"\\n\")\n",
    "            print(\"Enter Correct Username/Password\".center(100,\"!\"))\n",
    "            with_draw()\n",
    "        else:\n",
    "            if data[accno][\"deposit\"]!=0:\n",
    "                amnt=int(input(\"\\n\"+\"\\t\"*5+\"Enter Withdrwal Amount->\"))\n",
    "                if amnt <0:\n",
    "                    print(\"\\n\"+\"\\t\"*5+\"Amount cannot be negative\")\n",
    "                    with_draw()\n",
    "                elif amnt==0:\n",
    "                    if data[accno][\"deposit\"]!=0:   \n",
    "                        print(\"\\n\"+\"\\t\"*5+\"Amount cannot be zero\")\n",
    "                        with_draw()\n",
    "                elif data[accno][\"deposit\"]>=amnt:\n",
    "                    data[accno][\"deposit\"]-=amnt\n",
    "                    fp=open(\"E://Bank Application/Data.db\",\"w\")\n",
    "                    json.dump(data,fp)\n",
    "                    fp.close()\n",
    "                    a=input(\"\\n\"+\"\\t\"*5+\"Back to Main Menu (yes or no ?)\")\n",
    "                    if a=='yes':\n",
    "                        os.system(\"cls\")\n",
    "                        op1()\n",
    "                    else:\n",
    "                        return\n",
    "                else:\n",
    "                    print(\"\\n\")\n",
    "                    print(\"*!\"*50+\"\\n\")\n",
    "                    print(\"\\n\"+\"\\t\"*5+\"Insufficient Balance\\n\")\n",
    "                    print(\"*!\"*50)\n",
    "                    with_draw()\n",
    "            else:\n",
    "                print(\"\\n\")\n",
    "                print(\"*!\"*50+\"\\n\")\n",
    "                print(\"\\n\"+\"\\t\"*5+\"Your current balance is zero\\n\")\n",
    "                print(\"*!\"*50)\n",
    "                sleep(2)\n",
    "                os.system(\"cls\")\n",
    "                op1()"
   ]
  },
  {
   "cell_type": "code",
   "execution_count": 30,
   "metadata": {},
   "outputs": [],
   "source": [
    "def ex(b):\n",
    "    while True:\n",
    "        if b in l:\n",
    "            if b==l[0]:\n",
    "                os.system(\"cls\")\n",
    "                op1()\n",
    "            else:\n",
    "                break\n",
    "        else:\n",
    "            b=input(\"Invalid Re-enter\")\n",
    "    exit"
   ]
  },
  {
   "cell_type": "code",
   "execution_count": 1,
   "metadata": {},
   "outputs": [],
   "source": [
    "def new_acc():\n",
    "    import json\n",
    "    print(\"\\n\")\n",
    "    print(\"*#\"*50+\"\\n\")\n",
    "    print(\"\\n\"+\"\\t\"*5+\"New Account\\n\")\n",
    "    print(\"*#\"*50)\n",
    "    from getpass import getpass\n",
    "    fname1=input(\"\\n\"+\"\\t\"*5+\"Enter First Name->\")\n",
    "    fname=isc(fname1)\n",
    "    lname1=input(\"\\n\"+\"\\t\"*5+\"Enter last Name->\")\n",
    "    lname=isc(lname1)\n",
    "    mob=input(\"\\n\"+\"\\t\"*5+\"Enter Mobile Number->\")\n",
    "    mob=isi(mob)\n",
    "    mob=valid(mob)\n",
    "    dob=input(\"\\n\"+\"\\t\"*5+\"Enter Date of birth in format YYYY-MM-DD->\")\n",
    "    add=input(\"\\n\"+\"\\t\"*5+\"Enter Address->\")\n",
    "    aad=input(\"\\n\"+\"\\t\"*5+\"Enter Aadhar number->\")\n",
    "    aad=isi(aad)\n",
    "    aad=valida(aad)\n",
    "    unm=input(\"\\n\"+\"\\t\"*5+\"Enter User name->\")\n",
    "    pas=getpass(\"\\n\"+\"\\t\"*5+\"Enter Password->\")\n",
    "    fp=open(\"E://Bank Application/Data.db\",\"r\")\n",
    "    data=json.load(fp)\n",
    "    fp.close()\n",
    "    d={}\n",
    "    d.setdefault(\"fname\",fname);d.setdefault(\"lname\",lname);d.setdefault(\"mob.no\",mob);d.setdefault(\"dateofbirth\",dob);d.setdefault(\"address\",add);d.setdefault(\"aadhar\",aad)\n",
    "    d.setdefault(\"username\",unm);d.setdefault(\"password\",pas);d.setdefault(\"deposit\",0);d.setdefault(\"loan\",0)\n",
    "    if not data:\n",
    "        a=1\n",
    "    else:\n",
    "        for var in data.keys():\n",
    "            pass\n",
    "        var=int(var)\n",
    "        a=str(var+1)\n",
    "        print(\"\\n\"+\"\\t\"*5+\"New Account Added!\")\n",
    "    print(\"\\n\"+\"\\t\"*5+\"Your Account number is ->\",a)\n",
    "    data.setdefault(a,d)\n",
    "    fp=open(\"E://Bank Application/Data.db\",\"w\")\n",
    "    json.dump(data,fp)\n",
    "    fp.close()\n",
    "    a=input(\"\\n\"+\"\\t\"*5+\"Back to Main Menu (yes or no ?)->\")\n",
    "    ex(a) "
   ]
  },
  {
   "cell_type": "code",
   "execution_count": 2,
   "metadata": {},
   "outputs": [
    {
     "data": {
      "text/plain": [
       "['__add__',\n",
       " '__class__',\n",
       " '__contains__',\n",
       " '__delattr__',\n",
       " '__dir__',\n",
       " '__doc__',\n",
       " '__eq__',\n",
       " '__format__',\n",
       " '__ge__',\n",
       " '__getattribute__',\n",
       " '__getitem__',\n",
       " '__getnewargs__',\n",
       " '__gt__',\n",
       " '__hash__',\n",
       " '__init__',\n",
       " '__init_subclass__',\n",
       " '__iter__',\n",
       " '__le__',\n",
       " '__len__',\n",
       " '__lt__',\n",
       " '__mod__',\n",
       " '__mul__',\n",
       " '__ne__',\n",
       " '__new__',\n",
       " '__reduce__',\n",
       " '__reduce_ex__',\n",
       " '__repr__',\n",
       " '__rmod__',\n",
       " '__rmul__',\n",
       " '__setattr__',\n",
       " '__sizeof__',\n",
       " '__str__',\n",
       " '__subclasshook__',\n",
       " 'capitalize',\n",
       " 'casefold',\n",
       " 'center',\n",
       " 'count',\n",
       " 'encode',\n",
       " 'endswith',\n",
       " 'expandtabs',\n",
       " 'find',\n",
       " 'format',\n",
       " 'format_map',\n",
       " 'index',\n",
       " 'isalnum',\n",
       " 'isalpha',\n",
       " 'isascii',\n",
       " 'isdecimal',\n",
       " 'isdigit',\n",
       " 'isidentifier',\n",
       " 'islower',\n",
       " 'isnumeric',\n",
       " 'isprintable',\n",
       " 'isspace',\n",
       " 'istitle',\n",
       " 'isupper',\n",
       " 'join',\n",
       " 'ljust',\n",
       " 'lower',\n",
       " 'lstrip',\n",
       " 'maketrans',\n",
       " 'partition',\n",
       " 'replace',\n",
       " 'rfind',\n",
       " 'rindex',\n",
       " 'rjust',\n",
       " 'rpartition',\n",
       " 'rsplit',\n",
       " 'rstrip',\n",
       " 'split',\n",
       " 'splitlines',\n",
       " 'startswith',\n",
       " 'strip',\n",
       " 'swapcase',\n",
       " 'title',\n",
       " 'translate',\n",
       " 'upper',\n",
       " 'zfill']"
      ]
     },
     "execution_count": 2,
     "metadata": {},
     "output_type": "execute_result"
    }
   ],
   "source": [
    "dir(str)"
   ]
  },
  {
   "cell_type": "code",
   "execution_count": 4,
   "metadata": {},
   "outputs": [
    {
     "data": {
      "text/plain": [
       "False"
      ]
     },
     "execution_count": 4,
     "metadata": {},
     "output_type": "execute_result"
    }
   ],
   "source": [
    "'1'.isalpha()"
   ]
  },
  {
   "cell_type": "code",
   "execution_count": 1,
   "metadata": {},
   "outputs": [],
   "source": [
    "def new_acc():\n",
    "    print(\"\\n\")\n",
    "    print(\"*#\"*50+\"\\n\")\n",
    "    print(\"\\n\"+\"\\t\"*5+\"New Account\\n\")\n",
    "    print(\"*#\"*50)\n",
    "    fname=input(\"\\n\"+\"\\t\"*5+\"Enter First Name->\")\n",
    "    fname=isc(fname)\n",
    "    lname=input(\"\\n\"+\"\\t\"*5+\"Enter last Name->\")\n",
    "    lname=isc(lname)\n",
    "    mob=input(\"\\n\"+\"\\t\"*5+\"Enter Mobile Number->\")\n",
    "    mob=isi(mob)\n",
    "    mob=valid(mob)\n",
    "    dob=input(\"\\n\"+\"\\t\"*5+\"Enter Date of birth in format YYYY-MM-DD->\")\n",
    "    add=input(\"\\n\"+\"\\t\"*5+\"Enter Address->\")\n",
    "    aad=input(\"\\n\"+\"\\t\"*5+\"Enter Aadhar number->\")\n",
    "    aad=isi(aad)\n",
    "    aad=valida(aad)\n",
    "    unm=input(\"\\n\"+\"\\t\"*5+\"Enter User name->\")\n",
    "    pas=getpass(\"\\n\"+\"\\t\"*5+\"Enter Password->\")\n",
    "    fp=open(\"E://Bank Application/Data.db\",\"r\")\n",
    "    data=json.load(fp)\n",
    "    fp.close()\n",
    "    d={}\n",
    "    d.setdefault(\"fname\",fname);d.setdefault(\"lname\",lname);d.setdefault(\"mob.no\",mob);d.setdefault(\"dateofbirth\",dob);d.setdefault(\"address\",add);d.setdefault(\"aadhar\",aad)\n",
    "    d.setdefault(\"username\",unm);d.setdefault(\"password\",pas);d.setdefault(\"deposit\",0);d.setdefault(\"loan\",0)\n",
    "    if not data:\n",
    "        a=1\n",
    "    else:\n",
    "        for var in data.keys():\n",
    "            pass\n",
    "        var=int(var)\n",
    "        a=str(var+1)\n",
    "        print(\"\\n\"+\"\\t\"*5+\"New Account Added!\")\n",
    "    data.setdefault(a,d)\n",
    "    print(\"Your account number is->\",a)\n",
    "    fp=open(\"E://Bank Application/Data.db\",\"w\")\n",
    "    json.dump(data,fp)\n",
    "    fp.close()\n",
    "    a=input(\"\\n\"+\"\\t\"*5+\"Back to Main Menu (yes or no ?)->\")\n",
    "    ex(a) "
   ]
  },
  {
   "cell_type": "code",
   "execution_count": 2,
   "metadata": {},
   "outputs": [],
   "source": [
    "import json"
   ]
  },
  {
   "cell_type": "code",
   "execution_count": 10,
   "metadata": {},
   "outputs": [],
   "source": [
    "fp=open(\"E://Bank Application/Data.db\",\"r\")\n",
    "data=json.load(fp)\n",
    "fp.close()"
   ]
  },
  {
   "cell_type": "code",
   "execution_count": 11,
   "metadata": {},
   "outputs": [
    {
     "data": {
      "text/plain": [
       "{'1': {'fname': 'kpsingh',\n",
       "  'lname': 'rajawat',\n",
       "  'mob.no': 8890865541,\n",
       "  'dateofbirth': '1998-11-07',\n",
       "  'address': '41,devi path',\n",
       "  'aadhar': 123456,\n",
       "  'username': 'kpsr',\n",
       "  'password': '1234',\n",
       "  'deposit': 21880,\n",
       "  'loan': 1000000},\n",
       " '2': {'fname': 'kanishk',\n",
       "  'lname': 'bhaduka',\n",
       "  'mob.no': 8923489,\n",
       "  'dateofbirth': '2000-09-07',\n",
       "  'address': '32,asdjfbhja',\n",
       "  'aadhar': 123456,\n",
       "  'username': 'peeyush',\n",
       "  'password': '1234',\n",
       "  'deposit': 0,\n",
       "  'loan': 0},\n",
       " '3': {'fname': 'keshav',\n",
       "  'lname': 'aharwal',\n",
       "  'mob.no': 8897123,\n",
       "  'dateofbirth': '2000-09-08',\n",
       "  'address': '43,abfk',\n",
       "  'aadhar': 12738,\n",
       "  'username': 'keshav',\n",
       "  'password': '1234',\n",
       "  'deposit': 0,\n",
       "  'loan': 0},\n",
       " '4': {'fname': 'loki',\n",
       "  'lname': 'asd',\n",
       "  'mob.no': 8900123,\n",
       "  'dateofbirth': '1999-09-08',\n",
       "  'address': '4,asfas',\n",
       "  'aadhar': 12313,\n",
       "  'username': 'loki',\n",
       "  'password': '1234',\n",
       "  'deposit': 0,\n",
       "  'loan': 0},\n",
       " '5': {'fname': 'abc',\n",
       "  'lname': 'def',\n",
       "  'mob.no': 894945,\n",
       "  'dateofbirth': '2009-09-08',\n",
       "  'address': '123,asdf',\n",
       "  'aadhar': 12314,\n",
       "  'username': 'abc',\n",
       "  'password': '1234',\n",
       "  'deposit': 0,\n",
       "  'loan': 0},\n",
       " '6': {'fname': 'rahul',\n",
       "  'lname': 'sharma',\n",
       "  'mob.no': 8909765243,\n",
       "  'dateofbirth': '2000-09-08',\n",
       "  'address': '23,hjbshj',\n",
       "  'aadhar': 23412342112,\n",
       "  'username': 'rahul',\n",
       "  'password': '1234',\n",
       "  'deposit': 0,\n",
       "  'loan': 400000},\n",
       " '7': {'fname': 'rudra',\n",
       "  'lname': 'rathore',\n",
       "  'mob.no': '8374658768',\n",
       "  'dateofbirth': '2009-09-08',\n",
       "  'address': '56,bsjh',\n",
       "  'aadhar': '123456683982',\n",
       "  'username': 'rudra',\n",
       "  'password': '1234',\n",
       "  'deposit': 0,\n",
       "  'loan': 0},\n",
       " '8': {'fname': 'shubham',\n",
       "  'lname': 'sharma',\n",
       "  'mob.no': '1236876343',\n",
       "  'dateofbirth': '2003-09-08',\n",
       "  'address': '67,bujbgfyu',\n",
       "  'aadhar': '123658736878',\n",
       "  'username': 'shubham',\n",
       "  'password': '1234',\n",
       "  'deposit': 0,\n",
       "  'loan': 0},\n",
       " '9': {'fname': 'keshav',\n",
       "  'lname': 'agarwal',\n",
       "  'mob.no': '6760458829',\n",
       "  'dateofbirth': '1982-11-08',\n",
       "  'address': 'idbi bank',\n",
       "  'aadhar': '828243765858',\n",
       "  'username': 'keshav',\n",
       "  'password': 'abcd',\n",
       "  'deposit': 1000,\n",
       "  'loan': 0}}"
      ]
     },
     "execution_count": 11,
     "metadata": {},
     "output_type": "execute_result"
    }
   ],
   "source": [
    "data"
   ]
  },
  {
   "cell_type": "code",
   "execution_count": 6,
   "metadata": {},
   "outputs": [],
   "source": [
    "data['1']['fname']='kpsingh'"
   ]
  },
  {
   "cell_type": "code",
   "execution_count": 7,
   "metadata": {},
   "outputs": [
    {
     "data": {
      "text/plain": [
       "{'1': {'fname': 'kpsingh',\n",
       "  'lname': 'rajawat',\n",
       "  'mob.no': 8890865541,\n",
       "  'dateofbirth': '1998-11-07',\n",
       "  'address': '41,devi path',\n",
       "  'aadhar': 123456,\n",
       "  'username': 'kpsr',\n",
       "  'password': '1234',\n",
       "  'deposit': 21880,\n",
       "  'loan': 1000000},\n",
       " '2': {'fname': 'kanishk',\n",
       "  'lname': 'bhaduka',\n",
       "  'mob.no': 8923489,\n",
       "  'dateofbirth': '2000-09-07',\n",
       "  'address': '32,asdjfbhja',\n",
       "  'aadhar': 123456,\n",
       "  'username': 'peeyush',\n",
       "  'password': '1234',\n",
       "  'deposit': 0,\n",
       "  'loan': 0},\n",
       " '3': {'fname': 'keshav',\n",
       "  'lname': 'aharwal',\n",
       "  'mob.no': 8897123,\n",
       "  'dateofbirth': '2000-09-08',\n",
       "  'address': '43,abfk',\n",
       "  'aadhar': 12738,\n",
       "  'username': 'keshav',\n",
       "  'password': '1234',\n",
       "  'deposit': 0,\n",
       "  'loan': 0},\n",
       " '4': {'fname': 'loki',\n",
       "  'lname': 'asd',\n",
       "  'mob.no': 8900123,\n",
       "  'dateofbirth': '1999-09-08',\n",
       "  'address': '4,asfas',\n",
       "  'aadhar': 12313,\n",
       "  'username': 'loki',\n",
       "  'password': '1234',\n",
       "  'deposit': 0,\n",
       "  'loan': 0},\n",
       " '5': {'fname': 'abc',\n",
       "  'lname': 'def',\n",
       "  'mob.no': 894945,\n",
       "  'dateofbirth': '2009-09-08',\n",
       "  'address': '123,asdf',\n",
       "  'aadhar': 12314,\n",
       "  'username': 'abc',\n",
       "  'password': '1234',\n",
       "  'deposit': 0,\n",
       "  'loan': 0},\n",
       " '6': {'fname': 'rahul',\n",
       "  'lname': 'sharma',\n",
       "  'mob.no': 8909765243,\n",
       "  'dateofbirth': '2000-09-08',\n",
       "  'address': '23,hjbshj',\n",
       "  'aadhar': 23412342112,\n",
       "  'username': 'rahul',\n",
       "  'password': '1234',\n",
       "  'deposit': 0,\n",
       "  'loan': 400000},\n",
       " '7': {'fname': 'rudra',\n",
       "  'lname': 'rathore',\n",
       "  'mob.no': '8374658768',\n",
       "  'dateofbirth': '2009-09-08',\n",
       "  'address': '56,bsjh',\n",
       "  'aadhar': '123456683982',\n",
       "  'username': 'rudra',\n",
       "  'password': '1234',\n",
       "  'deposit': 0,\n",
       "  'loan': 0},\n",
       " '8': {'fname': 'shubham',\n",
       "  'lname': 'sharma',\n",
       "  'mob.no': '1236876343',\n",
       "  'dateofbirth': '2003-09-08',\n",
       "  'address': '67,bujbgfyu',\n",
       "  'aadhar': '123658736878',\n",
       "  'username': 'shubham',\n",
       "  'password': '1234',\n",
       "  'deposit': 0,\n",
       "  'loan': 0},\n",
       " '9': {'fname': 'keshav',\n",
       "  'lname': 'agarwal',\n",
       "  'mob.no': '6760458829',\n",
       "  'dateofbirth': '1982-11-08',\n",
       "  'address': 'idbi bank',\n",
       "  'aadhar': '828243765858',\n",
       "  'username': 'keshav',\n",
       "  'password': 'abcd',\n",
       "  'deposit': 1000,\n",
       "  'loan': 0}}"
      ]
     },
     "execution_count": 7,
     "metadata": {},
     "output_type": "execute_result"
    }
   ],
   "source": [
    "data"
   ]
  },
  {
   "cell_type": "code",
   "execution_count": 9,
   "metadata": {},
   "outputs": [],
   "source": [
    "fp=open(\"E://Bank Application/Data.db\",\"w\")\n",
    "json.dump(data,fp)\n",
    "fp.close()"
   ]
  },
  {
   "cell_type": "code",
   "execution_count": 12,
   "metadata": {},
   "outputs": [],
   "source": [
    "def edit_info():\n",
    "    import json\n",
    "    print(\"\\n\")\n",
    "    print(\"*#\"*50+\"\\n\")\n",
    "    print(\"\\n\"+\"\\t\"*5+\"Edit Information\\n\")\n",
    "    print(\"*#\"*50)\n",
    "    fp=open(\"E://Bank Application/Data.db\",\"r\")\n",
    "    data=json.load(fp)\n",
    "    fp.close()\n",
    "    accno=input(\"\\n\"+\"\\t\"*5+\"Enter Account Number\")\n",
    "    accno=isi(accno)\n",
    "    if accno not in data.keys():\n",
    "        print(\"\\n\"+\"\\t\"*5+\"Enter valid Account number\")\n",
    "        return\n",
    "    print(\"Options \\n1.Edit FirstName \\n2.Edit LastName \\n3.Edit Mobile no. \\n4.Address \\n5.Username \\n6.password \\n7.Exit\")\n",
    "    a=int(input(\"\\n\"+\"\\t\"*5+\"Enter Choice\"))\n",
    "    while True:\n",
    "        if a==1:\n",
    "            fname=input(\"\\n\"+\"\\t\"*5+\"Enter First Name->\")\n",
    "            fname=isc(fname)\n",
    "            data[accno][\"fname\"]=fname\n",
    "        elif a==2:\n",
    "            lname=input(\"\\n\"+\"\\t\"*5+\"Enter Last Name->\")\n",
    "            lname=isc(lname)\n",
    "            data[accno][\"lname\"]=lname\n",
    "        elif a==3:\n",
    "            mob=input(\"\\n\"+\"\\t\"*5+\"Enter Mobile number->\")\n",
    "            mob=isi(mob)\n",
    "            mob=valid(mob)\n",
    "            data[accno][\"mob.no\"]=mob\n",
    "        elif a==4:\n",
    "            add=input(\"\\n\"+\"\\t\"*5+\"Enter Address->\")\n",
    "            data[accno][\"add\"]=add\n",
    "        elif a==5:\n",
    "            unm=input(\"\\n\"+\"\\t\"*5+\"Enter Username->\")\n",
    "            data[accno][\"username\"]=unm\n",
    "        elif a==6:\n",
    "            pwd=input(\"\\n\"+\"\\t\"*5+\"Enter Password->\")\n",
    "            data[accno][\"password\"]=pwd\n",
    "        elif a==7:\n",
    "            break\n",
    "        else:\n",
    "            print(\"\\n\"+\"\\t\"*5+\"Invalid option!\")\n",
    "        a=int(input(\"\\n\"+\"\\t\"*5+\"Enter Choice\"))\n",
    "    fp=open(\"E://Bank Application/Data.db\",\"w\")\n",
    "    json.dump(data,fp)\n",
    "    fp.close()   \n",
    "    op.system(\"cls\")\n",
    "    op1()"
   ]
  },
  {
   "cell_type": "code",
   "execution_count": 13,
   "metadata": {},
   "outputs": [],
   "source": [
    "def gov(accno):\n",
    "    fp=open(\"E://Bank Application/Data.db\",\"r\")\n",
    "    data=json.load(fp)\n",
    "    fp.close()\n",
    "    pslip=input(\"\\n\"+\"\\t\"*5+\"Do you have Pay Slip(1.yes or 2.no)?->\")\n",
    "    pslip=isi(pslip)\n",
    "    if pslip=='2':\n",
    "        print(\"\\n\"+\"\\t\"*5+\"No loan will be given!\")\n",
    "        sleep(1.5)\n",
    "        op1()\n",
    "    elif pslip=='1':\n",
    "        msal=input(\"\\n\"+\"\\t\"*5+\"Enter salary->\")\n",
    "        msal=isi(msal)\n",
    "        while True:\n",
    "            msal=isi(msal)\n",
    "            if msal=='0':\n",
    "                print(\"\\n\"+\"\\t\"*5+\"Salary cannot be zero\")\n",
    "            else:\n",
    "                msal=int(msal)\n",
    "                if msal>=500000:\n",
    "                    print(\"\\n\"+\"\\t\"*5+\"Loan Amount of 10 lakh has been added to your account\")\n",
    "                    data[accno]['loan']=1000000\n",
    "                    break\n",
    "                elif msal>=100000:\n",
    "                    print(\"\\n\"+\"\\t\"*5+\"Loan Amount of 4 lakh has been added to your account\")\n",
    "                    data[accno]['loan']=400000\n",
    "                    break\n",
    "                elif msal>=50000:\n",
    "                    print(\"\\n\"+\"\\t\"*5+\"Loan Amount of 2 lakh has been added to your account\")\n",
    "                    data[accno]['loan']=200000\n",
    "                    break\n",
    "                elif msal>=200000:\n",
    "                    print(\"\\n\"+\"\\t\"*5+\"Loan Amount of 1 lakh has been added to your account\")\n",
    "                    data[accno]['loan']=100000\n",
    "                    break\n",
    "                elif msal<=20000:\n",
    "                    print(\"\\n\"+\"\\t\"*5+\"No loan will be given!\")\n",
    "                    sleep(1.5)\n",
    "                    op1()\n",
    "            msal=input(\"\\n\"+\"\\t\"*5+\"Re-enter->\")\n",
    "    else:\n",
    "        print(\"\\n\"+\"\\t\"*5+\"Invalid Option!\")\n",
    "        gov()\n",
    "    fp=open(\"E://Bank Application/Data.db\",\"w\")\n",
    "    json.dump(data,fp)\n",
    "    fp.close()\n",
    "    a=input(\"\\n\"+\"\\t\"*5+\"Back to Main Menu (yes or no ?)->\")\n",
    "    ex(a)  "
   ]
  },
  {
   "cell_type": "code",
   "execution_count": 2,
   "metadata": {},
   "outputs": [],
   "source": [
    "def priv(accno):\n",
    "    import json\n",
    "    pp=input(\"\\n\"+\"\\t\"*5+\"Do you have Property Papers(1.yes or 2.no)?->\")\n",
    "    pp=isi(pp)\n",
    "    if pp=='2':\n",
    "        print(\"\\n\"+\"\\t\"*5+\"No loan will be given\")\n",
    "        sleep(1.5)\n",
    "        op1()\n",
    "    elif pp=='1':\n",
    "        fp=open(\"E://Bank Application/Data.db\",\"r\")\n",
    "        data=json.load(fp)\n",
    "        fp.close()\n",
    "        sal=input(\"\\n\"+\"\\t\"*5+\"Enter Monthly salary->\")\n",
    "        sal=isi(sal)\n",
    "        while True:\n",
    "            sal=isi(sal)\n",
    "            if sal=='0':\n",
    "                print(\"\\n\"+\"\\t\"*5+\"Salary cannot be zero\")\n",
    "            else:\n",
    "                sal=int(sal)\n",
    "                if sal>=500000:\n",
    "                    print(\"\\n\"+\"\\t\"*5+\"Loan Amount of 7 lakh has been added to your account\")\n",
    "                    data[accno]['loan']+=700000\n",
    "                    break\n",
    "                elif sal>=100000:\n",
    "                    print(\"\\n\"+\"\\t\"*5+\"Loan Amount of 3 lakh has been added to your account\")\n",
    "                    data[accno]['loan']+=300000\n",
    "                    break\n",
    "                elif sal>=50000:\n",
    "                    print(\"\\n\"+\"\\t\"*5+\"Loan Amount of 1 lakh has been added to your account\")\n",
    "                    data[accno]['loan']+=100000\n",
    "                    break\n",
    "                elif sal<=50000:\n",
    "                    print(\"\\n\"+\"\\t\"*5+\"NO loan will be given!\")\n",
    "                    sleep(1.5)\n",
    "                    op1()\n",
    "            sal=input(\"\\n\"+\"\\t\"*5+\"Re-enter->\")\n",
    "    else:\n",
    "        print(\"\\n\"+\"\\t\"*5+\"Invalid Option!\")\n",
    "        priv(accno)\n",
    "    fp=open(\"E://Bank Application/Data.db\",\"w\")\n",
    "    json.dump(data,fp)\n",
    "    fp.close()\n",
    "    a=input(\"\\n\"+\"\\t\"*5+\"Back to Main Menu (yes or no ?)->\")\n",
    "    ex(a)  "
   ]
  },
  {
   "cell_type": "code",
   "execution_count": 3,
   "metadata": {},
   "outputs": [],
   "source": [
    "def gov(accno):\n",
    "    print(\"\\n\")\n",
    "    print(\"*#\"*50+\"\\n\")\n",
    "    print(\"\\n\"+\"\\t\"*5+\"Loan(Govermnet Employee)\\n\")\n",
    "    print(\"*#\"*50)\n",
    "    fp=open(\"E://Bank Application/Data.db\",\"r\")\n",
    "    data=json.load(fp)\n",
    "    fp.close()\n",
    "    pslip=input(\"\\n\"+\"\\t\"*5+\"Do you have Pay Slip(1.yes or 2.no)?->\")\n",
    "    pslip=isi(pslip)\n",
    "    if pslip=='2':\n",
    "        print(\"\\n\"+\"\\t\"*5+\"No loan will be given!\")\n",
    "        sleep(1.5)\n",
    "        os.system(\"cls\")\n",
    "        op1()\n",
    "    elif pslip=='1':\n",
    "        msal=input(\"\\n\"+\"\\t\"*5+\"Enter salary->\")\n",
    "        msal=isi(msal)\n",
    "        while True:\n",
    "            msal=isi(msal)\n",
    "            if msal=='0':\n",
    "                print(\"\\n\"+\"\\t\"*5+\"Salary cannot be zero\")\n",
    "            else:\n",
    "                msal=int(msal)\n",
    "                if msal>=500000:\n",
    "                    print(\"\\n\"+\"\\t\"*5+\"Loan Amount of 10 lakh has been added to your account\")\n",
    "                    data[accno]['loan']+=1000000\n",
    "                    break\n",
    "                elif msal>=100000:\n",
    "                    print(\"\\n\"+\"\\t\"*5+\"Loan Amount of 4 lakh has been added to your account\")\n",
    "                    data[accno]['loan']+=400000\n",
    "                    break\n",
    "                elif msal>=50000:\n",
    "                    print(\"\\n\"+\"\\t\"*5+\"Loan Amount of 2 lakh has been added to your account\")\n",
    "                    data[accno]['loan']+=200000\n",
    "                    break\n",
    "                elif msal>=200000:\n",
    "                    print(\"\\n\"+\"\\t\"*5+\"Loan Amount of 1 lakh has been added to your account\")\n",
    "                    data[accno]['loan']+=100000\n",
    "                    break\n",
    "                elif msal<=20000:\n",
    "                    print(\"\\n\"+\"\\t\"*5+\"No loan will be given!\")\n",
    "                    sleep(1.5)\n",
    "                    os.system(\"cls\")\n",
    "                    op1()\n",
    "            msal=input(\"\\n\"+\"\\t\"*5+\"Re-enter->\")\n",
    "    else:\n",
    "        print(\"\\n\"+\"\\t\"*5+\"Invalid Option!\")\n",
    "        gov(accno)\n",
    "    fp=open(\"E://Bank Application/Data.db\",\"w\")\n",
    "    json.dump(data,fp)\n",
    "    fp.close()\n",
    "    a=input(\"\\n\"+\"\\t\"*5+\"Back to Main Menu (yes or no ?)->\")\n",
    "    ex(a)    "
   ]
  },
  {
   "cell_type": "code",
   "execution_count": null,
   "metadata": {},
   "outputs": [],
   "source": [
    "def prof(accno):\n",
    "    print(\"Profession \\n1.Government Employee \\n2.Private Employee \\n3.Businessman \\n4.Student/Unemployee\")\n",
    "    a=input(\"\\n\"+\"\\t\"*5+\"Enter Choice->\")\n",
    "    while True:\n",
    "        if a=='1':\n",
    "            os.system(\"cls\")\n",
    "            gov(accno)\n",
    "        elif a=='2':\n",
    "            os.system(\"cls\")\n",
    "            priv(accno)\n",
    "        elif a=='3':\n",
    "            os.system(\"cls\")\n",
    "            bus(accno)\n",
    "        elif a=='4':\n",
    "            print(\"\\n\"+\"\\t\"*5+\"No loan will be provided!\")\n",
    "            sleep(1.5)\n",
    "            os.system(\"cls\")\n",
    "            op1()\n",
    "        else:\n",
    "            print(\"\\n\"+\"\\t\"*5+\"Invalid Option!\")\n",
    "        a=input(\"\\n\"+\"\\t\"*5+\"Re-enter->\")"
   ]
  }
 ],
 "metadata": {
  "kernelspec": {
   "display_name": "Python 3",
   "language": "python",
   "name": "python3"
  },
  "language_info": {
   "codemirror_mode": {
    "name": "ipython",
    "version": 3
   },
   "file_extension": ".py",
   "mimetype": "text/x-python",
   "name": "python",
   "nbconvert_exporter": "python",
   "pygments_lexer": "ipython3",
   "version": "3.7.3"
  }
 },
 "nbformat": 4,
 "nbformat_minor": 2
}
