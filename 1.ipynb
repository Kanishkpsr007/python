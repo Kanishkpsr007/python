{
 "cells": [
  {
   "cell_type": "code",
   "execution_count": 1,
   "metadata": {},
   "outputs": [
    {
     "name": "stdout",
     "output_type": "stream",
     "text": [
      "Enter length of list5\n",
      "Enter number2\n",
      "Enter number21\n",
      "Enter number3\n",
      "Enter number4\n",
      "Enter number22\n",
      "[2, 21, 3, 4, 22]\n",
      "Enter number to count2\n",
      "4\n"
     ]
    }
   ],
   "source": [
    "ln=int(input(\"Enter length of list\"))\n",
    "k=0\n",
    "l=[]\n",
    "while k<ln:\n",
    "    l.append(int(input(\"Enter number\")))\n",
    "    k+=1\n",
    "print(l)\n",
    "b=int(input(\"Enter number to count\"))\n",
    "i=0\n",
    "c=0\n",
    "while i<len(l):\n",
    "    while l[i]>0:\n",
    "        a=l[i]%10\n",
    "        l[i]//=10\n",
    "        if a==b:\n",
    "            c+=1\n",
    "    i+=1\n",
    "print(c)\n",
    "        "
   ]
  },
  {
   "cell_type": "markdown",
   "metadata": {},
   "source": []
  },
  {
   "cell_type": "code",
   "execution_count": 35,
   "metadata": {},
   "outputs": [
    {
     "name": "stdout",
     "output_type": "stream",
     "text": [
      "Enter a stringABCD\n",
      "Enter a characterC\n",
      "ABCCD\n"
     ]
    }
   ],
   "source": [
    "l=input(\"Enter a string\")\n",
    "l1=list(l)\n",
    "a=input(\"Enter a character\")\n",
    "i=0\n",
    "while i<len(l1):\n",
    "    if a==l1[i]:\n",
    "        if i==0:\n",
    "            l1.append(a)\n",
    "            break\n",
    "        else:\n",
    "            l1.insert((~i)+1,a)\n",
    "            break\n",
    "    i+=1\n",
    "print(''.join(l1))"
   ]
  },
  {
   "cell_type": "code",
   "execution_count": 17,
   "metadata": {},
   "outputs": [
    {
     "name": "stdout",
     "output_type": "stream",
     "text": [
      "Enter list of number1,22,23,34,56,2\n",
      "Enter number to count2\n",
      "4\n"
     ]
    }
   ],
   "source": [
    "l=input(\"Enter list of number\").split(',')\n",
    "l1=''.join(l)\n",
    "a=input(\"Enter number to count\")\n",
    "print(l1.count(a))"
   ]
  },
  {
   "cell_type": "code",
   "execution_count": 13,
   "metadata": {},
   "outputs": [
    {
     "name": "stdout",
     "output_type": "stream",
     "text": [
      "Enter a stringabcd\n",
      "Enter a characterc\n",
      "abccd\n"
     ]
    }
   ],
   "source": [
    "l=input(\"Enter a string\")\n",
    "a=input(\"Enter a character\")\n",
    "l1=list(l)\n",
    "j=l1.index(a)\n",
    "l2=l1[::-1]\n",
    "l2.insert(j,a)\n",
    "print(''.join(l2[::-1]))"
   ]
  },
  {
   "cell_type": "code",
   "execution_count": 1,
   "metadata": {},
   "outputs": [
    {
     "data": {
      "text/plain": [
       "['__class__',\n",
       " '__contains__',\n",
       " '__delattr__',\n",
       " '__delitem__',\n",
       " '__dir__',\n",
       " '__doc__',\n",
       " '__eq__',\n",
       " '__format__',\n",
       " '__ge__',\n",
       " '__getattribute__',\n",
       " '__getitem__',\n",
       " '__gt__',\n",
       " '__hash__',\n",
       " '__init__',\n",
       " '__init_subclass__',\n",
       " '__iter__',\n",
       " '__le__',\n",
       " '__len__',\n",
       " '__lt__',\n",
       " '__ne__',\n",
       " '__new__',\n",
       " '__reduce__',\n",
       " '__reduce_ex__',\n",
       " '__repr__',\n",
       " '__setattr__',\n",
       " '__setitem__',\n",
       " '__sizeof__',\n",
       " '__str__',\n",
       " '__subclasshook__',\n",
       " 'clear',\n",
       " 'copy',\n",
       " 'fromkeys',\n",
       " 'get',\n",
       " 'items',\n",
       " 'keys',\n",
       " 'pop',\n",
       " 'popitem',\n",
       " 'setdefault',\n",
       " 'update',\n",
       " 'values']"
      ]
     },
     "execution_count": 1,
     "metadata": {},
     "output_type": "execute_result"
    }
   ],
   "source": [
    "dir(dict)"
   ]
  },
  {
   "cell_type": "code",
   "execution_count": null,
   "metadata": {},
   "outputs": [],
   "source": []
  },
  {
   "cell_type": "code",
   "execution_count": null,
   "metadata": {},
   "outputs": [],
   "source": []
  }
 ],
 "metadata": {
  "kernelspec": {
   "display_name": "Python 3",
   "language": "python",
   "name": "python3"
  },
  "language_info": {
   "codemirror_mode": {
    "name": "ipython",
    "version": 3
   },
   "file_extension": ".py",
   "mimetype": "text/x-python",
   "name": "python",
   "nbconvert_exporter": "python",
   "pygments_lexer": "ipython3",
   "version": "3.7.3"
  }
 },
 "nbformat": 4,
 "nbformat_minor": 2
}
