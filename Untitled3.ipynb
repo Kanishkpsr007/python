{
 "cells": [
  {
   "cell_type": "code",
   "execution_count": 3,
   "metadata": {},
   "outputs": [],
   "source": [
    "import socket\n"
   ]
  },
  {
   "cell_type": "code",
   "execution_count": 8,
   "metadata": {},
   "outputs": [
    {
     "name": "stdout",
     "output_type": "stream",
     "text": [
      "The server is created\n",
      "Server is ready to listen\n",
      "<socket.socket fd=516, family=AddressFamily.AF_INET, type=SocketKind.SOCK_STREAM, proto=0, laddr=('127.0.0.1', 12345), raddr=('127.0.0.1', 53244)>\n",
      "('127.0.0.1', 53244)\n"
     ]
    }
   ],
   "source": [
    "server_socket=socket.socket(socket.AF_INET,socket.SOCK_STREAM)\n",
    "print(\"The server is created\")\n",
    "host=\"127.0.0.1\"\n",
    "port=12345\n",
    "server_socket.bind((host,port))\n",
    "server_socket.listen()\n",
    "print(\"Server is ready to listen\")\n",
    "client_socket,client_addr=server_socket.accept()\n",
    "print(client_socket)\n",
    "print(client_addr)\n",
    "data=client_socket.recv(1024).decode().split(\"\\n\")[0].split()[1]\n",
    "resp1=\"\"\"HTTP 200 ok\n",
    "Content-Type:text/html\n",
    "\n",
    "<html>\n",
    "<body>\n",
    "<h1 style='color:red'>Welcome to '/'</h1>\n",
    "<p>This is socket program</p>\n",
    "</body>\n",
    "</html>\"\"\".encode()\n",
    "resp2=\"\"\"HTTP 200 ok \n",
    "Content-Type:text/html\n",
    "\n",
    "<html>\n",
    "<body>\n",
    "<h1 style='color:blue'>Welcome to '/about'</h1>\n",
    "<p>This is socket program</p>\n",
    "</body>\n",
    "</html>\"\"\".encode()\n",
    "resp3=\"\"\"HTTP 200 ok \n",
    "content-Type:text/html\n",
    "<html>\n",
    "<body>\n",
    "<h1 style='color:green'>None to show</h1>\n",
    "<p>This is socket program</p>\n",
    "</body>\n",
    "</html>\"\"\".encode()\n",
    "if data==\"/\":\n",
    "    client_socket.send(resp1)\n",
    "elif data==\"/about\":\n",
    "    client_socket.send(resp2)\n",
    "else:\n",
    "    client_socket.send(resp3)\n"
   ]
  },
  {
   "cell_type": "code",
   "execution_count": 4,
   "metadata": {},
   "outputs": [
    {
     "data": {
      "text/plain": [
       "['GET / HTTP/1.1\\r',\n",
       " 'Host: localhost:12345\\r',\n",
       " 'Connection: keep-alive\\r',\n",
       " 'Upgrade-Insecure-Requests: 1\\r',\n",
       " 'User-Agent: Mozilla/5.0 (Windows NT 6.1; Win64; x64) AppleWebKit/537.36 (KHTML, like Gecko) Chrome/75.0.3770.100 Safari/537.36\\r',\n",
       " 'Accept: text/html,application/xhtml+xml,application/xml;q=0.9,image/webp,image/apng,*/*;q=0.8,application/signed-exchange;v=b3\\r',\n",
       " 'Accept-Encoding: gzip, deflate, br\\r',\n",
       " 'Accept-Language: en-GB,en-US;q=0.9,en;q=0.8\\r',\n",
       " 'Cookie: _xsrf=2|9a3d5c9b|f974ae62f2f3f3dbac116016dd594fce|1559721785; username-localhost-8889=\"2|1:0|10:1561174697|23:username-localhost-8889|44:NjE4MDg3YmU2ZWMyNDQxYWIzMmFhNzJmY2JhYmZkY2M=|410b68ad6a0ee40aef16ef3c9b063998aa564b75177981baf4adb29033545598\"; username-localhost-8890=\"2|1:0|10:1561175102|23:username-localhost-8890|44:MTNlMGJhZjRkOGQwNDVlN2JjYmY2NDc4MTIxNGIzMWI=|4dbe4e80b9db3ead0b01493dc69f2da2218ffa62c91756e80fed729d6eededcf\"; username-localhost-8888=\"2|1:0|10:1561522000|23:username-localhost-8888|44:MTgzODgzNjNmYThmNGRkMWI5YjZmN2I0MjJlY2I0Mzk=|da01532aa108b727ccaeac0974fb8d']"
      ]
     },
     "execution_count": 4,
     "metadata": {},
     "output_type": "execute_result"
    }
   ],
   "source": [
    "data"
   ]
  },
  {
   "cell_type": "code",
   "execution_count": 11,
   "metadata": {},
   "outputs": [
    {
     "data": {
      "text/plain": [
       "'/'"
      ]
     },
     "execution_count": 11,
     "metadata": {},
     "output_type": "execute_result"
    }
   ],
   "source": [
    "data[0].split()[1]"
   ]
  },
  {
   "cell_type": "code",
   "execution_count": 13,
   "metadata": {},
   "outputs": [],
   "source": [
    "import sqlite3 as sq3"
   ]
  },
  {
   "cell_type": "code",
   "execution_count": 1,
   "metadata": {},
   "outputs": [],
   "source": [
    "import pymysql"
   ]
  },
  {
   "cell_type": "code",
   "execution_count": 1,
   "metadata": {},
   "outputs": [
    {
     "data": {
      "text/plain": [
       "['__add__',\n",
       " '__class__',\n",
       " '__contains__',\n",
       " '__delattr__',\n",
       " '__dir__',\n",
       " '__doc__',\n",
       " '__eq__',\n",
       " '__format__',\n",
       " '__ge__',\n",
       " '__getattribute__',\n",
       " '__getitem__',\n",
       " '__getnewargs__',\n",
       " '__gt__',\n",
       " '__hash__',\n",
       " '__init__',\n",
       " '__init_subclass__',\n",
       " '__iter__',\n",
       " '__le__',\n",
       " '__len__',\n",
       " '__lt__',\n",
       " '__mod__',\n",
       " '__mul__',\n",
       " '__ne__',\n",
       " '__new__',\n",
       " '__reduce__',\n",
       " '__reduce_ex__',\n",
       " '__repr__',\n",
       " '__rmod__',\n",
       " '__rmul__',\n",
       " '__setattr__',\n",
       " '__sizeof__',\n",
       " '__str__',\n",
       " '__subclasshook__',\n",
       " 'capitalize',\n",
       " 'casefold',\n",
       " 'center',\n",
       " 'count',\n",
       " 'encode',\n",
       " 'endswith',\n",
       " 'expandtabs',\n",
       " 'find',\n",
       " 'format',\n",
       " 'format_map',\n",
       " 'index',\n",
       " 'isalnum',\n",
       " 'isalpha',\n",
       " 'isascii',\n",
       " 'isdecimal',\n",
       " 'isdigit',\n",
       " 'isidentifier',\n",
       " 'islower',\n",
       " 'isnumeric',\n",
       " 'isprintable',\n",
       " 'isspace',\n",
       " 'istitle',\n",
       " 'isupper',\n",
       " 'join',\n",
       " 'ljust',\n",
       " 'lower',\n",
       " 'lstrip',\n",
       " 'maketrans',\n",
       " 'partition',\n",
       " 'replace',\n",
       " 'rfind',\n",
       " 'rindex',\n",
       " 'rjust',\n",
       " 'rpartition',\n",
       " 'rsplit',\n",
       " 'rstrip',\n",
       " 'split',\n",
       " 'splitlines',\n",
       " 'startswith',\n",
       " 'strip',\n",
       " 'swapcase',\n",
       " 'title',\n",
       " 'translate',\n",
       " 'upper',\n",
       " 'zfill']"
      ]
     },
     "execution_count": 1,
     "metadata": {},
     "output_type": "execute_result"
    }
   ],
   "source": [
    "dir(str)"
   ]
  },
  {
   "cell_type": "code",
   "execution_count": 10,
   "metadata": {},
   "outputs": [],
   "source": [
    "s=\"1+4\"\n"
   ]
  },
  {
   "cell_type": "code",
   "execution_count": 12,
   "metadata": {},
   "outputs": [
    {
     "data": {
      "text/plain": [
       "'1+'"
      ]
     },
     "execution_count": 12,
     "metadata": {},
     "output_type": "execute_result"
    }
   ],
   "source": [
    "s[:-1]"
   ]
  },
  {
   "cell_type": "code",
   "execution_count": 4,
   "metadata": {},
   "outputs": [],
   "source": [
    "a=list(s)"
   ]
  },
  {
   "cell_type": "code",
   "execution_count": 7,
   "metadata": {},
   "outputs": [
    {
     "data": {
      "text/plain": [
       "['1', '+']"
      ]
     },
     "execution_count": 7,
     "metadata": {},
     "output_type": "execute_result"
    }
   ],
   "source": [
    "a"
   ]
  },
  {
   "cell_type": "code",
   "execution_count": 6,
   "metadata": {},
   "outputs": [
    {
     "data": {
      "text/plain": [
       "'4'"
      ]
     },
     "execution_count": 6,
     "metadata": {},
     "output_type": "execute_result"
    }
   ],
   "source": [
    "a.pop()"
   ]
  },
  {
   "cell_type": "code",
   "execution_count": 8,
   "metadata": {},
   "outputs": [],
   "source": [
    "b=str(a)"
   ]
  },
  {
   "cell_type": "code",
   "execution_count": 9,
   "metadata": {},
   "outputs": [
    {
     "data": {
      "text/plain": [
       "\"['1', '+']\""
      ]
     },
     "execution_count": 9,
     "metadata": {},
     "output_type": "execute_result"
    }
   ],
   "source": [
    "b"
   ]
  },
  {
   "cell_type": "code",
   "execution_count": 13,
   "metadata": {},
   "outputs": [
    {
     "data": {
      "text/plain": [
       "'1+4'"
      ]
     },
     "execution_count": 13,
     "metadata": {},
     "output_type": "execute_result"
    }
   ],
   "source": [
    "s"
   ]
  },
  {
   "cell_type": "code",
   "execution_count": null,
   "metadata": {},
   "outputs": [],
   "source": []
  }
 ],
 "metadata": {
  "kernelspec": {
   "display_name": "Python 3",
   "language": "python",
   "name": "python3"
  },
  "language_info": {
   "codemirror_mode": {
    "name": "ipython",
    "version": 3
   },
   "file_extension": ".py",
   "mimetype": "text/x-python",
   "name": "python",
   "nbconvert_exporter": "python",
   "pygments_lexer": "ipython3",
   "version": "3.7.3"
  }
 },
 "nbformat": 4,
 "nbformat_minor": 2
}
