{
 "cells": [
  {
   "cell_type": "code",
   "execution_count": 1,
   "metadata": {},
   "outputs": [
    {
     "name": "stdout",
     "output_type": "stream",
     "text": [
      "Enter First number2\n",
      "Enter second number3\n"
     ]
    },
    {
     "data": {
      "text/plain": [
       "3"
      ]
     },
     "execution_count": 1,
     "metadata": {},
     "output_type": "execute_result"
    }
   ],
   "source": [
    "a=int(input(\"Enter First number\"))\n",
    "b=int(input(\"Enter second number\"))\n",
    "max(a,b)"
   ]
  },
  {
   "cell_type": "code",
   "execution_count": 2,
   "metadata": {},
   "outputs": [
    {
     "name": "stdout",
     "output_type": "stream",
     "text": [
      "Enter First number1\n",
      "Enter second number2\n",
      "Enter Third number3\n"
     ]
    },
    {
     "data": {
      "text/plain": [
       "3"
      ]
     },
     "execution_count": 2,
     "metadata": {},
     "output_type": "execute_result"
    }
   ],
   "source": [
    "a=int(input(\"Enter First number\"))\n",
    "b=int(input(\"Enter second number\"))\n",
    "c=int(input(\"Enter Third number\"))\n",
    "max(a,b,c)"
   ]
  },
  {
   "cell_type": "code",
   "execution_count": 3,
   "metadata": {},
   "outputs": [
    {
     "name": "stdout",
     "output_type": "stream",
     "text": [
      "enter a number2\n",
      "2 is positive\n"
     ]
    }
   ],
   "source": [
    "a=int(input(\"enter a number\"))\n",
    "if a>0:\n",
    "    print(f\"{a} is positive\")\n",
    "elif a<0:\n",
    "    print(f\"{a} is negative\")\n",
    "else:\n",
    "    print(f\"{a} is zero\")"
   ]
  },
  {
   "cell_type": "code",
   "execution_count": 5,
   "metadata": {},
   "outputs": [
    {
     "name": "stdout",
     "output_type": "stream",
     "text": [
      "enter a number5\n",
      "Not divisible\n"
     ]
    }
   ],
   "source": [
    "a=int(input(\"enter a number\"))\n",
    "if a%5==0 and a%11==0:\n",
    "    print(\"Divisible\")\n",
    "else:\n",
    "    print(\"Not divisible\")"
   ]
  },
  {
   "cell_type": "code",
   "execution_count": 7,
   "metadata": {},
   "outputs": [
    {
     "name": "stdout",
     "output_type": "stream",
     "text": [
      "Enter a number3\n",
      "odd\n"
     ]
    }
   ],
   "source": [
    "if(int(input(\"Enter a number\")))%2:\n",
    "    print(\"odd\")\n",
    "else:\n",
    "    print(\"Even\")"
   ]
  },
  {
   "cell_type": "code",
   "execution_count": 13,
   "metadata": {},
   "outputs": [
    {
     "name": "stdout",
     "output_type": "stream",
     "text": [
      "Enter a number2016\n",
      "Leap year\n"
     ]
    }
   ],
   "source": [
    "a=int(input(\"Enter a number\"))\n",
    "if a%4==0 and a%400==0 and a%100!=0:\n",
    "    print(\"Not a leap year\")\n",
    "else:\n",
    "    print(\"Leap year\")"
   ]
  },
  {
   "cell_type": "code",
   "execution_count": 16,
   "metadata": {},
   "outputs": [
    {
     "name": "stdout",
     "output_type": "stream",
     "text": [
      "Enter a number2\n",
      "Not\n"
     ]
    }
   ],
   "source": [
    "if(input(\"Enter a number\")).isalpha():\n",
    "    print(\"Alphabet\")\n",
    "else:\n",
    "    print(\"Not\")"
   ]
  },
  {
   "cell_type": "code",
   "execution_count": 19,
   "metadata": {},
   "outputs": [
    {
     "name": "stdout",
     "output_type": "stream",
     "text": [
      "enterc\n",
      "consonent\n"
     ]
    }
   ],
   "source": [
    "a=input(\"enter\").lower()\n",
    "if a==\"a\"  or a==\"e\"  or a==\"i\"  or a==\"o\" or a==\"u\" :\n",
    "    print(\"Vowels\")\n",
    "else:\n",
    "    print(\"consonent\")"
   ]
  },
  {
   "cell_type": "code",
   "execution_count": 22,
   "metadata": {},
   "outputs": [
    {
     "name": "stdout",
     "output_type": "stream",
     "text": [
      "Enter a number@\n",
      "Special Character\n"
     ]
    }
   ],
   "source": [
    "a=input(\"Enter a number\")\n",
    "if a.isalpha():\n",
    "    print(\"Alphabet\")\n",
    "elif a.isdigit():\n",
    "    print(\"Digit\")\n",
    "else:\n",
    "    print(\"Special Character\")"
   ]
  },
  {
   "cell_type": "code",
   "execution_count": 25,
   "metadata": {},
   "outputs": [
    {
     "name": "stdout",
     "output_type": "stream",
     "text": [
      "Enter a numberKANISK\n",
      "Uppercase\n"
     ]
    }
   ],
   "source": [
    "if(input(\"Enter a number\")).isupper():\n",
    "    print(\"Uppercase\")\n",
    "else:\n",
    "    print(\"Lowercase\")"
   ]
  },
  {
   "cell_type": "code",
   "execution_count": 28,
   "metadata": {},
   "outputs": [
    {
     "name": "stdout",
     "output_type": "stream",
     "text": [
      "enter week number7\n",
      "Sunday\n"
     ]
    }
   ],
   "source": [
    "a=int(input(\"enter week number\"))\n",
    "if a==1:\n",
    "    print(\"Monday\")\n",
    "elif a==2:\n",
    "    print(\"Tuesday\")\n",
    "elif a==3:\n",
    "    print(\"Wednesday\")\n",
    "elif a==4:\n",
    "    print(\"Thursday\")\n",
    "elif a==5:\n",
    "    print(\"Friday\")\n",
    "elif a==6:\n",
    "    print(\"Saturday\")\n",
    "elif a==7:\n",
    "    print(\"Sunday\")\n",
    "else:\n",
    "    print(\"Invalid week number\")"
   ]
  },
  {
   "cell_type": "code",
   "execution_count": 30,
   "metadata": {},
   "outputs": [
    {
     "name": "stdout",
     "output_type": "stream",
     "text": [
      "enter month number3\n",
      " 31 Days \n"
     ]
    }
   ],
   "source": [
    "a=int(input(\"enter month number\"))\n",
    "if a==1 or a==3 or a==5 or a==7 or a==8 or a==10 or a==12:\n",
    "    print(\" 31 Days \")\n",
    "elif a==2:\n",
    "    print(\"28/29 Days\")\n",
    "elif a==4 or a==6 or a==9 or a==11:\n",
    "    print(\"30 days\")\n",
    "else:\n",
    "    print(\"Invalid month number\")"
   ]
  },
  {
   "cell_type": "code",
   "execution_count": 2,
   "metadata": {},
   "outputs": [
    {
     "name": "stdout",
     "output_type": "stream",
     "text": [
      "1st angle20\n",
      "2st angle34\n",
      "3st angle56\n",
      "Triangle is not valid\n"
     ]
    }
   ],
   "source": [
    "a=int(input(\"1st angle\"))\n",
    "b=int(input(\"2st angle\"))\n",
    "c=int(input(\"3st angle\"))\n",
    "if a+b+c==180:\n",
    "    print(\"Triangle is valid\")\n",
    "else:\n",
    "    print(\"Triangle is not valid\")"
   ]
  },
  {
   "cell_type": "code",
   "execution_count": 5,
   "metadata": {},
   "outputs": [
    {
     "name": "stdout",
     "output_type": "stream",
     "text": [
      "1st side20\n",
      "2st side10\n",
      "3st side20\n",
      "Triangle is valid\n"
     ]
    }
   ],
   "source": [
    "a=int(input(\"1st side\"))\n",
    "b=int(input(\"2st side\"))\n",
    "c=int(input(\"3st side\"))\n",
    "if a+b>c and b+c>a and c+a>b:\n",
    "    print(\"Triangle is valid\")\n",
    "else:\n",
    "    print(\"Triangle is not valid\")"
   ]
  },
  {
   "cell_type": "code",
   "execution_count": 9,
   "metadata": {},
   "outputs": [
    {
     "name": "stdout",
     "output_type": "stream",
     "text": [
      "1st side30\n",
      "2st side20\n",
      "3st side50\n",
      "Scalene triangle\n"
     ]
    }
   ],
   "source": [
    "a=int(input(\"1st side\"))\n",
    "b=int(input(\"2st side\"))\n",
    "c=int(input(\"3st side\"))\n",
    "if a!=b and a!=c and b!=c:\n",
    "    print(\"Scalene triangle\")\n",
    "elif a==b!=c or a==c!=b or b==c!=a:\n",
    "    print(\"isosceles triangle\")\n",
    "elif a==b==c:\n",
    "    print(\"Equivalent triangle\")"
   ]
  },
  {
   "cell_type": "code",
   "execution_count": 18,
   "metadata": {},
   "outputs": [
    {
     "name": "stdout",
     "output_type": "stream",
     "text": [
      "Quadratic equation: a*x^2+b*x+c\n",
      "Enter a5\n",
      "Enter b20\n",
      "Enter c10\n",
      "Root 1=-0.5857864376269049  Root 2=-3.414213562373095\n"
     ]
    }
   ],
   "source": [
    "from math import sqrt\n",
    "print(\"Quadratic equation: a*x^2+b*x+c\")\n",
    "a=int(input(\"Enter a\"))\n",
    "b=int(input(\"Enter b\"))\n",
    "c=int(input(\"Enter c\"))\n",
    "r=(b**2)-4*(a*c)\n",
    "if r>0:\n",
    "    s1=((-b)+sqrt(r))/(2*a)\n",
    "    s2=((-b)-sqrt(r))/(2*a)\n",
    "    print(f\"Root 1={s1}  Root 2={s2}\")\n",
    "elif r==0:\n",
    "    s1=-b/2*a\n",
    "    print(f\"Root ={s1}\")\n",
    "else:\n",
    "    print(\"Invaid\")"
   ]
  },
  {
   "cell_type": "code",
   "execution_count": 24,
   "metadata": {},
   "outputs": [
    {
     "name": "stdout",
     "output_type": "stream",
     "text": [
      "Enter cost price1000\n",
      "Enter selling price1000\n",
      "No Profit No Loss!! \n"
     ]
    }
   ],
   "source": [
    "a=int(input(\"Enter cost price\"))\n",
    "b=int(input(\"Enter selling price\"))\n",
    "if a<b:\n",
    "    c=b-a\n",
    "    print(f\"Profit of {c}\")\n",
    "elif a>b:\n",
    "    c=a-b\n",
    "    print(f\"Loss of {c}\")\n",
    "else:\n",
    "    print(\"No Profit No Loss!! \")"
   ]
  },
  {
   "cell_type": "code",
   "execution_count": 3,
   "metadata": {},
   "outputs": [
    {
     "name": "stdout",
     "output_type": "stream",
     "text": [
      "Enter marks of Physics ->60\n",
      "Enter marks of Chemistry ->60\n",
      "Enter marks of Biology ->60\n",
      "Enter marks of Mathematics ->60\n",
      "Enter marks of Computer ->60\n",
      "60.0\n",
      "Grade D\n"
     ]
    }
   ],
   "source": [
    "a=int(input(\"Enter marks of Physics ->\"))\n",
    "b=int(input(\"Enter marks of Chemistry ->\"))\n",
    "c=int(input(\"Enter marks of Biology ->\"))\n",
    "d=int(input(\"Enter marks of Mathematics ->\"))\n",
    "e=int(input(\"Enter marks of Computer ->\"))\n",
    "per=((a+b+c+d+e)/500)*100\n",
    "print(per)\n",
    "if per>=90:\n",
    "    print(\"Grade A\")\n",
    "elif per>=80:\n",
    "    print(\"Grade B\")\n",
    "elif per>=70:\n",
    "    print(\"Grade c\")\n",
    "elif per>=60:\n",
    "    print(\"Grade D\")\n",
    "elif per>=40:\n",
    "    print(\"Grade E\")\n",
    "elif per<40:\n",
    "    print(\"Grade F\")\n",
    "    \n",
    "    \n"
   ]
  },
  {
   "cell_type": "code",
   "execution_count": 5,
   "metadata": {},
   "outputs": [
    {
     "name": "stdout",
     "output_type": "stream",
     "text": [
      "Enter salary10000\n",
      "Gross = 20000.0\n"
     ]
    }
   ],
   "source": [
    "sal=int(input(\"Enter salary\"))\n",
    "if sal<=10000:\n",
    "    har=sal*.2 \n",
    "    da=sal*.8\n",
    "elif sal<=20000:\n",
    "    har=sal*.25\n",
    "    da=sal*.9\n",
    "elif sal>20000:\n",
    "    har=sal*.3\n",
    "    da=sal*.95\n",
    "gross=sal+har+da\n",
    "print(f\"Gross = {gross}\")"
   ]
  },
  {
   "cell_type": "code",
   "execution_count": 7,
   "metadata": {},
   "outputs": [
    {
     "name": "stdout",
     "output_type": "stream",
     "text": [
      "Enter units consumed:300\n",
      "Total =354.0\n"
     ]
    }
   ],
   "source": [
    "unit=int(input(\"Enter units consumed:\"))\n",
    "if unit<=50:\n",
    "    amt=unit*.50\n",
    "elif unit<=150:\n",
    "    amt=25+(unit-50)*.75\n",
    "elif unit<=250:\n",
    "    amt=100+(unit-150)*1.20\n",
    "else:\n",
    "    amt=220+(unit-250)*1.50\n",
    "surcrg=amt*.2\n",
    "total=surcrg+amt\n",
    "print(f\"Total ={total}\")"
   ]
  },
  {
   "cell_type": "code",
   "execution_count": null,
   "metadata": {},
   "outputs": [],
   "source": []
  }
 ],
 "metadata": {
  "kernelspec": {
   "display_name": "Python 3",
   "language": "python",
   "name": "python3"
  },
  "language_info": {
   "codemirror_mode": {
    "name": "ipython",
    "version": 3
   },
   "file_extension": ".py",
   "mimetype": "text/x-python",
   "name": "python",
   "nbconvert_exporter": "python",
   "pygments_lexer": "ipython3",
   "version": "3.7.3"
  }
 },
 "nbformat": 4,
 "nbformat_minor": 2
}
