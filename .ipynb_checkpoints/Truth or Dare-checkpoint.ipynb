{
 "cells": [
  {
   "cell_type": "code",
   "execution_count": 12,
   "metadata": {},
   "outputs": [
    {
     "name": "stdout",
     "output_type": "stream",
     "text": [
      "********Truth or Dare*********\n",
      "Enter Players Name seperated by ','->a,b,c\n",
      "b Turn!\n",
      "Enter choice \n",
      "1.Truth\n",
      " 2.Dare\n",
      "1\n",
      "Your Question is -> What is the quality or characteristic that would like to change about you?\n"
     ]
    }
   ],
   "source": [
    "from random import randint\n",
    "from time import sleep\n",
    "truth=['What was the most embarrassing moment of your life?',\n",
    "       'What is the quality or characteristic that would like to change about you?',\n",
    "       'Do you cover your eyes during a scary part in a movie?',\n",
    "       'Do you ever talk to yourself in the mirror?',\n",
    "       'If you were reborn, what decade would you want to be born in?']\n",
    "dare=['Eat a whole piece of paper.',\n",
    "      'Eat a raw egg.',\n",
    "      'Stand up and do jumping jacks until your next turn.',\n",
    "      'Let your friends pose you and stay like that until the next round.',\n",
    "      'Be blindfolded and let someone feed you something.']\n",
    "print(\"Truth or Dare\".center(30,'*'))\n",
    "name=input(\"Enter Players Name seperated by ','->\").split(',')\n",
    "player=name[randint(0,len(name)-1)]\n",
    "print(f\"{player} Turn!\")\n",
    "ch=int(input(\"Enter choice \\n1.Truth\\n 2.Dare\\n\"))\n",
    "if ch==1:\n",
    "    que=truth[randint(0,len(truth)-1)]\n",
    "    sleep(2)\n",
    "    print(\"Your Question is ->\",que)\n",
    "elif ch==2:\n",
    "    que=dare[randint(0,len(dare)-1)]\n",
    "    sleep(2)\n",
    "    print(\"Your Question is ->\",que)\n",
    "else:\n",
    "    print(\"Choose either 1 or 2\")"
   ]
  },
  {
   "cell_type": "code",
   "execution_count": null,
   "metadata": {},
   "outputs": [],
   "source": []
  }
 ],
 "metadata": {
  "kernelspec": {
   "display_name": "Python 3",
   "language": "python",
   "name": "python3"
  },
  "language_info": {
   "codemirror_mode": {
    "name": "ipython",
    "version": 3
   },
   "file_extension": ".py",
   "mimetype": "text/x-python",
   "name": "python",
   "nbconvert_exporter": "python",
   "pygments_lexer": "ipython3",
   "version": "3.7.3"
  }
 },
 "nbformat": 4,
 "nbformat_minor": 2
}
