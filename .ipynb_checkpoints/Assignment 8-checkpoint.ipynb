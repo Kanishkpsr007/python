{
 "cells": [
  {
   "cell_type": "code",
   "execution_count": 2,
   "metadata": {},
   "outputs": [
    {
     "name": "stdout",
     "output_type": "stream",
     "text": [
      "Hello World\n"
     ]
    }
   ],
   "source": [
    "print(\"Hello World\")"
   ]
  },
  {
   "cell_type": "code",
   "execution_count": 3,
   "metadata": {},
   "outputs": [
    {
     "name": "stdout",
     "output_type": "stream",
     "text": [
      "Enter 1st number2\n",
      "Enter 2nd number3\n",
      "addition 5\n"
     ]
    }
   ],
   "source": [
    "a=int(input(\"Enter 1st number\"))\n",
    "b=int(input(\"Enter 2nd number\"))\n",
    "print(\"addition\",a+b)"
   ]
  },
  {
   "cell_type": "code",
   "execution_count": 4,
   "metadata": {},
   "outputs": [],
   "source": [
    "from math import sqrt"
   ]
  },
  {
   "cell_type": "code",
   "execution_count": 5,
   "metadata": {},
   "outputs": [
    {
     "name": "stdout",
     "output_type": "stream",
     "text": [
      "Enter a number4\n",
      "Square root 2.0\n"
     ]
    }
   ],
   "source": [
    "a=int(input(\"Enter a number\"))\n",
    "print(\"Square root\",sqrt(a))"
   ]
  },
  {
   "cell_type": "code",
   "execution_count": 6,
   "metadata": {},
   "outputs": [
    {
     "name": "stdout",
     "output_type": "stream",
     "text": [
      "Enter base4\n",
      "Enter height8\n",
      "Area= 16.0\n"
     ]
    }
   ],
   "source": [
    "b=int(input(\"Enter base\"))\n",
    "h=int(input(\"Enter height\"))\n",
    "print(\"Area=\",.5*b*h)"
   ]
  },
  {
   "cell_type": "code",
   "execution_count": 8,
   "metadata": {},
   "outputs": [
    {
     "name": "stdout",
     "output_type": "stream",
     "text": [
      "Quadratic equation= ax^2+bx+c\n",
      "Enter a 4\n",
      "Enter b8\n",
      "Enter c2\n",
      "Roots1 =-4.686291501015239 Root2=-27.31370849898476\n"
     ]
    }
   ],
   "source": [
    "print(\"Quadratic equation= ax^2+bx+c\")\n",
    "a=int(input(\"Enter a \"))\n",
    "b=int(input(\"Enter b\"))\n",
    "c=int(input(\"Enter c\"))\n",
    "r=b**2-4*(a*c)\n",
    "if r>0:\n",
    "    root1=(-(b)+sqrt(r))/2*a\n",
    "    root2=(-(b)-sqrt(r))/2*a\n",
    "    print(f\"Roots1 ={root1} Root2={root2}\")\n",
    "elif r==0:\n",
    "    root=-b/2*a\n",
    "    print(f\"root={root}\")\n",
    "else:\n",
    "    print(\"no roots\")\n"
   ]
  },
  {
   "cell_type": "code",
   "execution_count": 2,
   "metadata": {},
   "outputs": [
    {
     "name": "stdout",
     "output_type": "stream",
     "text": [
      "Enter a=2\n",
      "Enter b=3\n",
      "a=3 b=2\n"
     ]
    }
   ],
   "source": [
    "a=int(input(\"Enter a=\"))\n",
    "b=int(input(\"Enter b=\"))\n",
    "c=a\n",
    "a=b\n",
    "b=c\n",
    "print(f\"a={a} b={b}\")"
   ]
  },
  {
   "cell_type": "code",
   "execution_count": 3,
   "metadata": {},
   "outputs": [],
   "source": [
    "from random import randint"
   ]
  },
  {
   "cell_type": "code",
   "execution_count": 8,
   "metadata": {},
   "outputs": [
    {
     "name": "stdout",
     "output_type": "stream",
     "text": [
      "68\n"
     ]
    }
   ],
   "source": [
    "print(randint(0,100))"
   ]
  },
  {
   "cell_type": "code",
   "execution_count": 11,
   "metadata": {},
   "outputs": [
    {
     "name": "stdout",
     "output_type": "stream",
     "text": [
      "Enter km2\n",
      "Miles=1.242742\n"
     ]
    }
   ],
   "source": [
    "a=int(input(\"Enter km\"))\n",
    "m=0.621371\n",
    "miles=a*m\n",
    "print(f\"Miles={miles}\")"
   ]
  },
  {
   "cell_type": "code",
   "execution_count": 14,
   "metadata": {},
   "outputs": [
    {
     "name": "stdout",
     "output_type": "stream",
     "text": [
      "Enter celsius0\n",
      "Fahrenheit=32.0\n"
     ]
    }
   ],
   "source": [
    "c=int(input(\"Enter celsius\"))\n",
    "f=c*1.8+32\n",
    "print(f\"Fahrenheit={f}\")"
   ]
  },
  {
   "cell_type": "code",
   "execution_count": 15,
   "metadata": {},
   "outputs": [
    {
     "name": "stdout",
     "output_type": "stream",
     "text": [
      "enter a number2\n",
      "2 is positive\n"
     ]
    }
   ],
   "source": [
    "a=int(input(\"enter a number\"))\n",
    "if a>0:\n",
    "    print(f\"{a} is positive\")\n",
    "elif a<0:\n",
    "    print(f\"{a} is negative\")\n",
    "else:\n",
    "    print(f\"{a} is zero\")"
   ]
  },
  {
   "cell_type": "code",
   "execution_count": 19,
   "metadata": {},
   "outputs": [
    {
     "name": "stdout",
     "output_type": "stream",
     "text": [
      "Enter First number1\n",
      "Enter second number5\n",
      "Enter Third number2\n",
      "5\n"
     ]
    }
   ],
   "source": [
    "a=int(input(\"Enter First number\"))\n",
    "b=int(input(\"Enter second number\"))\n",
    "c=int(input(\"Enter Third number\"))\n",
    "if a>b:\n",
    "    if a>c:\n",
    "        print(a)\n",
    "    else:\n",
    "        print(c)\n",
    "else:\n",
    "    if b>c:\n",
    "        print(b)\n",
    "    else:\n",
    "        print(c)"
   ]
  },
  {
   "cell_type": "code",
   "execution_count": 1,
   "metadata": {},
   "outputs": [
    {
     "name": "stdout",
     "output_type": "stream",
     "text": [
      "Enter a number25\n",
      "not prime\n"
     ]
    }
   ],
   "source": [
    "a=int(input(\"Enter a number\"))\n",
    "flag=0\n",
    "for i in range(2,a):\n",
    "    if (a%i)==0:\n",
    "        flag=1\n",
    "if flag==1:\n",
    "    print(\"not prime\")\n",
    "else:\n",
    "    print(\"Prime\")"
   ]
  },
  {
   "cell_type": "code",
   "execution_count": 36,
   "metadata": {},
   "outputs": [
    {
     "name": "stdout",
     "output_type": "stream",
     "text": [
      "Enter range15\n",
      "2\n",
      "3\n",
      "5\n",
      "7\n",
      "11\n",
      "13\n"
     ]
    }
   ],
   "source": [
    "a=int(input(\"Enter range\"))\n",
    "for i in range(2,a):\n",
    "    flag=0\n",
    "    for j in range(2,i):\n",
    "        if (i%j)==0:\n",
    "            flag=1\n",
    "    if flag==0:\n",
    "        print(i)"
   ]
  },
  {
   "cell_type": "code",
   "execution_count": 46,
   "metadata": {},
   "outputs": [
    {
     "name": "stdout",
     "output_type": "stream",
     "text": [
      "Enter number5\n",
      "120\n"
     ]
    }
   ],
   "source": [
    "a=int(input(\"Enter number\"))\n",
    "for i in range(0,a):\n",
    "    if i>0:\n",
    "        a*=i\n",
    "print(a)"
   ]
  },
  {
   "cell_type": "code",
   "execution_count": 49,
   "metadata": {},
   "outputs": [
    {
     "name": "stdout",
     "output_type": "stream",
     "text": [
      "Enter number2\n",
      "2x1=2\n",
      "2x2=4\n",
      "2x3=6\n",
      "2x4=8\n",
      "2x5=10\n",
      "2x6=12\n",
      "2x7=14\n",
      "2x8=16\n",
      "2x9=18\n",
      "2x10=20\n"
     ]
    }
   ],
   "source": [
    "a=int(input(\"Enter number\"))\n",
    "for i in range(1,11):\n",
    "    print(f\"{a}x{i}={a*i}\")"
   ]
  },
  {
   "cell_type": "code",
   "execution_count": 8,
   "metadata": {},
   "outputs": [
    {
     "name": "stdout",
     "output_type": "stream",
     "text": [
      "1\n",
      "1\n",
      "2\n",
      "3\n",
      "5\n",
      "8\n",
      "13\n",
      "21\n"
     ]
    }
   ],
   "source": [
    "b=1\n",
    "c=0\n",
    "print(b)\n",
    "for i in range(7): \n",
    "    a=b+c\n",
    "    print(a)\n",
    "    c=b\n",
    "    b=a"
   ]
  },
  {
   "cell_type": "code",
   "execution_count": 10,
   "metadata": {},
   "outputs": [
    {
     "name": "stdout",
     "output_type": "stream",
     "text": [
      "enetr number153\n",
      "Armstrong\n"
     ]
    }
   ],
   "source": [
    "a=int(input(\"enetr number\"))\n",
    "b=a\n",
    "r=0\n",
    "while b>0:\n",
    "    n=b%10\n",
    "    r+=n**3\n",
    "    b//=10\n",
    "if a==r:\n",
    "    print(\"Armstrong\")\n",
    "else:\n",
    "    print(\"not\")"
   ]
  },
  {
   "cell_type": "code",
   "execution_count": 15,
   "metadata": {},
   "outputs": [
    {
     "name": "stdout",
     "output_type": "stream",
     "text": [
      "enter starting 100\n",
      "Enter ending1000\n",
      "153\n",
      "370\n",
      "371\n",
      "407\n"
     ]
    }
   ],
   "source": [
    "a=int(input(\"enter starting \"))\n",
    "b=int(input(\"Enter ending\"))\n",
    "for i in range(a,b):\n",
    "    r=0\n",
    "    j=i\n",
    "    while i>0:\n",
    "        n=i%10\n",
    "        r+=n**3\n",
    "        i//=10\n",
    "    if r==j:\n",
    "        print(r)"
   ]
  },
  {
   "cell_type": "code",
   "execution_count": 22,
   "metadata": {},
   "outputs": [
    {
     "name": "stdout",
     "output_type": "stream",
     "text": [
      "Enter natural number5\n",
      "15\n"
     ]
    }
   ],
   "source": [
    "a=int(input(\"Enter natural number\"))\n",
    "s=0\n",
    "for i in range(a+1):\n",
    "    s+=i\n",
    "print(s)"
   ]
  },
  {
   "cell_type": "code",
   "execution_count": 28,
   "metadata": {},
   "outputs": [
    {
     "name": "stdout",
     "output_type": "stream",
     "text": [
      "Enter number5\n",
      "1\n",
      "2\n",
      "4\n",
      "8\n",
      "16\n"
     ]
    }
   ],
   "source": [
    "a=int(input(\"Enter number\"))\n",
    "result=list(map(lambda x:2**x ,range(a)))\n",
    "for j in range(a):\n",
    "    print(result[j])"
   ]
  },
  {
   "cell_type": "code",
   "execution_count": 40,
   "metadata": {},
   "outputs": [
    {
     "name": "stdout",
     "output_type": "stream",
     "text": [
      "Enter Another number7\n",
      "56\n",
      "14\n"
     ]
    }
   ],
   "source": [
    "a=[12,24,13,56,36,15,14,27]\n",
    "b=int(input(\"Enter Another number\"))\n",
    "result=list(filter(lambda x:x%b==0,a))\n",
    "for i in range(len(result)):\n",
    "    print(result[i])"
   ]
  },
  {
   "cell_type": "code",
   "execution_count": 1,
   "metadata": {},
   "outputs": [
    {
     "data": {
      "text/plain": [
       "'0b1010'"
      ]
     },
     "execution_count": 1,
     "metadata": {},
     "output_type": "execute_result"
    }
   ],
   "source": [
    "bin(10)"
   ]
  },
  {
   "cell_type": "code",
   "execution_count": 2,
   "metadata": {},
   "outputs": [
    {
     "data": {
      "text/plain": [
       "'0xa'"
      ]
     },
     "execution_count": 2,
     "metadata": {},
     "output_type": "execute_result"
    }
   ],
   "source": [
    "hex(10)"
   ]
  },
  {
   "cell_type": "code",
   "execution_count": 3,
   "metadata": {},
   "outputs": [
    {
     "data": {
      "text/plain": [
       "'0o12'"
      ]
     },
     "execution_count": 3,
     "metadata": {},
     "output_type": "execute_result"
    }
   ],
   "source": [
    "oct(10)"
   ]
  },
  {
   "cell_type": "code",
   "execution_count": 7,
   "metadata": {},
   "outputs": [
    {
     "name": "stdout",
     "output_type": "stream",
     "text": [
      "Enter number117\n",
      "Binary= 0b1110101\n",
      "117\n",
      "Octa= 0o165\n",
      "117\n",
      "Hexa= 0x75\n",
      "117\n"
     ]
    }
   ],
   "source": [
    "a=int(input(\"Enter number\"))\n",
    "b=bin(a)\n",
    "o=oct(a)\n",
    "h=hex(a)\n",
    "print(\"Binary=\",b)\n",
    "print(int(b,2))\n",
    "print(\"Octa=\",o)\n",
    "print(int(o,8))\n",
    "print(\"Hexa=\",h)\n",
    "print(int(h,16))"
   ]
  },
  {
   "cell_type": "code",
   "execution_count": 23,
   "metadata": {},
   "outputs": [
    {
     "name": "stdout",
     "output_type": "stream",
     "text": [
      "Enter character9\n",
      "57\n"
     ]
    }
   ],
   "source": [
    "a=input(\"Enter character\")\n",
    "print(ord(a))"
   ]
  },
  {
   "cell_type": "code",
   "execution_count": 1,
   "metadata": {},
   "outputs": [
    {
     "name": "stdout",
     "output_type": "stream",
     "text": [
      "Enter first number2\n",
      "Enter second number4\n",
      "HCF 2\n"
     ]
    }
   ],
   "source": [
    "a=int(input(\"Enter first number\"))\n",
    "b=int(input(\"Enter second number\"))\n",
    "if a>b:\n",
    "    c=a\n",
    "else:\n",
    "    c=b\n",
    "for i in range(1,c+1):\n",
    "        if (a%i==0) and (b%i==0):\n",
    "            hcf=i\n",
    "print(\"HCF\",hcf)"
   ]
  },
  {
   "cell_type": "code",
   "execution_count": 3,
   "metadata": {},
   "outputs": [
    {
     "name": "stdout",
     "output_type": "stream",
     "text": [
      "Enter first number3\n",
      "Enter second number5\n",
      "Lcm 15\n"
     ]
    }
   ],
   "source": [
    "a=int(input(\"Enter first number\"))\n",
    "b=int(input(\"Enter second number\"))\n",
    "if a>b:\n",
    "    max1=a\n",
    "else:\n",
    "    max1=b\n",
    "while True:\n",
    "    if (max1%a==0) and (max1%b==0):\n",
    "        print(\"Lcm\",max1)\n",
    "        break\n",
    "    max1+=1"
   ]
  },
  {
   "cell_type": "code",
   "execution_count": 6,
   "metadata": {},
   "outputs": [
    {
     "name": "stdout",
     "output_type": "stream",
     "text": [
      "Enter number320\n",
      "1\n",
      "2\n",
      "4\n",
      "5\n",
      "8\n",
      "10\n",
      "16\n",
      "20\n",
      "32\n",
      "40\n",
      "64\n",
      "80\n",
      "160\n",
      "320\n"
     ]
    }
   ],
   "source": [
    "a=int(input(\"Enter number\"))\n",
    "for i in range(1,a+1):\n",
    "    if a%i==0:    \n",
    "        print(i)"
   ]
  },
  {
   "cell_type": "code",
   "execution_count": 14,
   "metadata": {},
   "outputs": [
    {
     "name": "stdout",
     "output_type": "stream",
     "text": [
      "Enter first number3\n",
      "Enter second number4\n",
      "1.add \n",
      " 2.sub \n",
      " 3.mul \n",
      " 4.div \n",
      "2\n",
      "-1\n"
     ]
    }
   ],
   "source": [
    "a=int(input(\"Enter first number\"))\n",
    "b=int(input(\"Enter second number\"))\n",
    "c=int(input(\"1.add \\n 2.sub \\n 3.mul \\n 4.div \\n\"))\n",
    "if c==1:\n",
    "    print(a+b)\n",
    "elif c==2:\n",
    "    print(a-b)\n",
    "elif c==3:\n",
    "    print(a*b)\n",
    "elif c==4:\n",
    "    print(a/b)"
   ]
  },
  {
   "cell_type": "code",
   "execution_count": 2,
   "metadata": {},
   "outputs": [],
   "source": [
    "import random"
   ]
  },
  {
   "cell_type": "code",
   "execution_count": 4,
   "metadata": {},
   "outputs": [],
   "source": [
    "random.shuffle?"
   ]
  },
  {
   "cell_type": "code",
   "execution_count": null,
   "metadata": {},
   "outputs": [],
   "source": []
  }
 ],
 "metadata": {
  "kernelspec": {
   "display_name": "Python 3",
   "language": "python",
   "name": "python3"
  },
  "language_info": {
   "codemirror_mode": {
    "name": "ipython",
    "version": 3
   },
   "file_extension": ".py",
   "mimetype": "text/x-python",
   "name": "python",
   "nbconvert_exporter": "python",
   "pygments_lexer": "ipython3",
   "version": "3.7.3"
  }
 },
 "nbformat": 4,
 "nbformat_minor": 2
}
