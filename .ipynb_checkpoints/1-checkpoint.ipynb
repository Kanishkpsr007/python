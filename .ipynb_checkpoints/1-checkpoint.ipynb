{
 "cells": [
  {
   "cell_type": "code",
   "execution_count": 1,
   "metadata": {},
   "outputs": [
    {
     "name": "stdout",
     "output_type": "stream",
     "text": [
      "Enter length of list5\n",
      "Enter number2\n",
      "Enter number21\n",
      "Enter number3\n",
      "Enter number4\n",
      "Enter number22\n",
      "[2, 21, 3, 4, 22]\n",
      "Enter number to count2\n",
      "4\n"
     ]
    }
   ],
   "source": [
    "ln=int(input(\"Enter length of list\"))\n",
    "k=0\n",
    "l=[]\n",
    "while k<ln:\n",
    "    l.append(int(input(\"Enter number\")))\n",
    "    k+=1\n",
    "print(l)\n",
    "b=int(input(\"Enter number to count\"))\n",
    "i=0\n",
    "c=0\n",
    "while i<len(l):\n",
    "    while l[i]>0:\n",
    "        a=l[i]%10\n",
    "        l[i]//=10\n",
    "        if a==b:\n",
    "            c+=1\n",
    "    i+=1\n",
    "print(c)\n",
    "        "
   ]
  },
  {
   "cell_type": "markdown",
   "metadata": {},
   "source": []
  },
  {
   "cell_type": "code",
   "execution_count": 35,
   "metadata": {},
   "outputs": [
    {
     "name": "stdout",
     "output_type": "stream",
     "text": [
      "Enter a stringABCD\n",
      "Enter a characterC\n",
      "ABCCD\n"
     ]
    }
   ],
   "source": [
    "l=input(\"Enter a string\")\n",
    "l1=list(l)\n",
    "a=input(\"Enter a character\")\n",
    "i=0\n",
    "while i<len(l1):\n",
    "    if a==l1[i]:\n",
    "        if i==0:\n",
    "            l1.append(a)\n",
    "            break\n",
    "        else:\n",
    "            l1.insert((~i)+1,a)\n",
    "            break\n",
    "    i+=1\n",
    "print(''.join(l1))"
   ]
  },
  {
   "cell_type": "code",
   "execution_count": 17,
   "metadata": {},
   "outputs": [
    {
     "name": "stdout",
     "output_type": "stream",
     "text": [
      "Enter list of number1,22,23,34,56,2\n",
      "Enter number to count2\n",
      "4\n"
     ]
    }
   ],
   "source": [
    "l=input(\"Enter list of number\").split(',')\n",
    "l1=''.join(l)\n",
    "a=input(\"Enter number to count\")\n",
    "print(l1.count(a))"
   ]
  },
  {
   "cell_type": "code",
   "execution_count": 4,
   "metadata": {},
   "outputs": [
    {
     "name": "stdout",
     "output_type": "stream",
     "text": [
      "Enter a stringabcd\n",
      "Enter a charactera\n",
      "abcda\n"
     ]
    }
   ],
   "source": [
    "l=input(\"Enter a string\")\n",
    "a=input(\"Enter a character\")\n",
    "l1=list(l)\n",
    "i=0\n",
    "while i<len(l1):\n",
    "    if l[i]==a:\n",
    "        j=i\n",
    "    i+=1\n",
    "l1.reverse()\n",
    "l1.insert(j,a)\n",
    "l1.reverse()\n",
    "print(''.join(l1))"
   ]
  },
  {
   "cell_type": "code",
   "execution_count": null,
   "metadata": {},
   "outputs": [],
   "source": []
  }
 ],
 "metadata": {
  "kernelspec": {
   "display_name": "Python 3",
   "language": "python",
   "name": "python3"
  },
  "language_info": {
   "codemirror_mode": {
    "name": "ipython",
    "version": 3
   },
   "file_extension": ".py",
   "mimetype": "text/x-python",
   "name": "python",
   "nbconvert_exporter": "python",
   "pygments_lexer": "ipython3",
   "version": "3.7.3"
  }
 },
 "nbformat": 4,
 "nbformat_minor": 2
}
